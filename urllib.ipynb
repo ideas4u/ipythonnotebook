{
 "cells": [
  {
   "cell_type": "code",
   "execution_count": 14,
   "metadata": {
    "collapsed": true
   },
   "outputs": [],
   "source": [
    "import urllib.request\n",
    "import urllib.parse"
   ]
  },
  {
   "cell_type": "code",
   "execution_count": 18,
   "metadata": {
    "collapsed": false
   },
   "outputs": [
    {
     "name": "stdout",
     "output_type": "stream",
     "text": [
      "'bytes' object has no attribute 'encode'\n"
     ]
    }
   ],
   "source": [
    "#link = 'http://www.baidu.com'\n",
    "#x =urllib.request.urlopen(link,data=None,)\n",
    "#print(x.read())\n",
    "''''\n",
    "url = 'http://pythonprogramming.net'\n",
    "values = {\"s\":\"basic\",\n",
    "         'submit':'search'}\n",
    "data = urllib.parse.urlencode(values)\n",
    "data = data.encode('utf-8')\n",
    "req = urllib.request.Request(url,data)\n",
    "resp = urllib.request.urlopen(req)\n",
    "respData = resp.read()\n",
    "\n",
    "print(respData)\n",
    "'''\n",
    "try:\n",
    "    x = urllib.request.urlopen('https://www.baidu.com/search?q=test')\n",
    "    \n",
    "    print(x.read())\n",
    "except Exception as e:\n",
    "    print(str(e))\n",
    "    \n",
    "try:\n",
    "    url = 'https://www.baidu.com/search?q=test'\n",
    "    headers = {}\n",
    "    headers['User-Agent'] = ''"
   ]
  },
  {
   "cell_type": "code",
   "execution_count": null,
   "metadata": {
    "collapsed": true
   },
   "outputs": [],
   "source": []
  }
 ],
 "metadata": {
  "kernelspec": {
   "display_name": "Python 3",
   "language": "python",
   "name": "python3"
  },
  "language_info": {
   "codemirror_mode": {
    "name": "ipython",
    "version": 3
   },
   "file_extension": ".py",
   "mimetype": "text/x-python",
   "name": "python",
   "nbconvert_exporter": "python",
   "pygments_lexer": "ipython3",
   "version": "3.4.3"
  }
 },
 "nbformat": 4,
 "nbformat_minor": 0
}
