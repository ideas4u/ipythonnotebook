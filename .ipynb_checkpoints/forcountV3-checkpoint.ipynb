{
 "cells": [
  {
   "cell_type": "code",
   "execution_count": 2,
   "metadata": {
    "collapsed": true
   },
   "outputs": [],
   "source": [
    "\n",
    "import os\n",
    "import pandas as pd\n",
    "import numpy as np\n",
    "from pandas import Series, DataFrame\n",
    "#from pandas import ExcelWriter\n",
    "#from pandas import ExcelFile"
   ]
  },
  {
   "cell_type": "code",
   "execution_count": 63,
   "metadata": {
    "collapsed": true
   },
   "outputs": [],
   "source": [
    "workingDir = 'F:\\\\2015年\\\\客户工程\\\\考核\\\\0819' #定义工作目录\n",
    "os.chdir(workingDir)"
   ]
  },
  {
   "cell_type": "code",
   "execution_count": 64,
   "metadata": {
    "collapsed": true
   },
   "outputs": [],
   "source": [
    "\"\"\"get the 2013 data from arigine table.\"\"\"\n",
    "file2013 = '项目计划进度和实际进度对比统计表2013-2014-8.17.xlsx'\n",
    "file2013sheetname = '2014年项目进度8.17'\n",
    "yanshoudf = pd.read_excel(file2013,sheetname=file2013sheetname)\n"
   ]
  },
  {
   "cell_type": "code",
   "execution_count": 65,
   "metadata": {
    "collapsed": false
   },
   "outputs": [
    {
     "data": {
      "text/plain": [
       "Index(['序号', '项目名称', '项目编码', '需求单位', '建设单位', '建设部门', '一级专业', '立项编制人', '项目经理',\n",
       "       '管理属性', '工程进度', '立项提交时间', '实际立项批复时间', '计划立项批复时间', '立项批复总投资',\n",
       "       '立项批复本年CAPEX', '可研提交时间', '实际可研批复时间', '计划可研批复时间', '实际提交采购时间', '计划提交采购时间',\n",
       "       '实际合同小签时间', '计划合同小签时间', '实际合同大签时间', '计划合同大签时间', '实际到货时间', '计划到货时间',\n",
       "       '实际开工时间', '计划开工时间', '设计提交时间', '实际设计批复时间', '计划设计批复时间', '设计批复总投资',\n",
       "       '设计批复本年CAPEX', '实际初验时间', '计划初验时间', '实际资产暂估时间', '计划资产暂估时间', '实际终验时间',\n",
       "       '计划终验时间', '实际决算审计完成时间', '计划决算审计完成时间', '实际决算上报时间', '计划决算上报时间',\n",
       "       '实际决算批复及固定资产调整时间', '计划决算批复及固定资产调整时间'],\n",
       "      dtype='object')"
      ]
     },
     "execution_count": 65,
     "metadata": {},
     "output_type": "execute_result"
    }
   ],
   "source": [
    "yanshoudf.columns"
   ]
  },
  {
   "cell_type": "code",
   "execution_count": 66,
   "metadata": {
    "collapsed": false
   },
   "outputs": [],
   "source": [
    "df1 = yanshoudf[yanshoudf['实际终验时间'] <= '20150715']\n",
    "df2 = yanshoudf[yanshoudf['实际初验时间'] <= '20150715']\n",
    "df = pd.concat([df1,df2], join='outer')\n",
    "#df.to_excel('F:\\\\含重复.xlsx')\n",
    "df = df.drop_duplicates()\n",
    "df.to_excel('F:\\\\2015年\\\\客户工程\\\\考核\\\\0819\\\\验收超30天2014.xlsx')"
   ]
  },
  {
   "cell_type": "code",
   "execution_count": 74,
   "metadata": {
    "collapsed": true
   },
   "outputs": [],
   "source": [
    "\"\"\"define the valuable \"\"\"\n",
    "excelFile = '2015年结算送审及时率.xlsx'\n",
    "openSheetName = '结算送审数据'\n",
    "jieshu_data = pd.read_excel(excelFile,sheetname=openSheetName)\n",
    "jieshu_data.index = jieshu_data['项目编码']  #change the index of the dataframe\n"
   ]
  },
  {
   "cell_type": "code",
   "execution_count": 75,
   "metadata": {
    "collapsed": false
   },
   "outputs": [],
   "source": [
    "\"\"\"anothe excel file to be open\n",
    "and define the valuable \"\"\"\n",
    "anotherOpenSheetName = '验收超30天项目'\n",
    "project_data = pd.read_excel(excelFile,sheetname=anotherOpenSheetName)\n",
    "project_data.index = project_data['项目编码'] #change the index of the dataframe"
   ]
  },
  {
   "cell_type": "code",
   "execution_count": 76,
   "metadata": {
    "collapsed": true
   },
   "outputs": [],
   "source": [
    "result = pd.merge(project_data,jieshu_data,how='left',on ='项目编码') #join the two dataframe"
   ]
  },
  {
   "cell_type": "code",
   "execution_count": 77,
   "metadata": {
    "collapsed": true
   },
   "outputs": [],
   "source": [
    "grouped_base = result.groupby('建设单位') # groupby the jioned dataframe.\n",
    "countGroupedBase = grouped_base.count()  # and use the count method to the groupbyed dataframe."
   ]
  },
  {
   "cell_type": "code",
   "execution_count": 78,
   "metadata": {
    "collapsed": true
   },
   "outputs": [],
   "source": [
    "selet_result = result[result['结算送审数/需结算送审数%']==1] # selete the data  of 送审比率 that all == 1 "
   ]
  },
  {
   "cell_type": "code",
   "execution_count": 79,
   "metadata": {
    "collapsed": true
   },
   "outputs": [],
   "source": [
    "grouped = selet_result.groupby('建设单位') # the selete dataframe to groupby.\n",
    "countGrouped = grouped.count()  # use the count method to  the groupbyed dataframe."
   ]
  },
  {
   "cell_type": "code",
   "execution_count": 80,
   "metadata": {
    "collapsed": false
   },
   "outputs": [
    {
     "data": {
      "text/html": [
       "<div>\n",
       "<table border=\"1\" class=\"dataframe\">\n",
       "  <thead>\n",
       "    <tr style=\"text-align: right;\">\n",
       "      <th></th>\n",
       "      <th>需求单位_x</th>\n",
       "      <th>结算送审数/需结算送审数%_y</th>\n",
       "      <th>送审及时率</th>\n",
       "    </tr>\n",
       "    <tr>\n",
       "      <th>建设单位</th>\n",
       "      <th></th>\n",
       "      <th></th>\n",
       "      <th></th>\n",
       "    </tr>\n",
       "  </thead>\n",
       "  <tbody>\n",
       "    <tr>\n",
       "      <th>东莞分公司</th>\n",
       "      <td>33</td>\n",
       "      <td>10</td>\n",
       "      <td>0.303030</td>\n",
       "    </tr>\n",
       "    <tr>\n",
       "      <th>中山分公司</th>\n",
       "      <td>22</td>\n",
       "      <td>2</td>\n",
       "      <td>0.090909</td>\n",
       "    </tr>\n",
       "    <tr>\n",
       "      <th>云浮分公司</th>\n",
       "      <td>4</td>\n",
       "      <td>0</td>\n",
       "      <td>0.000000</td>\n",
       "    </tr>\n",
       "    <tr>\n",
       "      <th>佛山分公司</th>\n",
       "      <td>11</td>\n",
       "      <td>9</td>\n",
       "      <td>0.818182</td>\n",
       "    </tr>\n",
       "    <tr>\n",
       "      <th>广州分公司</th>\n",
       "      <td>176</td>\n",
       "      <td>117</td>\n",
       "      <td>0.664773</td>\n",
       "    </tr>\n",
       "    <tr>\n",
       "      <th>揭阳分公司</th>\n",
       "      <td>5</td>\n",
       "      <td>1</td>\n",
       "      <td>0.200000</td>\n",
       "    </tr>\n",
       "    <tr>\n",
       "      <th>梅州分公司</th>\n",
       "      <td>4</td>\n",
       "      <td>1</td>\n",
       "      <td>0.250000</td>\n",
       "    </tr>\n",
       "    <tr>\n",
       "      <th>汕头分公司</th>\n",
       "      <td>14</td>\n",
       "      <td>0</td>\n",
       "      <td>0.000000</td>\n",
       "    </tr>\n",
       "    <tr>\n",
       "      <th>汕尾分公司</th>\n",
       "      <td>1</td>\n",
       "      <td>0</td>\n",
       "      <td>0.000000</td>\n",
       "    </tr>\n",
       "    <tr>\n",
       "      <th>江门分公司</th>\n",
       "      <td>8</td>\n",
       "      <td>3</td>\n",
       "      <td>0.375000</td>\n",
       "    </tr>\n",
       "    <tr>\n",
       "      <th>河源分公司</th>\n",
       "      <td>2</td>\n",
       "      <td>1</td>\n",
       "      <td>0.500000</td>\n",
       "    </tr>\n",
       "    <tr>\n",
       "      <th>深圳分公司</th>\n",
       "      <td>150</td>\n",
       "      <td>6</td>\n",
       "      <td>0.040000</td>\n",
       "    </tr>\n",
       "    <tr>\n",
       "      <th>清远分公司</th>\n",
       "      <td>2</td>\n",
       "      <td>0</td>\n",
       "      <td>0.000000</td>\n",
       "    </tr>\n",
       "    <tr>\n",
       "      <th>湛江分公司</th>\n",
       "      <td>7</td>\n",
       "      <td>2</td>\n",
       "      <td>0.285714</td>\n",
       "    </tr>\n",
       "    <tr>\n",
       "      <th>潮州分公司</th>\n",
       "      <td>4</td>\n",
       "      <td>0</td>\n",
       "      <td>0.000000</td>\n",
       "    </tr>\n",
       "    <tr>\n",
       "      <th>珠海分公司</th>\n",
       "      <td>9</td>\n",
       "      <td>0</td>\n",
       "      <td>0.000000</td>\n",
       "    </tr>\n",
       "    <tr>\n",
       "      <th>肇庆分公司</th>\n",
       "      <td>5</td>\n",
       "      <td>0</td>\n",
       "      <td>0.000000</td>\n",
       "    </tr>\n",
       "    <tr>\n",
       "      <th>韶关分公司</th>\n",
       "      <td>2</td>\n",
       "      <td>0</td>\n",
       "      <td>0.000000</td>\n",
       "    </tr>\n",
       "  </tbody>\n",
       "</table>\n",
       "</div>"
      ],
      "text/plain": [
       "       需求单位_x  结算送审数/需结算送审数%_y     送审及时率\n",
       "建设单位                                    \n",
       "东莞分公司      33               10  0.303030\n",
       "中山分公司      22                2  0.090909\n",
       "云浮分公司       4                0  0.000000\n",
       "佛山分公司      11                9  0.818182\n",
       "广州分公司     176              117  0.664773\n",
       "揭阳分公司       5                1  0.200000\n",
       "梅州分公司       4                1  0.250000\n",
       "汕头分公司      14                0  0.000000\n",
       "汕尾分公司       1                0  0.000000\n",
       "江门分公司       8                3  0.375000\n",
       "河源分公司       2                1  0.500000\n",
       "深圳分公司     150                6  0.040000\n",
       "清远分公司       2                0  0.000000\n",
       "湛江分公司       7                2  0.285714\n",
       "潮州分公司       4                0  0.000000\n",
       "珠海分公司       9                0  0.000000\n",
       "肇庆分公司       5                0  0.000000\n",
       "韶关分公司       2                0  0.000000"
      ]
     },
     "execution_count": 80,
     "metadata": {},
     "output_type": "execute_result"
    }
   ],
   "source": [
    "finalResult = pd.merge(countGroupedBase,countGrouped,how='left',left_index=True, right_index=True)  # join the two groupbyed that has use the count method.\n",
    "finalResult = finalResult[['需求单位_x','结算送审数/需结算送审数%_y']]  # select the two columns that needed.\n",
    "finalResult = finalResult.fillna(0)  # fill the NAN with 0\n",
    "finalResultName = ['需求单位_x', '结算送审数/需结算送审数%_y','送审及时率']  # new columns name. add a new column that named 送审及时率\n",
    "finalResult = finalResult.reindex(columns=finalResultName)  # reindex the columns name .\n",
    "finalResult['送审及时率'] = finalResult['结算送审数/需结算送审数%_y']/finalResult['需求单位_x']  # asinge the 送审及时率 column .\n",
    "finalResult['送审及时率'] = finalResult['送审及时率']*100/100\n",
    "sumOfFinalREsult = finalResult[['需求单位_x','结算送审数/需结算送审数%_y']].sum() #sum the columns of 需求单位 and 结算送审数/需结算送审数。\n",
    "totalproject = sumOfFinalREsult['需求单位_x']\n",
    "songshencomplite = sumOfFinalREsult['结算送审数/需结算送审数%_y']\n",
    "songshencomplite\n",
    "songshenjishirate = songshencomplite / totalproject\n",
    "songshenjishirate\n",
    "finalResult.to_excel('outFileResult2015.xlsx')\n",
    "finalResult"
   ]
  },
  {
   "cell_type": "code",
   "execution_count": null,
   "metadata": {
    "collapsed": true
   },
   "outputs": [],
   "source": []
  },
  {
   "cell_type": "code",
   "execution_count": null,
   "metadata": {
    "collapsed": true
   },
   "outputs": [],
   "source": []
  }
 ],
 "metadata": {
  "kernelspec": {
   "display_name": "Python 3",
   "language": "python",
   "name": "python3"
  },
  "language_info": {
   "codemirror_mode": {
    "name": "ipython",
    "version": 3
   },
   "file_extension": ".py",
   "mimetype": "text/x-python",
   "name": "python",
   "nbconvert_exporter": "python",
   "pygments_lexer": "ipython3",
   "version": "3.4.3"
  }
 },
 "nbformat": 4,
 "nbformat_minor": 0
}
