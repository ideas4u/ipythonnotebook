{
 "cells": [
  {
   "cell_type": "code",
   "execution_count": 1,
   "metadata": {
    "collapsed": true
   },
   "outputs": [],
   "source": [
    "import tushare as ts\n",
    "import pandas as pd\n",
    "\n",
    "def get_code():\n",
    "    #get all of the China share of code and name,return a dataframe.\n",
    "    return ts.get_today_all()[['code','name']]\n",
    "\n",
    "def get_hist_data(codelist,number,startdate='2015-08-01',enddate='2015-09-22'):\n",
    "    #get the history data of the share which story in the codelist.and return a dict.\n",
    "    #get #number bars.reacent # bars.\n",
    "    hist_data = {}\n",
    "    for item in codelist:\n",
    "        hist_data[item] = ts.get_hist_data(item,start =startdate,end=enddate).tail(number)\n",
    "    return hist_data\n",
    "\n",
    "def get_bar_of_number(number,hist_data):\n",
    "    # get the number bar of the df:hist_data.\n",
    "    return hist_data.tail(number)\n",
    "\n",
    "def find_low_index(df):\n",
    "    # return the index in str type which is datatime index.\n",
    "    return df['low'].idxmin()\n",
    "\n"
   ]
  },
  {
   "cell_type": "code",
   "execution_count": 2,
   "metadata": {
    "collapsed": false
   },
   "outputs": [
    {
     "name": "stdout",
     "output_type": "stream",
     "text": [
      "start get the code\n",
      "[Getting data:]#####################################get the code done\n"
     ]
    }
   ],
   "source": [
    "\n",
    "print('start get the code')\n",
    "code_number_all = get_code()\n",
    "print('get the code done')\n"
   ]
  },
  {
   "cell_type": "code",
   "execution_count": 3,
   "metadata": {
    "collapsed": false
   },
   "outputs": [
    {
     "data": {
      "text/html": [
       "<div>\n",
       "<table border=\"1\" class=\"dataframe\">\n",
       "  <thead>\n",
       "    <tr style=\"text-align: right;\">\n",
       "      <th></th>\n",
       "      <th>code</th>\n",
       "      <th>name</th>\n",
       "    </tr>\n",
       "  </thead>\n",
       "  <tbody>\n",
       "    <tr>\n",
       "      <th>2290</th>\n",
       "      <td>002425</td>\n",
       "      <td>凯撒股份</td>\n",
       "    </tr>\n",
       "    <tr>\n",
       "      <th>2291</th>\n",
       "      <td>300011</td>\n",
       "      <td>鼎汉技术</td>\n",
       "    </tr>\n",
       "    <tr>\n",
       "      <th>2292</th>\n",
       "      <td>603017</td>\n",
       "      <td>中衡设计</td>\n",
       "    </tr>\n",
       "    <tr>\n",
       "      <th>2293</th>\n",
       "      <td>300287</td>\n",
       "      <td>飞利信</td>\n",
       "    </tr>\n",
       "    <tr>\n",
       "      <th>2294</th>\n",
       "      <td>600609</td>\n",
       "      <td>金杯汽车</td>\n",
       "    </tr>\n",
       "  </tbody>\n",
       "</table>\n",
       "</div>"
      ],
      "text/plain": [
       "        code  name\n",
       "2290  002425  凯撒股份\n",
       "2291  300011  鼎汉技术\n",
       "2292  603017  中衡设计\n",
       "2293  300287   飞利信\n",
       "2294  600609  金杯汽车"
      ]
     },
     "execution_count": 3,
     "metadata": {},
     "output_type": "execute_result"
    }
   ],
   "source": [
    "code_number_all.tail()"
   ]
  },
  {
   "cell_type": "code",
   "execution_count": null,
   "metadata": {
    "collapsed": false
   },
   "outputs": [
    {
     "name": "stdout",
     "output_type": "stream",
     "text": [
      "start get the history data\n",
      "get history data done.to_index is: 50\n",
      "start find the share.\n",
      "002162\n",
      "600592\n",
      "002364\n",
      "002118\n",
      "000965\n",
      "300352\n",
      "find one share\n",
      "600712\n",
      "601001\n",
      "002084\n",
      "601890\n",
      "300368\n",
      "600415\n",
      "002126\n",
      "300439\n",
      "600477\n",
      "600287\n",
      "600678\n",
      "000791\n",
      "300489\n",
      "000552\n",
      "600800\n",
      "300451\n",
      "600680\n",
      "600184\n",
      "002734\n",
      "601908\n",
      "600361\n",
      "600727\n",
      "603026\n",
      "300254\n",
      "600725\n",
      "002414\n",
      "603300\n",
      "300350\n",
      "300404\n",
      "600225\n",
      "600650\n",
      "002269\n",
      "000615\n",
      "000034\n",
      "600105\n",
      "300001\n",
      "600855\n",
      "000025\n",
      "600508\n",
      "002523\n",
      "002691\n",
      "002067\n",
      "600149\n",
      "600559\n",
      "['300352']\n",
      "timed out"
     ]
    }
   ],
   "source": [
    "hist_data = {}\n",
    "selected_code = []\n",
    "print('start get the history data')\n",
    "from_index = 0\n",
    "to_index = 50\n",
    "for i in range(45):\n",
    "    hist_data = get_hist_data(code_number_all.code[from_index:to_index],10)\n",
    "    print('get history data done.to_index is:',to_index)\n",
    "    from_index = from_index + 50\n",
    "    to_index = to_index + 50\n",
    "\n",
    "    print('start find the share.')\n",
    "    for key in hist_data:\n",
    "        print(key)\n",
    "        if hist_data[key].empty:\n",
    "            continue\n",
    "        if find_low_index(hist_data[key]) == '2015-09-22':\n",
    "            selected_code.append(key)\n",
    "            print('find one share')\n",
    "    print(selected_code)\n",
    "print(selected_code)\n",
    "print('done')"
   ]
  },
  {
   "cell_type": "code",
   "execution_count": 6,
   "metadata": {
    "collapsed": false
   },
   "outputs": [
    {
     "data": {
      "text/plain": [
       "'0.3.8'"
      ]
     },
     "execution_count": 6,
     "metadata": {},
     "output_type": "execute_result"
    }
   ],
   "source": [
    "ts.__version__\n"
   ]
  }
 ],
 "metadata": {
  "kernelspec": {
   "display_name": "Python 3",
   "language": "python",
   "name": "python3"
  },
  "language_info": {
   "codemirror_mode": {
    "name": "ipython",
    "version": 3
   },
   "file_extension": ".py",
   "mimetype": "text/x-python",
   "name": "python",
   "nbconvert_exporter": "python",
   "pygments_lexer": "ipython3",
   "version": "3.4.3"
  }
 },
 "nbformat": 4,
 "nbformat_minor": 0
}
