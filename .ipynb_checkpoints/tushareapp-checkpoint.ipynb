{
 "cells": [
  {
   "cell_type": "code",
   "execution_count": 24,
   "metadata": {
    "collapsed": false
   },
   "outputs": [],
   "source": [
    "import tushare as ts\n",
    "import pandas as pd"
   ]
  },
  {
   "cell_type": "code",
   "execution_count": 22,
   "metadata": {
    "collapsed": false
   },
   "outputs": [
    {
     "name": "stdout",
     "output_type": "stream",
     "text": [
      "[Getting data:]#####################################"
     ]
    },
    {
     "data": {
      "text/html": [
       "<div>\n",
       "<table border=\"1\" class=\"dataframe\">\n",
       "  <thead>\n",
       "    <tr style=\"text-align: right;\">\n",
       "      <th></th>\n",
       "      <th>code</th>\n",
       "      <th>name</th>\n",
       "      <th>changepercent</th>\n",
       "      <th>trade</th>\n",
       "      <th>open</th>\n",
       "      <th>high</th>\n",
       "      <th>low</th>\n",
       "      <th>settlement</th>\n",
       "      <th>volume</th>\n",
       "      <th>turnoverratio</th>\n",
       "    </tr>\n",
       "  </thead>\n",
       "  <tbody>\n",
       "    <tr>\n",
       "      <th>0</th>\n",
       "      <td>600743</td>\n",
       "      <td>华远地产</td>\n",
       "      <td>10.103</td>\n",
       "      <td>5.34</td>\n",
       "      <td>4.81</td>\n",
       "      <td>5.34</td>\n",
       "      <td>4.75</td>\n",
       "      <td>4.85</td>\n",
       "      <td>23704696</td>\n",
       "      <td>1.30413</td>\n",
       "    </tr>\n",
       "    <tr>\n",
       "      <th>1</th>\n",
       "      <td>600368</td>\n",
       "      <td>五洲交通</td>\n",
       "      <td>10.099</td>\n",
       "      <td>5.56</td>\n",
       "      <td>4.96</td>\n",
       "      <td>5.56</td>\n",
       "      <td>4.90</td>\n",
       "      <td>5.05</td>\n",
       "      <td>32633143</td>\n",
       "      <td>3.91378</td>\n",
       "    </tr>\n",
       "    <tr>\n",
       "      <th>2</th>\n",
       "      <td>600127</td>\n",
       "      <td>金健米业</td>\n",
       "      <td>10.090</td>\n",
       "      <td>6.11</td>\n",
       "      <td>5.45</td>\n",
       "      <td>6.11</td>\n",
       "      <td>5.40</td>\n",
       "      <td>5.55</td>\n",
       "      <td>31127823</td>\n",
       "      <td>5.71720</td>\n",
       "    </tr>\n",
       "    <tr>\n",
       "      <th>3</th>\n",
       "      <td>002288</td>\n",
       "      <td>超华科技</td>\n",
       "      <td>10.081</td>\n",
       "      <td>6.77</td>\n",
       "      <td>6.02</td>\n",
       "      <td>6.77</td>\n",
       "      <td>6.00</td>\n",
       "      <td>6.15</td>\n",
       "      <td>27972474</td>\n",
       "      <td>4.52990</td>\n",
       "    </tr>\n",
       "    <tr>\n",
       "      <th>4</th>\n",
       "      <td>002487</td>\n",
       "      <td>大金重工</td>\n",
       "      <td>10.078</td>\n",
       "      <td>7.10</td>\n",
       "      <td>6.43</td>\n",
       "      <td>7.10</td>\n",
       "      <td>6.37</td>\n",
       "      <td>6.45</td>\n",
       "      <td>17735846</td>\n",
       "      <td>3.28442</td>\n",
       "    </tr>\n",
       "  </tbody>\n",
       "</table>\n",
       "</div>"
      ],
      "text/plain": [
       "     code  name  changepercent  trade  open  high   low  settlement    volume  \\\n",
       "0  600743  华远地产         10.103   5.34  4.81  5.34  4.75        4.85  23704696   \n",
       "1  600368  五洲交通         10.099   5.56  4.96  5.56  4.90        5.05  32633143   \n",
       "2  600127  金健米业         10.090   6.11  5.45  6.11  5.40        5.55  31127823   \n",
       "3  002288  超华科技         10.081   6.77  6.02  6.77  6.00        6.15  27972474   \n",
       "4  002487  大金重工         10.078   7.10  6.43  7.10  6.37        6.45  17735846   \n",
       "\n",
       "   turnoverratio  \n",
       "0        1.30413  \n",
       "1        3.91378  \n",
       "2        5.71720  \n",
       "3        4.52990  \n",
       "4        3.28442  "
      ]
     },
     "execution_count": 22,
     "metadata": {},
     "output_type": "execute_result"
    }
   ],
   "source": [
    "share_data_all = ts.get_today_all() # \n",
    "share_data_all.head()"
   ]
  },
  {
   "cell_type": "code",
   "execution_count": 26,
   "metadata": {
    "collapsed": false
   },
   "outputs": [],
   "source": [
    "# all share data of today,columns name : code name changepercent trade open high low \n",
    "share_data_all\n",
    "code_all = share_data_all[['code','name']] \n",
    "code_all.head()\n",
    "code_all.to_excel('G:\\\\test\\\\allsharecode.xlsx',sheet_name='Sheet1')\n",
    "##for item in code_all:\n",
    "    \n",
    "##    if i < 20 :\n",
    "##        print(i+1,\":\",item)\n",
    "##    i = i + 1\n",
    "\n",
    "\n",
    "    "
   ]
  },
  {
   "cell_type": "code",
   "execution_count": 28,
   "metadata": {
    "collapsed": true
   },
   "outputs": [],
   "source": [
    "def getCode():\n",
    "    return ts.get_today_all()[['code','name']]"
   ]
  },
  {
   "cell_type": "code",
   "execution_count": 29,
   "metadata": {
    "collapsed": false
   },
   "outputs": [
    {
     "name": "stdout",
     "output_type": "stream",
     "text": [
      "[Getting data:]#####################################"
     ]
    }
   ],
   "source": [
    "codeNumberAll = getCode()"
   ]
  },
  {
   "cell_type": "code",
   "execution_count": 27,
   "metadata": {
    "collapsed": false
   },
   "outputs": [
    {
     "data": {
      "text/plain": [
       "0    600743\n",
       "1    600368\n",
       "2    600127\n",
       "3    002288\n",
       "4    002487\n",
       "Name: code, dtype: object"
      ]
     },
     "execution_count": 27,
     "metadata": {},
     "output_type": "execute_result"
    }
   ],
   "source": [
    "codeNumberAll.head()"
   ]
  }
 ],
 "metadata": {
  "kernelspec": {
   "display_name": "Python 3",
   "language": "python",
   "name": "python3"
  },
  "language_info": {
   "codemirror_mode": {
    "name": "ipython",
    "version": 3
   },
   "file_extension": ".py",
   "mimetype": "text/x-python",
   "name": "python",
   "nbconvert_exporter": "python",
   "pygments_lexer": "ipython3",
   "version": "3.4.3"
  }
 },
 "nbformat": 4,
 "nbformat_minor": 0
}
