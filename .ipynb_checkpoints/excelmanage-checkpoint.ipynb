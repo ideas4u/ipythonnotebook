{
 "cells": [
  {
   "cell_type": "code",
   "execution_count": 14,
   "metadata": {
    "collapsed": false
   },
   "outputs": [
    {
     "data": {
      "text/plain": [
       "'F:\\\\2015年\\\\客户工程\\\\光改\\\\bigdatecoming_光改周报\\\\分公司日报\\\\819'"
      ]
     },
     "execution_count": 14,
     "metadata": {},
     "output_type": "execute_result"
    }
   ],
   "source": [
    "# -*- coding: utf-8 -*-\n",
    "import pandas as pd\n",
    "import numpy as np\n",
    "import os\n",
    "from datetime import timedelta, date, datetime\n",
    "#from pandas import ExcelWriter\n",
    "#from pandas import ExcelFile\n",
    "os.getcwd()\n"
   ]
  },
  {
   "cell_type": "code",
   "execution_count": 46,
   "metadata": {
    "collapsed": false
   },
   "outputs": [],
   "source": [
    "os.chdir('F:\\\\2015年\\\\客户工程\\\\光改\\\\bigdatecoming_光改周报\\\\分公司日报\\\\819')\n",
    "cwd = os.getcwd()\n",
    "file_name = os.listdir(cwd)"
   ]
  },
  {
   "cell_type": "code",
   "execution_count": null,
   "metadata": {
    "collapsed": true
   },
   "outputs": [],
   "source": [
    "'''电话会议拨入号码  96020228， 会议室258209    密码 1601'''  "
   ]
  },
  {
   "cell_type": "code",
   "execution_count": 50,
   "metadata": {
    "collapsed": false
   },
   "outputs": [],
   "source": [
    "df2 = pd.DataFrame()\n",
    "for i in range(0,len(file_name)):\n",
    "    df = pd.read_excel(file_name[i],sheetname='项目进度明细表（每周更新）',header=1,skiprows = [2])\n",
    "    df2 = pd.concat([df2,df],join='outer')\n",
    "df2.rename(columns={'开工':'计划开工时间','Unnamed: 17':'实际开工时间','Unnamed: 18':'是否按计划开工', '验收交维':'计划验收交维时间','Unnamed: 20':'实际验收交维时间',\\\n",
    "                   'Unnamed: 21':'是否按计划验收交维','Unnamed: 23':'实际结算报审时间', 'Unnamed: 24':'是否按计划结算报审'},inplace=True)"
   ]
  },
  {
   "cell_type": "code",
   "execution_count": 51,
   "metadata": {
    "collapsed": false
   },
   "outputs": [
    {
     "data": {
      "text/html": [
       "<div>\n",
       "<table border=\"1\" class=\"dataframe\">\n",
       "  <thead>\n",
       "    <tr style=\"text-align: right;\">\n",
       "      <th></th>\n",
       "      <th>分公司</th>\n",
       "      <th>所属标包</th>\n",
       "      <th>PMS项目名称</th>\n",
       "      <th>项目PMS编号</th>\n",
       "      <th>PM子系统子项目名称</th>\n",
       "      <th>PM子系统流水号</th>\n",
       "      <th>项目组成员</th>\n",
       "      <th>设计单位</th>\n",
       "      <th>监理单位</th>\n",
       "      <th>立项</th>\n",
       "      <th>...</th>\n",
       "      <th>需拆铜缆（线对公里）</th>\n",
       "      <th>已拆铜缆（线对公里）</th>\n",
       "      <th>累计铜缆拆除完成率</th>\n",
       "      <th>已拆铜缆已入库（线对公里）</th>\n",
       "      <th>已拆铜缆入库完成率</th>\n",
       "      <th>需拆设备（端）</th>\n",
       "      <th>已拆设备（端）</th>\n",
       "      <th>累计设备拆除完成率</th>\n",
       "      <th>已入库设备（端）</th>\n",
       "      <th>已拆设备入库完成率</th>\n",
       "    </tr>\n",
       "  </thead>\n",
       "  <tbody>\n",
       "    <tr>\n",
       "      <th>0</th>\n",
       "      <td>东莞</td>\n",
       "      <td>3</td>\n",
       "      <td>2015年中国联通广东东莞市光纤化改造第一批第六期工程</td>\n",
       "      <td>WEK15EA0B01624.4419</td>\n",
       "      <td>2015年中国联通广东东莞市光纤化改造第一批第六期常平陈屋贝基站接入机房单项项目\\n\\n</td>\n",
       "      <td>NaN</td>\n",
       "      <td>项目经理-网建部刘献龙、宽固中心-杨杰、运维-吴茂初、物资部-彭素竹、财务部-袁媛、运维-陈晓斌</td>\n",
       "      <td>湖南省邮电规划设计院有限公司</td>\n",
       "      <td>公诚管理咨询有限公司</td>\n",
       "      <td>是</td>\n",
       "      <td>...</td>\n",
       "      <td>NaN</td>\n",
       "      <td>NaN</td>\n",
       "      <td>NaN</td>\n",
       "      <td>NaN</td>\n",
       "      <td>NaN</td>\n",
       "      <td>NaN</td>\n",
       "      <td>NaN</td>\n",
       "      <td>NaN</td>\n",
       "      <td>NaN</td>\n",
       "      <td>NaN</td>\n",
       "    </tr>\n",
       "    <tr>\n",
       "      <th>1</th>\n",
       "      <td>东莞</td>\n",
       "      <td>3</td>\n",
       "      <td>2015年中国联通广东东莞市光纤化改造第一批第六期工程</td>\n",
       "      <td>WEK15EA0B01624.4419</td>\n",
       "      <td>2015年中国联通广东东莞市光纤化改造第一批第六期常平桔园基站接入机房单项项目</td>\n",
       "      <td>NaN</td>\n",
       "      <td>项目经理-网建部刘献龙、宽固中心-杨杰、运维-吴茂初、物资部-彭素竹、财务部-袁媛、运维-陈晓斌</td>\n",
       "      <td>湖南省邮电规划设计院有限公司</td>\n",
       "      <td>公诚管理咨询有限公司</td>\n",
       "      <td>是</td>\n",
       "      <td>...</td>\n",
       "      <td>NaN</td>\n",
       "      <td>NaN</td>\n",
       "      <td>NaN</td>\n",
       "      <td>NaN</td>\n",
       "      <td>NaN</td>\n",
       "      <td>NaN</td>\n",
       "      <td>NaN</td>\n",
       "      <td>NaN</td>\n",
       "      <td>NaN</td>\n",
       "      <td>NaN</td>\n",
       "    </tr>\n",
       "    <tr>\n",
       "      <th>2</th>\n",
       "      <td>东莞</td>\n",
       "      <td>1</td>\n",
       "      <td>2015年中国联通广东东莞市光纤优化改造第一批第七期工程</td>\n",
       "      <td>WEK15EA0B01639.4419</td>\n",
       "      <td>2015年中国联通广东东莞市光纤化改造第一批第七期黄江田心接入机房单项项目</td>\n",
       "      <td>NaN</td>\n",
       "      <td>项目经理-网建部罗国省、宽固中心-杨杰、运维-吴茂初、物资部-彭素竹、财务部-袁媛、运维-谢建星</td>\n",
       "      <td>湖南省邮电规划设计院有限公司</td>\n",
       "      <td>公诚管理咨询有限公司</td>\n",
       "      <td>是</td>\n",
       "      <td>...</td>\n",
       "      <td>NaN</td>\n",
       "      <td>NaN</td>\n",
       "      <td>NaN</td>\n",
       "      <td>NaN</td>\n",
       "      <td>NaN</td>\n",
       "      <td>NaN</td>\n",
       "      <td>NaN</td>\n",
       "      <td>NaN</td>\n",
       "      <td>NaN</td>\n",
       "      <td>NaN</td>\n",
       "    </tr>\n",
       "    <tr>\n",
       "      <th>3</th>\n",
       "      <td>东莞</td>\n",
       "      <td>3</td>\n",
       "      <td>2015年中国联通广东东莞市光纤优化改造第一批第七期工程</td>\n",
       "      <td>WEK15EA0B01639.4419</td>\n",
       "      <td>2015年中国联通广东东莞市光纤化改造第一批第七期樟木头樟洋接入机房单项项目</td>\n",
       "      <td>NaN</td>\n",
       "      <td>项目经理-网建部罗国省、宽固中心-杨杰、运维-吴茂初、物资部-彭素竹、财务部-袁媛、运维-谢建星</td>\n",
       "      <td>湖南省邮电规划设计院有限公司</td>\n",
       "      <td>公诚管理咨询有限公司</td>\n",
       "      <td>是</td>\n",
       "      <td>...</td>\n",
       "      <td>NaN</td>\n",
       "      <td>NaN</td>\n",
       "      <td>NaN</td>\n",
       "      <td>NaN</td>\n",
       "      <td>NaN</td>\n",
       "      <td>NaN</td>\n",
       "      <td>NaN</td>\n",
       "      <td>NaN</td>\n",
       "      <td>NaN</td>\n",
       "      <td>NaN</td>\n",
       "    </tr>\n",
       "    <tr>\n",
       "      <th>4</th>\n",
       "      <td>东莞</td>\n",
       "      <td>1</td>\n",
       "      <td>2015年中国联通广东东莞市光纤优化改造第一批第七期工程</td>\n",
       "      <td>WEK15EA0B01639.4419</td>\n",
       "      <td>2015年中国联通广东东莞市光纤化改造第一批第七期黄江北岸接入机房单项项目\\n\\n</td>\n",
       "      <td>NaN</td>\n",
       "      <td>项目经理-网建部罗国省、宽固中心-杨杰、运维-吴茂初、物资部-彭素竹、财务部-袁媛、运维-谢建星</td>\n",
       "      <td>湖南省邮电规划设计院有限公司</td>\n",
       "      <td>公诚管理咨询有限公司</td>\n",
       "      <td>是</td>\n",
       "      <td>...</td>\n",
       "      <td>NaN</td>\n",
       "      <td>NaN</td>\n",
       "      <td>NaN</td>\n",
       "      <td>NaN</td>\n",
       "      <td>NaN</td>\n",
       "      <td>NaN</td>\n",
       "      <td>NaN</td>\n",
       "      <td>NaN</td>\n",
       "      <td>NaN</td>\n",
       "      <td>NaN</td>\n",
       "    </tr>\n",
       "  </tbody>\n",
       "</table>\n",
       "<p>5 rows × 43 columns</p>\n",
       "</div>"
      ],
      "text/plain": [
       "  分公司 所属标包                       PMS项目名称              项目PMS编号  \\\n",
       "0  东莞    3   2015年中国联通广东东莞市光纤化改造第一批第六期工程  WEK15EA0B01624.4419   \n",
       "1  东莞    3   2015年中国联通广东东莞市光纤化改造第一批第六期工程  WEK15EA0B01624.4419   \n",
       "2  东莞    1  2015年中国联通广东东莞市光纤优化改造第一批第七期工程  WEK15EA0B01639.4419   \n",
       "3  东莞    3  2015年中国联通广东东莞市光纤优化改造第一批第七期工程  WEK15EA0B01639.4419   \n",
       "4  东莞    1  2015年中国联通广东东莞市光纤优化改造第一批第七期工程  WEK15EA0B01639.4419   \n",
       "\n",
       "                                     PM子系统子项目名称 PM子系统流水号  \\\n",
       "0  2015年中国联通广东东莞市光纤化改造第一批第六期常平陈屋贝基站接入机房单项项目\\n\\n      NaN   \n",
       "1       2015年中国联通广东东莞市光纤化改造第一批第六期常平桔园基站接入机房单项项目      NaN   \n",
       "2         2015年中国联通广东东莞市光纤化改造第一批第七期黄江田心接入机房单项项目      NaN   \n",
       "3        2015年中国联通广东东莞市光纤化改造第一批第七期樟木头樟洋接入机房单项项目      NaN   \n",
       "4     2015年中国联通广东东莞市光纤化改造第一批第七期黄江北岸接入机房单项项目\\n\\n      NaN   \n",
       "\n",
       "                                              项目组成员            设计单位  \\\n",
       "0  项目经理-网建部刘献龙、宽固中心-杨杰、运维-吴茂初、物资部-彭素竹、财务部-袁媛、运维-陈晓斌  湖南省邮电规划设计院有限公司   \n",
       "1  项目经理-网建部刘献龙、宽固中心-杨杰、运维-吴茂初、物资部-彭素竹、财务部-袁媛、运维-陈晓斌  湖南省邮电规划设计院有限公司   \n",
       "2  项目经理-网建部罗国省、宽固中心-杨杰、运维-吴茂初、物资部-彭素竹、财务部-袁媛、运维-谢建星  湖南省邮电规划设计院有限公司   \n",
       "3  项目经理-网建部罗国省、宽固中心-杨杰、运维-吴茂初、物资部-彭素竹、财务部-袁媛、运维-谢建星  湖南省邮电规划设计院有限公司   \n",
       "4  项目经理-网建部罗国省、宽固中心-杨杰、运维-吴茂初、物资部-彭素竹、财务部-袁媛、运维-谢建星  湖南省邮电规划设计院有限公司   \n",
       "\n",
       "         监理单位 立项    ...    需拆铜缆（线对公里） 已拆铜缆（线对公里） 累计铜缆拆除完成率 已拆铜缆已入库（线对公里）  \\\n",
       "0  公诚管理咨询有限公司  是    ...           NaN        NaN       NaN           NaN   \n",
       "1  公诚管理咨询有限公司  是    ...           NaN        NaN       NaN           NaN   \n",
       "2  公诚管理咨询有限公司  是    ...           NaN        NaN       NaN           NaN   \n",
       "3  公诚管理咨询有限公司  是    ...           NaN        NaN       NaN           NaN   \n",
       "4  公诚管理咨询有限公司  是    ...           NaN        NaN       NaN           NaN   \n",
       "\n",
       "  已拆铜缆入库完成率 需拆设备（端） 已拆设备（端） 累计设备拆除完成率 已入库设备（端） 已拆设备入库完成率  \n",
       "0       NaN     NaN     NaN       NaN      NaN       NaN  \n",
       "1       NaN     NaN     NaN       NaN      NaN       NaN  \n",
       "2       NaN     NaN     NaN       NaN      NaN       NaN  \n",
       "3       NaN     NaN     NaN       NaN      NaN       NaN  \n",
       "4       NaN     NaN     NaN       NaN      NaN       NaN  \n",
       "\n",
       "[5 rows x 43 columns]"
      ]
     },
     "execution_count": 51,
     "metadata": {},
     "output_type": "execute_result"
    }
   ],
   "source": [
    "df2.to_excel('F:\\\\2015年\\\\客户工程\\\\光改\\\\bigdatecoming_光改周报\\\\分公司日报\\\\output\\\\分公司日报汇总0819v5.xlsx',sheet_name='项目进度明细表（每周更新）')\n",
    "\n",
    "df2.head()"
   ]
  },
  {
   "cell_type": "code",
   "execution_count": null,
   "metadata": {
    "collapsed": true
   },
   "outputs": [],
   "source": [
    "#df2['Name'] = df2['Name'].astype(np.datetime64)"
   ]
  },
  {
   "cell_type": "code",
   "execution_count": 131,
   "metadata": {
    "collapsed": false
   },
   "outputs": [
    {
     "data": {
      "text/plain": [
       "0    2015-08-20\n",
       "1    2015-08-25\n",
       "2    2015-08-20\n",
       "3    2015-08-20\n",
       "4    2015-09-10\n",
       "5    2015-09-05\n",
       "6    2015-08-25\n",
       "7    2015-08-17\n",
       "8    2015-09-05\n",
       "9    2015-08-25\n",
       "10   2015-08-20\n",
       "11   2015-08-20\n",
       "12   2015-08-17\n",
       "13   2015-08-18\n",
       "14   2015-08-25\n",
       "15   2015-08-25\n",
       "16   2015-08-25\n",
       "17   2015-08-20\n",
       "18   2015-09-05\n",
       "19   2015-09-05\n",
       "20   2015-08-20\n",
       "21   2015-08-20\n",
       "22   2015-08-20\n",
       "23   2015-09-10\n",
       "24   2015-08-25\n",
       "25   2015-08-17\n",
       "26   2015-08-18\n",
       "27   2015-08-25\n",
       "28   2015-09-05\n",
       "29   2015-09-05\n",
       "        ...    \n",
       "31   2015-08-24\n",
       "32          NaT\n",
       "33          NaT\n",
       "34   2015-08-24\n",
       "35   2015-08-24\n",
       "36   2015-08-18\n",
       "37   2015-08-17\n",
       "38   2015-08-17\n",
       "39   2015-08-24\n",
       "40   2015-08-24\n",
       "41   2015-08-25\n",
       "42   2015-08-19\n",
       "43   2015-08-19\n",
       "44   2015-08-19\n",
       "45          NaT\n",
       "46          NaT\n",
       "47          NaT\n",
       "48   2015-09-01\n",
       "49   2015-09-01\n",
       "50   2015-09-01\n",
       "51   2015-09-01\n",
       "52   2015-09-01\n",
       "53   2015-09-01\n",
       "54   2015-09-01\n",
       "55   2015-09-01\n",
       "56   2015-09-01\n",
       "57          NaT\n",
       "58          NaT\n",
       "59   2015-09-01\n",
       "60   2015-08-25\n",
       "Name: 计划开工时间, dtype: datetime64[ns]"
      ]
     },
     "execution_count": 131,
     "metadata": {},
     "output_type": "execute_result"
    }
   ],
   "source": [
    "df2.计划开工时间"
   ]
  },
  {
   "cell_type": "code",
   "execution_count": 52,
   "metadata": {
    "collapsed": false
   },
   "outputs": [
    {
     "data": {
      "text/plain": [
       "Index(['分公司', '所属标包', 'PMS项目名称', '项目PMS编号', 'PM子系统子项目名称', 'PM子系统流水号', '项目组成员',\n",
       "       '设计单位', '监理单位', '立项', '设计', '验收', '结算', '决算', '设计勘察', '设计会审', '计划开工时间',\n",
       "       '实际开工时间', '是否按计划开工', '计划验收交维时间', '实际验收交维时间', '是否按计划验收交维', '结算报审',\n",
       "       '实际结算报审时间', '是否按计划结算报审', '需转网宽带用户数（户）', '已转网宽带用户数（户）', '累计转网完成率',\n",
       "       '新发展用户数（户）', '需转网语音用户数（户）', '已转网语音用户数（户）', '累计转网完成率.1', '新发展用户数（户）.1',\n",
       "       '需拆铜缆（线对公里）', '已拆铜缆（线对公里）', '累计铜缆拆除完成率', '已拆铜缆已入库（线对公里）', '已拆铜缆入库完成率',\n",
       "       '需拆设备（端）', '已拆设备（端）', '累计设备拆除完成率', '已入库设备（端）', '已拆设备入库完成率'],\n",
       "      dtype='object')"
      ]
     },
     "execution_count": 52,
     "metadata": {},
     "output_type": "execute_result"
    }
   ],
   "source": [
    "df2.columns\n",
    "#kgdf2 = df2[df2['开工']=='是']\n",
    "#ysdf2 = df2[df2['验收交维']=='是']\n",
    "#sjdf2 = df2[df2['设计会审']=='是']\n",
    "#sjkcdf2 = df2[df2['设计勘察']=='是']"
   ]
  },
  {
   "cell_type": "code",
   "execution_count": 69,
   "metadata": {
    "collapsed": false
   },
   "outputs": [
    {
     "data": {
      "text/html": [
       "<div>\n",
       "<table border=\"1\" class=\"dataframe\">\n",
       "  <thead>\n",
       "    <tr style=\"text-align: right;\">\n",
       "      <th></th>\n",
       "      <th>计划验收交维时间</th>\n",
       "    </tr>\n",
       "    <tr>\n",
       "      <th>分公司</th>\n",
       "      <th></th>\n",
       "    </tr>\n",
       "  </thead>\n",
       "  <tbody>\n",
       "    <tr>\n",
       "      <th>东莞</th>\n",
       "      <td>22</td>\n",
       "    </tr>\n",
       "    <tr>\n",
       "      <th>佛山</th>\n",
       "      <td>28</td>\n",
       "    </tr>\n",
       "    <tr>\n",
       "      <th>广州</th>\n",
       "      <td>20</td>\n",
       "    </tr>\n",
       "    <tr>\n",
       "      <th>揭阳</th>\n",
       "      <td>1</td>\n",
       "    </tr>\n",
       "    <tr>\n",
       "      <th>汕尾</th>\n",
       "      <td>1</td>\n",
       "    </tr>\n",
       "    <tr>\n",
       "      <th>江门</th>\n",
       "      <td>1</td>\n",
       "    </tr>\n",
       "    <tr>\n",
       "      <th>深圳</th>\n",
       "      <td>18</td>\n",
       "    </tr>\n",
       "    <tr>\n",
       "      <th>珠海</th>\n",
       "      <td>5</td>\n",
       "    </tr>\n",
       "    <tr>\n",
       "      <th>肇庆</th>\n",
       "      <td>1</td>\n",
       "    </tr>\n",
       "    <tr>\n",
       "      <th>茂名</th>\n",
       "      <td>2</td>\n",
       "    </tr>\n",
       "  </tbody>\n",
       "</table>\n",
       "</div>"
      ],
      "text/plain": [
       "     计划验收交维时间\n",
       "分公司          \n",
       "东莞         22\n",
       "佛山         28\n",
       "广州         20\n",
       "揭阳          1\n",
       "汕尾          1\n",
       "江门          1\n",
       "深圳         18\n",
       "珠海          5\n",
       "肇庆          1\n",
       "茂名          2"
      ]
     },
     "execution_count": 69,
     "metadata": {},
     "output_type": "execute_result"
    }
   ],
   "source": [
    "\"\"\"the number plan to cpl before 0831 \"\"\"\n",
    "cplbefore831df = df2[df2['计划验收交维时间'] <= datetime(2015,8,31)]\n",
    "#cplbefore831df.to_excel('F:\\\\2015年\\\\客户工程\\\\光改\\\\bigdatecoming_光改周报\\\\分公司日报\\\\output\\\\完成在831前.xlsx')\n",
    "cplbefore831groupbyed =  cplbefore831df.groupby('分公司').count()\n",
    "cplbefore831groupbyed[['计划验收交维时间']]\n"
   ]
  },
  {
   "cell_type": "code",
   "execution_count": 62,
   "metadata": {
    "collapsed": false
   },
   "outputs": [
    {
     "data": {
      "text/plain": [
       "计划验收交维时间    99\n",
       "dtype: int64"
      ]
     },
     "execution_count": 62,
     "metadata": {},
     "output_type": "execute_result"
    }
   ],
   "source": [
    "'''8月31日前计划验收交维总数'''\n",
    "cplbefore831groupbyed[['计划验收交维时间']].sum()"
   ]
  },
  {
   "cell_type": "code",
   "execution_count": 54,
   "metadata": {
    "collapsed": false
   },
   "outputs": [
    {
     "data": {
      "text/plain": [
       "Index(['计划验收交维时间'], dtype='object')"
      ]
     },
     "execution_count": 54,
     "metadata": {},
     "output_type": "execute_result"
    }
   ],
   "source": [
    "cplbefore831groupbyed[['计划验收交维时间']].columns"
   ]
  },
  {
   "cell_type": "code",
   "execution_count": 68,
   "metadata": {
    "collapsed": false
   },
   "outputs": [
    {
     "data": {
      "text/html": [
       "<div>\n",
       "<table border=\"1\" class=\"dataframe\">\n",
       "  <thead>\n",
       "    <tr style=\"text-align: right;\">\n",
       "      <th></th>\n",
       "      <th>PM子系统子项目名称</th>\n",
       "    </tr>\n",
       "    <tr>\n",
       "      <th>分公司</th>\n",
       "      <th></th>\n",
       "    </tr>\n",
       "  </thead>\n",
       "  <tbody>\n",
       "    <tr>\n",
       "      <th>东莞</th>\n",
       "      <td>67</td>\n",
       "    </tr>\n",
       "    <tr>\n",
       "      <th>佛山</th>\n",
       "      <td>31</td>\n",
       "    </tr>\n",
       "    <tr>\n",
       "      <th>广州</th>\n",
       "      <td>61</td>\n",
       "    </tr>\n",
       "    <tr>\n",
       "      <th>惠州</th>\n",
       "      <td>26</td>\n",
       "    </tr>\n",
       "    <tr>\n",
       "      <th>揭阳</th>\n",
       "      <td>6</td>\n",
       "    </tr>\n",
       "    <tr>\n",
       "      <th>汕尾</th>\n",
       "      <td>1</td>\n",
       "    </tr>\n",
       "    <tr>\n",
       "      <th>江门</th>\n",
       "      <td>7</td>\n",
       "    </tr>\n",
       "    <tr>\n",
       "      <th>深圳</th>\n",
       "      <td>32</td>\n",
       "    </tr>\n",
       "    <tr>\n",
       "      <th>清远</th>\n",
       "      <td>19</td>\n",
       "    </tr>\n",
       "    <tr>\n",
       "      <th>湛江</th>\n",
       "      <td>3</td>\n",
       "    </tr>\n",
       "    <tr>\n",
       "      <th>潮州</th>\n",
       "      <td>11</td>\n",
       "    </tr>\n",
       "    <tr>\n",
       "      <th>珠海</th>\n",
       "      <td>19</td>\n",
       "    </tr>\n",
       "    <tr>\n",
       "      <th>肇庆</th>\n",
       "      <td>7</td>\n",
       "    </tr>\n",
       "    <tr>\n",
       "      <th>茂名</th>\n",
       "      <td>3</td>\n",
       "    </tr>\n",
       "    <tr>\n",
       "      <th>阳江</th>\n",
       "      <td>1</td>\n",
       "    </tr>\n",
       "  </tbody>\n",
       "</table>\n",
       "</div>"
      ],
      "text/plain": [
       "     PM子系统子项目名称\n",
       "分公司            \n",
       "东莞           67\n",
       "佛山           31\n",
       "广州           61\n",
       "惠州           26\n",
       "揭阳            6\n",
       "汕尾            1\n",
       "江门            7\n",
       "深圳           32\n",
       "清远           19\n",
       "湛江            3\n",
       "潮州           11\n",
       "珠海           19\n",
       "肇庆            7\n",
       "茂名            3\n",
       "阳江            1"
      ]
     },
     "execution_count": 68,
     "metadata": {},
     "output_type": "execute_result"
    }
   ],
   "source": [
    "'''子系统个数'''\n",
    "df2.groupby('分公司').count()[['PM子系统子项目名称']]"
   ]
  },
  {
   "cell_type": "code",
   "execution_count": 79,
   "metadata": {
    "collapsed": false
   },
   "outputs": [],
   "source": [
    "在831前完成个数 = pd.merge(df2.groupby('分公司').count()[['PM子系统子项目名称']],cplbefore831groupbyed[['计划验收交维时间']],left_index=True, right_index=True,how='outer')"
   ]
  },
  {
   "cell_type": "code",
   "execution_count": 96,
   "metadata": {
    "collapsed": false
   },
   "outputs": [],
   "source": [
    "在831前完成个数.to_excel('F:\\\\test\\\\计划在831前完成个数.xlsx')"
   ]
  },
  {
   "cell_type": "code",
   "execution_count": 56,
   "metadata": {
    "collapsed": false
   },
   "outputs": [
    {
     "data": {
      "text/plain": [
       "0.6636085626911316"
      ]
     },
     "execution_count": 56,
     "metadata": {},
     "output_type": "execute_result"
    }
   ],
   "source": [
    "217/327"
   ]
  },
  {
   "cell_type": "code",
   "execution_count": 89,
   "metadata": {
    "collapsed": false
   },
   "outputs": [
    {
     "data": {
      "text/html": [
       "<div>\n",
       "<table border=\"1\" class=\"dataframe\">\n",
       "  <thead>\n",
       "    <tr style=\"text-align: right;\">\n",
       "      <th></th>\n",
       "      <th>计划验收交维时间</th>\n",
       "    </tr>\n",
       "    <tr>\n",
       "      <th>分公司</th>\n",
       "      <th></th>\n",
       "    </tr>\n",
       "  </thead>\n",
       "  <tbody>\n",
       "    <tr>\n",
       "      <th>东莞</th>\n",
       "      <td>67</td>\n",
       "    </tr>\n",
       "    <tr>\n",
       "      <th>佛山</th>\n",
       "      <td>28</td>\n",
       "    </tr>\n",
       "    <tr>\n",
       "      <th>广州</th>\n",
       "      <td>43</td>\n",
       "    </tr>\n",
       "    <tr>\n",
       "      <th>惠州</th>\n",
       "      <td>26</td>\n",
       "    </tr>\n",
       "    <tr>\n",
       "      <th>揭阳</th>\n",
       "      <td>6</td>\n",
       "    </tr>\n",
       "    <tr>\n",
       "      <th>汕尾</th>\n",
       "      <td>1</td>\n",
       "    </tr>\n",
       "    <tr>\n",
       "      <th>江门</th>\n",
       "      <td>1</td>\n",
       "    </tr>\n",
       "    <tr>\n",
       "      <th>深圳</th>\n",
       "      <td>29</td>\n",
       "    </tr>\n",
       "    <tr>\n",
       "      <th>清远</th>\n",
       "      <td>8</td>\n",
       "    </tr>\n",
       "    <tr>\n",
       "      <th>潮州</th>\n",
       "      <td>6</td>\n",
       "    </tr>\n",
       "    <tr>\n",
       "      <th>珠海</th>\n",
       "      <td>19</td>\n",
       "    </tr>\n",
       "    <tr>\n",
       "      <th>肇庆</th>\n",
       "      <td>7</td>\n",
       "    </tr>\n",
       "    <tr>\n",
       "      <th>茂名</th>\n",
       "      <td>3</td>\n",
       "    </tr>\n",
       "    <tr>\n",
       "      <th>阳江</th>\n",
       "      <td>1</td>\n",
       "    </tr>\n",
       "  </tbody>\n",
       "</table>\n",
       "</div>"
      ],
      "text/plain": [
       "     计划验收交维时间\n",
       "分公司          \n",
       "东莞         67\n",
       "佛山         28\n",
       "广州         43\n",
       "惠州         26\n",
       "揭阳          6\n",
       "汕尾          1\n",
       "江门          1\n",
       "深圳         29\n",
       "清远          8\n",
       "潮州          6\n",
       "珠海         19\n",
       "肇庆          7\n",
       "茂名          3\n",
       "阳江          1"
      ]
     },
     "execution_count": 89,
     "metadata": {},
     "output_type": "execute_result"
    }
   ],
   "source": [
    "'''在9月30日前完成数'''\n",
    "cplbefore930df = df2[df2['计划验收交维时间'] <= datetime(2015,9,30)]\n",
    "cplbefore930df.groupby('分公司').count()[['计划验收交维时间']]"
   ]
  },
  {
   "cell_type": "code",
   "execution_count": 90,
   "metadata": {
    "collapsed": false
   },
   "outputs": [
    {
     "data": {
      "text/plain": [
       "计划验收交维时间    245\n",
       "dtype: int64"
      ]
     },
     "execution_count": 90,
     "metadata": {},
     "output_type": "execute_result"
    }
   ],
   "source": [
    "cplbefore930df.groupby('分公司').count()[['计划验收交维时间']].sum()"
   ]
  },
  {
   "cell_type": "code",
   "execution_count": 102,
   "metadata": {
    "collapsed": true
   },
   "outputs": [],
   "source": [
    "plancpl930merged = pd.merge(df2.groupby('分公司').count()[['PM子系统子项目名称']],cplbefore930df.groupby('分公司').count()[['计划验收交维时间']],left_index=True,right_index=True,how='outer')"
   ]
  },
  {
   "cell_type": "code",
   "execution_count": 103,
   "metadata": {
    "collapsed": false
   },
   "outputs": [
    {
     "data": {
      "text/html": [
       "<div>\n",
       "<table border=\"1\" class=\"dataframe\">\n",
       "  <thead>\n",
       "    <tr style=\"text-align: right;\">\n",
       "      <th></th>\n",
       "      <th>PM子系统子项目名称</th>\n",
       "      <th>计划验收交维时间</th>\n",
       "    </tr>\n",
       "    <tr>\n",
       "      <th>分公司</th>\n",
       "      <th></th>\n",
       "      <th></th>\n",
       "    </tr>\n",
       "  </thead>\n",
       "  <tbody>\n",
       "    <tr>\n",
       "      <th>东莞</th>\n",
       "      <td>67</td>\n",
       "      <td>67</td>\n",
       "    </tr>\n",
       "    <tr>\n",
       "      <th>佛山</th>\n",
       "      <td>31</td>\n",
       "      <td>28</td>\n",
       "    </tr>\n",
       "    <tr>\n",
       "      <th>广州</th>\n",
       "      <td>61</td>\n",
       "      <td>43</td>\n",
       "    </tr>\n",
       "    <tr>\n",
       "      <th>惠州</th>\n",
       "      <td>26</td>\n",
       "      <td>26</td>\n",
       "    </tr>\n",
       "    <tr>\n",
       "      <th>揭阳</th>\n",
       "      <td>6</td>\n",
       "      <td>6</td>\n",
       "    </tr>\n",
       "    <tr>\n",
       "      <th>汕尾</th>\n",
       "      <td>1</td>\n",
       "      <td>1</td>\n",
       "    </tr>\n",
       "    <tr>\n",
       "      <th>江门</th>\n",
       "      <td>7</td>\n",
       "      <td>1</td>\n",
       "    </tr>\n",
       "    <tr>\n",
       "      <th>深圳</th>\n",
       "      <td>32</td>\n",
       "      <td>29</td>\n",
       "    </tr>\n",
       "    <tr>\n",
       "      <th>清远</th>\n",
       "      <td>19</td>\n",
       "      <td>8</td>\n",
       "    </tr>\n",
       "    <tr>\n",
       "      <th>湛江</th>\n",
       "      <td>3</td>\n",
       "      <td>NaN</td>\n",
       "    </tr>\n",
       "    <tr>\n",
       "      <th>潮州</th>\n",
       "      <td>11</td>\n",
       "      <td>6</td>\n",
       "    </tr>\n",
       "    <tr>\n",
       "      <th>珠海</th>\n",
       "      <td>19</td>\n",
       "      <td>19</td>\n",
       "    </tr>\n",
       "    <tr>\n",
       "      <th>肇庆</th>\n",
       "      <td>7</td>\n",
       "      <td>7</td>\n",
       "    </tr>\n",
       "    <tr>\n",
       "      <th>茂名</th>\n",
       "      <td>3</td>\n",
       "      <td>3</td>\n",
       "    </tr>\n",
       "    <tr>\n",
       "      <th>阳江</th>\n",
       "      <td>1</td>\n",
       "      <td>1</td>\n",
       "    </tr>\n",
       "  </tbody>\n",
       "</table>\n",
       "</div>"
      ],
      "text/plain": [
       "     PM子系统子项目名称  计划验收交维时间\n",
       "分公司                      \n",
       "东莞           67        67\n",
       "佛山           31        28\n",
       "广州           61        43\n",
       "惠州           26        26\n",
       "揭阳            6         6\n",
       "汕尾            1         1\n",
       "江门            7         1\n",
       "深圳           32        29\n",
       "清远           19         8\n",
       "湛江            3       NaN\n",
       "潮州           11         6\n",
       "珠海           19        19\n",
       "肇庆            7         7\n",
       "茂名            3         3\n",
       "阳江            1         1"
      ]
     },
     "execution_count": 103,
     "metadata": {},
     "output_type": "execute_result"
    }
   ],
   "source": [
    "plancpl930merged"
   ]
  },
  {
   "cell_type": "code",
   "execution_count": 130,
   "metadata": {
    "collapsed": false
   },
   "outputs": [
    {
     "data": {
      "text/html": [
       "<div>\n",
       "<table border=\"1\" class=\"dataframe\">\n",
       "  <thead>\n",
       "    <tr style=\"text-align: right;\">\n",
       "      <th></th>\n",
       "      <th>PM子系统子项目名称</th>\n",
       "      <th>计划验收交维时间</th>\n",
       "      <th>比例</th>\n",
       "    </tr>\n",
       "    <tr>\n",
       "      <th>分公司</th>\n",
       "      <th></th>\n",
       "      <th></th>\n",
       "      <th></th>\n",
       "    </tr>\n",
       "  </thead>\n",
       "  <tbody>\n",
       "    <tr>\n",
       "      <th>东莞</th>\n",
       "      <td>67</td>\n",
       "      <td>67</td>\n",
       "      <td>1.000000</td>\n",
       "    </tr>\n",
       "    <tr>\n",
       "      <th>惠州</th>\n",
       "      <td>26</td>\n",
       "      <td>26</td>\n",
       "      <td>1.000000</td>\n",
       "    </tr>\n",
       "    <tr>\n",
       "      <th>揭阳</th>\n",
       "      <td>6</td>\n",
       "      <td>6</td>\n",
       "      <td>1.000000</td>\n",
       "    </tr>\n",
       "    <tr>\n",
       "      <th>汕尾</th>\n",
       "      <td>1</td>\n",
       "      <td>1</td>\n",
       "      <td>1.000000</td>\n",
       "    </tr>\n",
       "    <tr>\n",
       "      <th>珠海</th>\n",
       "      <td>19</td>\n",
       "      <td>19</td>\n",
       "      <td>1.000000</td>\n",
       "    </tr>\n",
       "    <tr>\n",
       "      <th>肇庆</th>\n",
       "      <td>7</td>\n",
       "      <td>7</td>\n",
       "      <td>1.000000</td>\n",
       "    </tr>\n",
       "    <tr>\n",
       "      <th>茂名</th>\n",
       "      <td>3</td>\n",
       "      <td>3</td>\n",
       "      <td>1.000000</td>\n",
       "    </tr>\n",
       "    <tr>\n",
       "      <th>阳江</th>\n",
       "      <td>1</td>\n",
       "      <td>1</td>\n",
       "      <td>1.000000</td>\n",
       "    </tr>\n",
       "    <tr>\n",
       "      <th>深圳</th>\n",
       "      <td>32</td>\n",
       "      <td>29</td>\n",
       "      <td>0.906250</td>\n",
       "    </tr>\n",
       "    <tr>\n",
       "      <th>佛山</th>\n",
       "      <td>31</td>\n",
       "      <td>28</td>\n",
       "      <td>0.903226</td>\n",
       "    </tr>\n",
       "    <tr>\n",
       "      <th>广州</th>\n",
       "      <td>61</td>\n",
       "      <td>43</td>\n",
       "      <td>0.704918</td>\n",
       "    </tr>\n",
       "    <tr>\n",
       "      <th>潮州</th>\n",
       "      <td>11</td>\n",
       "      <td>6</td>\n",
       "      <td>0.545455</td>\n",
       "    </tr>\n",
       "    <tr>\n",
       "      <th>清远</th>\n",
       "      <td>19</td>\n",
       "      <td>8</td>\n",
       "      <td>0.421053</td>\n",
       "    </tr>\n",
       "    <tr>\n",
       "      <th>江门</th>\n",
       "      <td>7</td>\n",
       "      <td>1</td>\n",
       "      <td>0.142857</td>\n",
       "    </tr>\n",
       "    <tr>\n",
       "      <th>湛江</th>\n",
       "      <td>3</td>\n",
       "      <td>0</td>\n",
       "      <td>0.000000</td>\n",
       "    </tr>\n",
       "  </tbody>\n",
       "</table>\n",
       "</div>"
      ],
      "text/plain": [
       "     PM子系统子项目名称  计划验收交维时间        比例\n",
       "分公司                                \n",
       "东莞           67        67  1.000000\n",
       "惠州           26        26  1.000000\n",
       "揭阳            6         6  1.000000\n",
       "汕尾            1         1  1.000000\n",
       "珠海           19        19  1.000000\n",
       "肇庆            7         7  1.000000\n",
       "茂名            3         3  1.000000\n",
       "阳江            1         1  1.000000\n",
       "深圳           32        29  0.906250\n",
       "佛山           31        28  0.903226\n",
       "广州           61        43  0.704918\n",
       "潮州           11         6  0.545455\n",
       "清远           19         8  0.421053\n",
       "江门            7         1  0.142857\n",
       "湛江            3         0  0.000000"
      ]
     },
     "execution_count": 130,
     "metadata": {},
     "output_type": "execute_result"
    }
   ],
   "source": [
    "plancpl930merged.fillna(0)\n",
    "plancplrename = ['PM子系统子项目名称', '计划验收交维时间','比例']\n",
    "plancpl930merged = plancpl930merged.reindex(columns=plancplrename)\n",
    "plancpl930merged['比例'] = plancpl930merged['计划验收交维时间']/ plancpl930merged['PM子系统子项目名称']\n",
    "plancpl930merged.fillna(0).sort('比例',ascending =0)  # ascending = 0 :降序，1:升降，default.\n"
   ]
  },
  {
   "cell_type": "code",
   "execution_count": 127,
   "metadata": {
    "collapsed": false
   },
   "outputs": [
    {
     "data": {
      "text/html": [
       "<div>\n",
       "<table border=\"1\" class=\"dataframe\">\n",
       "  <thead>\n",
       "    <tr style=\"text-align: right;\">\n",
       "      <th>分公司</th>\n",
       "      <th>东莞</th>\n",
       "      <th>佛山</th>\n",
       "      <th>广州</th>\n",
       "      <th>惠州</th>\n",
       "      <th>揭阳</th>\n",
       "      <th>汕尾</th>\n",
       "      <th>江门</th>\n",
       "      <th>深圳</th>\n",
       "      <th>清远</th>\n",
       "      <th>湛江</th>\n",
       "      <th>潮州</th>\n",
       "      <th>珠海</th>\n",
       "      <th>肇庆</th>\n",
       "      <th>茂名</th>\n",
       "      <th>阳江</th>\n",
       "    </tr>\n",
       "  </thead>\n",
       "  <tbody>\n",
       "    <tr>\n",
       "      <th>PM子系统子项目名称</th>\n",
       "      <td>67</td>\n",
       "      <td>31.000000</td>\n",
       "      <td>61.000000</td>\n",
       "      <td>26</td>\n",
       "      <td>6</td>\n",
       "      <td>1</td>\n",
       "      <td>7.000000</td>\n",
       "      <td>32.00000</td>\n",
       "      <td>19.000000</td>\n",
       "      <td>3</td>\n",
       "      <td>11.000000</td>\n",
       "      <td>19</td>\n",
       "      <td>7</td>\n",
       "      <td>3</td>\n",
       "      <td>1</td>\n",
       "    </tr>\n",
       "    <tr>\n",
       "      <th>计划验收交维时间</th>\n",
       "      <td>67</td>\n",
       "      <td>28.000000</td>\n",
       "      <td>43.000000</td>\n",
       "      <td>26</td>\n",
       "      <td>6</td>\n",
       "      <td>1</td>\n",
       "      <td>1.000000</td>\n",
       "      <td>29.00000</td>\n",
       "      <td>8.000000</td>\n",
       "      <td>NaN</td>\n",
       "      <td>6.000000</td>\n",
       "      <td>19</td>\n",
       "      <td>7</td>\n",
       "      <td>3</td>\n",
       "      <td>1</td>\n",
       "    </tr>\n",
       "    <tr>\n",
       "      <th>比例</th>\n",
       "      <td>1</td>\n",
       "      <td>0.903226</td>\n",
       "      <td>0.704918</td>\n",
       "      <td>1</td>\n",
       "      <td>1</td>\n",
       "      <td>1</td>\n",
       "      <td>0.142857</td>\n",
       "      <td>0.90625</td>\n",
       "      <td>0.421053</td>\n",
       "      <td>NaN</td>\n",
       "      <td>0.545455</td>\n",
       "      <td>1</td>\n",
       "      <td>1</td>\n",
       "      <td>1</td>\n",
       "      <td>1</td>\n",
       "    </tr>\n",
       "  </tbody>\n",
       "</table>\n",
       "</div>"
      ],
      "text/plain": [
       "分公司         东莞         佛山         广州  惠州  揭阳  汕尾        江门        深圳  \\\n",
       "PM子系统子项目名称  67  31.000000  61.000000  26   6   1  7.000000  32.00000   \n",
       "计划验收交维时间    67  28.000000  43.000000  26   6   1  1.000000  29.00000   \n",
       "比例           1   0.903226   0.704918   1   1   1  0.142857   0.90625   \n",
       "\n",
       "分公司                清远  湛江         潮州  珠海  肇庆  茂名  阳江  \n",
       "PM子系统子项目名称  19.000000   3  11.000000  19   7   3   1  \n",
       "计划验收交维时间     8.000000 NaN   6.000000  19   7   3   1  \n",
       "比例           0.421053 NaN   0.545455   1   1   1   1  "
      ]
     },
     "execution_count": 127,
     "metadata": {},
     "output_type": "execute_result"
    }
   ],
   "source": [
    "plancpl930merged.T"
   ]
  },
  {
   "cell_type": "code",
   "execution_count": 95,
   "metadata": {
    "collapsed": true
   },
   "outputs": [],
   "source": [
    "在9月30日前完工数.to_excel('F:\\\\test\\\\计划在9月30日前完工数.xlsx')"
   ]
  },
  {
   "cell_type": "code",
   "execution_count": 97,
   "metadata": {
    "collapsed": false
   },
   "outputs": [
    {
     "data": {
      "text/plain": [
       "\"groupbyedCountdf =df2.groupby( '分公司').count()\\ngroupbyedCountdf = groupbyedCountdf[['PM子系统子项目名称','项目组成员']]\\ngroupbyedCountdf.to_excel('F:\\\\2015年\\\\客户工程\\\\光改\\\\bigdatecoming_光改周报\\\\分公司日报\\\\output\\\\分公司日报透视0817.xlsx',sheet_name='项目组')\\n\""
      ]
     },
     "execution_count": 97,
     "metadata": {},
     "output_type": "execute_result"
    }
   ],
   "source": [
    "'''groupbyedCountdf =df2.groupby( '分公司').count()\n",
    "groupbyedCountdf = groupbyedCountdf[['PM子系统子项目名称','项目组成员']]\n",
    "groupbyedCountdf.to_excel('F:\\\\2015年\\\\客户工程\\\\光改\\\\bigdatecoming_光改周报\\\\分公司日报\\\\output\\\\分公司日报透视0817.xlsx',sheet_name='项目组')\n",
    "'''"
   ]
  },
  {
   "cell_type": "code",
   "execution_count": 98,
   "metadata": {
    "collapsed": false
   },
   "outputs": [
    {
     "data": {
      "text/plain": [
       "\"groupbyedkg =kgdf2.groupby( '分公司').count()\\ngroupbyedys =ysdf2.groupby( '分公司').count()\\ngroupbyedsj =sjdf2.groupby( '分公司').count()\\ngroupbyedsjkc =sjkcdf2.groupby( '分公司').count()\""
      ]
     },
     "execution_count": 98,
     "metadata": {},
     "output_type": "execute_result"
    }
   ],
   "source": [
    "'''groupbyedkg =kgdf2.groupby( '分公司').count()\n",
    "groupbyedys =ysdf2.groupby( '分公司').count()\n",
    "groupbyedsj =sjdf2.groupby( '分公司').count()\n",
    "groupbyedsjkc =sjkcdf2.groupby( '分公司').count()'''"
   ]
  },
  {
   "cell_type": "code",
   "execution_count": 99,
   "metadata": {
    "collapsed": false
   },
   "outputs": [
    {
     "data": {
      "text/plain": [
       "\"groupbyedkg =groupbyedkg[['开工']]\\ngroupbyedkg.to_excel('F:\\\\2015年\\\\客户工程\\\\光改\\\\bigdatecoming_光改周报\\\\分公司日报\\\\output\\\\分公司日报开工透视0817.xlsx',sheet_name='开工')\\ngroupbyedys = groupbyedys[['验收交维']]\\ngroupbyedys.to_excel('F:\\\\2015年\\\\客户工程\\\\光改\\\\bigdatecoming_光改周报\\\\分公司日报\\\\output\\\\分公司日报验收透视0817.xlsx',sheet_name='验收交维')\\n\""
      ]
     },
     "execution_count": 99,
     "metadata": {},
     "output_type": "execute_result"
    }
   ],
   "source": [
    "'''groupbyedkg =groupbyedkg[['开工']]\n",
    "groupbyedkg.to_excel('F:\\\\2015年\\\\客户工程\\\\光改\\\\bigdatecoming_光改周报\\\\分公司日报\\\\output\\\\分公司日报开工透视0817.xlsx',sheet_name='开工')\n",
    "groupbyedys = groupbyedys[['验收交维']]\n",
    "groupbyedys.to_excel('F:\\\\2015年\\\\客户工程\\\\光改\\\\bigdatecoming_光改周报\\\\分公司日报\\\\output\\\\分公司日报验收透视0817.xlsx',sheet_name='验收交维')\n",
    "'''"
   ]
  }
 ],
 "metadata": {
  "kernelspec": {
   "display_name": "Python 3",
   "language": "python",
   "name": "python3"
  },
  "language_info": {
   "codemirror_mode": {
    "name": "ipython",
    "version": 3
   },
   "file_extension": ".py",
   "mimetype": "text/x-python",
   "name": "python",
   "nbconvert_exporter": "python",
   "pygments_lexer": "ipython3",
   "version": "3.4.3"
  }
 },
 "nbformat": 4,
 "nbformat_minor": 0
}
