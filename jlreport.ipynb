{
 "cells": [
  {
   "cell_type": "code",
   "execution_count": 1,
   "metadata": {
    "collapsed": false
   },
   "outputs": [
    {
     "data": {
      "text/plain": [
       "'E:\\\\winpython\\\\WinPython-32bit-3.4.3.4\\\\notebooks'"
      ]
     },
     "execution_count": 1,
     "metadata": {},
     "output_type": "execute_result"
    }
   ],
   "source": [
    "%matplotlib inline\n",
    "import matplotlib.pyplot as plt\n",
    "from numpy.random import randn\n",
    "import pandas as pd\n",
    "import os\n",
    "from datetime import timedelta, date, datetime\n",
    "#from pandas import ExcelWriter\n",
    "#from pandas import ExcelFile\n",
    "os.getcwd()"
   ]
  },
  {
   "cell_type": "code",
   "execution_count": 2,
   "metadata": {
    "collapsed": true
   },
   "outputs": [],
   "source": [
    "os.chdir('F:\\\\2015年\\\\客户工程\\\\光改\\\\bigdatecoming_光改周报\\\\监理上报\\\\109')\n",
    "cwd = os.getcwd()\n",
    "file_name = os.listdir(cwd)"
   ]
  },
  {
   "cell_type": "code",
   "execution_count": 3,
   "metadata": {
    "collapsed": false
   },
   "outputs": [],
   "source": [
    "df2 = pd.DataFrame()\n",
    "for i in range(0,len(file_name)):\n",
    "    df = pd.read_excel(file_name[i],sheetname='项目进度明细表（每日更新）',header=1,skiprows = [2])\n",
    "    df2 = pd.concat([df2,df],join='outer')\n",
    "df2.rename(columns={'完工':'计划完工时间','Unnamed: 13':'实际完工时间','Unnamed: 14':'是否按计划完工','开工':'计划开工时间','Unnamed: 10':'实际开工时间','Unnamed: 11':'是否按计划开工', '验收交维':'计划验收交维时间','Unnamed: 16':'实际验收交维时间',\\\n",
    "                   'Unnamed: 17':'是否按计划验收交维','Unnamed: 19':'实际结算报审时间', 'Unnamed: 20':'是否按计划结算报审',\\\n",
    "'Unnamed: 22':'开工原因归类','Unnamed: 24':'完工原因归类','PM系统附件上传情况-填[未上传|不合格|合格]':'单项目建议书上传',\\\n",
    "'Unnamed: 26':'单项目入库表上传','Unnamed: 27':'单项目承诺函上传','Unnamed: 28':'设计会审纪要上传','Unnamed: 29':'开工报告上传',\\\n",
    "'Unnamed: 30':'验收报告上传'},inplace=True)"
   ]
  },
  {
   "cell_type": "code",
   "execution_count": 4,
   "metadata": {
    "collapsed": false
   },
   "outputs": [
    {
     "data": {
      "text/html": [
       "<div>\n",
       "<table border=\"1\" class=\"dataframe\">\n",
       "  <thead>\n",
       "    <tr style=\"text-align: right;\">\n",
       "      <th></th>\n",
       "      <th>分公司</th>\n",
       "      <th>所属标包</th>\n",
       "      <th>PMS项目名称</th>\n",
       "      <th>项目PMS编号</th>\n",
       "      <th>PM子系统子项目名称</th>\n",
       "      <th>PM子系统流水号</th>\n",
       "      <th>项目组成员</th>\n",
       "      <th>设计单位</th>\n",
       "      <th>监理单位</th>\n",
       "      <th>计划开工时间</th>\n",
       "      <th>...</th>\n",
       "      <th>开工存在问题</th>\n",
       "      <th>开工原因归类</th>\n",
       "      <th>完工存在问题</th>\n",
       "      <th>完工原因归类</th>\n",
       "      <th>单项目建议书上传</th>\n",
       "      <th>单项目入库表上传</th>\n",
       "      <th>单项目承诺函上传</th>\n",
       "      <th>设计会审纪要上传</th>\n",
       "      <th>开工报告上传</th>\n",
       "      <th>验收报告上传</th>\n",
       "    </tr>\n",
       "  </thead>\n",
       "  <tbody>\n",
       "    <tr>\n",
       "      <th>0</th>\n",
       "      <td>中山</td>\n",
       "      <td>标包1</td>\n",
       "      <td>2015年中国联通广东中山市光纤化改造第一批第七期工程-中山市坦洲镇金山城机房</td>\n",
       "      <td>WEA15DA0B01230.4420</td>\n",
       "      <td>2015年中国联通广东中山市光纤化改造第一批第七期坦洲镇金山城接入机\\n房单项项目\\n</td>\n",
       "      <td>3.246277e+09</td>\n",
       "      <td>许潜（区分副总）、余钊辉（固网整合室主任）、杨翔永（宽固网格经理）、陈俊杰（区分支撑室）、林...</td>\n",
       "      <td>湖南省邮电规划设计院有限公司</td>\n",
       "      <td>公诚管理咨询有限公司</td>\n",
       "      <td>2015-08-20 00:00:00</td>\n",
       "      <td>...</td>\n",
       "      <td>NaN</td>\n",
       "      <td>NaN</td>\n",
       "      <td>金山城、凯都大厦进场需要进场费，协调当中</td>\n",
       "      <td>4：物业准入问题</td>\n",
       "      <td>未上传</td>\n",
       "      <td>未上传</td>\n",
       "      <td>未上传</td>\n",
       "      <td>未上传</td>\n",
       "      <td>未上传</td>\n",
       "      <td>未上传</td>\n",
       "    </tr>\n",
       "    <tr>\n",
       "      <th>1</th>\n",
       "      <td>中山</td>\n",
       "      <td>标包1</td>\n",
       "      <td>2015年中国联通广东中山市光纤化改造第一批第六期工程-中山市大涌镇青冈</td>\n",
       "      <td>WEA15DA0B01223.4420</td>\n",
       "      <td>2015年中国联通广东中山市光纤化改造第一批第六期大涌镇青冈接入机\\n房单项项目\\n</td>\n",
       "      <td>4.246277e+09</td>\n",
       "      <td>阮霭行（融合室）、陈旭煌（区分）、杨贞元（运维）、陈振光（销售）、潘共新（财务）</td>\n",
       "      <td>广东南方电信规划咨询设计院有限公司</td>\n",
       "      <td>公诚管理咨询有限公司</td>\n",
       "      <td>2015-08-21 00:00:00</td>\n",
       "      <td>...</td>\n",
       "      <td>NaN</td>\n",
       "      <td>NaN</td>\n",
       "      <td>NaN</td>\n",
       "      <td>NaN</td>\n",
       "      <td>未上传</td>\n",
       "      <td>未上传</td>\n",
       "      <td>是</td>\n",
       "      <td>未上传</td>\n",
       "      <td>未上传</td>\n",
       "      <td>未上传</td>\n",
       "    </tr>\n",
       "    <tr>\n",
       "      <th>2</th>\n",
       "      <td>中山</td>\n",
       "      <td>标包1</td>\n",
       "      <td>2015年中国联通广东中山市光纤化改造第一批第五期工程-中山市三乡镇白石</td>\n",
       "      <td>WES15EA0B01002.4420</td>\n",
       "      <td>2015年中国联通广东中山市光纤化改造第一批第五期-中山市三乡镇白石接入机\\n房单项项目\\n</td>\n",
       "      <td>7.246277e+09</td>\n",
       "      <td>张庆才（区分分管副总）、田月功（区分宽固）、张逸（区分支撑）、杨贞元（运维）、陈振光（销售）...</td>\n",
       "      <td>湖南省邮电规划设计院有限公司</td>\n",
       "      <td>公诚管理咨询有限公司</td>\n",
       "      <td>2015-08-19 00:00:00</td>\n",
       "      <td>...</td>\n",
       "      <td>吉雅花园一个子项物业未能协调好</td>\n",
       "      <td>4：物业准入问题</td>\n",
       "      <td>NaN</td>\n",
       "      <td>NaN</td>\n",
       "      <td>是</td>\n",
       "      <td>是</td>\n",
       "      <td>是</td>\n",
       "      <td>未上传</td>\n",
       "      <td>未上传</td>\n",
       "      <td>未上传</td>\n",
       "    </tr>\n",
       "    <tr>\n",
       "      <th>3</th>\n",
       "      <td>中山</td>\n",
       "      <td>标包1</td>\n",
       "      <td>2015年中国联通广东中山市光纤化改造第一批第八期工程-中山市东凤镇东凤市场</td>\n",
       "      <td>WEA15DA0B01229.4420</td>\n",
       "      <td>2015年中国联通广东中山市光纤化改造第一批第八期-中山市东凤镇东凤市场接入机\\n房单项项目\\n</td>\n",
       "      <td>8.246277e+09</td>\n",
       "      <td>梁伟洪（区分总经理、梁钊坤（固网整合室主任）、万佳友（宽固网格经理）、张文浩（区分支撑室）、...</td>\n",
       "      <td>湖南省邮电规划设计院有限公司</td>\n",
       "      <td>公诚管理咨询有限公司</td>\n",
       "      <td>2015-09-05 00:00:00</td>\n",
       "      <td>...</td>\n",
       "      <td>NaN</td>\n",
       "      <td>NaN</td>\n",
       "      <td>NaN</td>\n",
       "      <td>NaN</td>\n",
       "      <td>未上传</td>\n",
       "      <td>未上传</td>\n",
       "      <td>未上传</td>\n",
       "      <td>未上传</td>\n",
       "      <td>未上传</td>\n",
       "      <td>未上传</td>\n",
       "    </tr>\n",
       "    <tr>\n",
       "      <th>4</th>\n",
       "      <td>中山</td>\n",
       "      <td>标包1</td>\n",
       "      <td>2015年中国联通广东中山市光纤化改造第一批第五期工程-中山市三乡镇平南</td>\n",
       "      <td>WES15EA0B01002.4420</td>\n",
       "      <td>2015年中国联通广东中山市光纤化改造第一批第五期三乡镇平南接入机\\n房单项项目\\n</td>\n",
       "      <td>1.224628e+10</td>\n",
       "      <td>张庆才（区分分管副总）、田月功（区分宽固）、张逸（区分支撑）、杨贞元（运维）、陈振光（销售）...</td>\n",
       "      <td>湖南省邮电规划设计院有限公司</td>\n",
       "      <td>公诚管理咨询有限公司</td>\n",
       "      <td>2015-08-19 00:00:00</td>\n",
       "      <td>...</td>\n",
       "      <td>NaN</td>\n",
       "      <td>NaN</td>\n",
       "      <td>园林5个箱子物业进场问题</td>\n",
       "      <td>4：物业准入问题</td>\n",
       "      <td>是</td>\n",
       "      <td>是</td>\n",
       "      <td>是</td>\n",
       "      <td>未上传</td>\n",
       "      <td>是</td>\n",
       "      <td>未上传</td>\n",
       "    </tr>\n",
       "  </tbody>\n",
       "</table>\n",
       "<p>5 rows × 31 columns</p>\n",
       "</div>"
      ],
      "text/plain": [
       "  分公司 所属标包                                  PMS项目名称              项目PMS编号  \\\n",
       "0  中山  标包1  2015年中国联通广东中山市光纤化改造第一批第七期工程-中山市坦洲镇金山城机房  WEA15DA0B01230.4420   \n",
       "1  中山  标包1     2015年中国联通广东中山市光纤化改造第一批第六期工程-中山市大涌镇青冈  WEA15DA0B01223.4420   \n",
       "2  中山  标包1     2015年中国联通广东中山市光纤化改造第一批第五期工程-中山市三乡镇白石  WES15EA0B01002.4420   \n",
       "3  中山  标包1   2015年中国联通广东中山市光纤化改造第一批第八期工程-中山市东凤镇东凤市场  WEA15DA0B01229.4420   \n",
       "4  中山  标包1     2015年中国联通广东中山市光纤化改造第一批第五期工程-中山市三乡镇平南  WES15EA0B01002.4420   \n",
       "\n",
       "                                         PM子系统子项目名称      PM子系统流水号  \\\n",
       "0       2015年中国联通广东中山市光纤化改造第一批第七期坦洲镇金山城接入机\\n房单项项目\\n  3.246277e+09   \n",
       "1        2015年中国联通广东中山市光纤化改造第一批第六期大涌镇青冈接入机\\n房单项项目\\n  4.246277e+09   \n",
       "2    2015年中国联通广东中山市光纤化改造第一批第五期-中山市三乡镇白石接入机\\n房单项项目\\n  7.246277e+09   \n",
       "3  2015年中国联通广东中山市光纤化改造第一批第八期-中山市东凤镇东凤市场接入机\\n房单项项目\\n  8.246277e+09   \n",
       "4        2015年中国联通广东中山市光纤化改造第一批第五期三乡镇平南接入机\\n房单项项目\\n  1.224628e+10   \n",
       "\n",
       "                                               项目组成员               设计单位  \\\n",
       "0  许潜（区分副总）、余钊辉（固网整合室主任）、杨翔永（宽固网格经理）、陈俊杰（区分支撑室）、林...     湖南省邮电规划设计院有限公司   \n",
       "1           阮霭行（融合室）、陈旭煌（区分）、杨贞元（运维）、陈振光（销售）、潘共新（财务）  广东南方电信规划咨询设计院有限公司   \n",
       "2  张庆才（区分分管副总）、田月功（区分宽固）、张逸（区分支撑）、杨贞元（运维）、陈振光（销售）...     湖南省邮电规划设计院有限公司   \n",
       "3  梁伟洪（区分总经理、梁钊坤（固网整合室主任）、万佳友（宽固网格经理）、张文浩（区分支撑室）、...     湖南省邮电规划设计院有限公司   \n",
       "4  张庆才（区分分管副总）、田月功（区分宽固）、张逸（区分支撑）、杨贞元（运维）、陈振光（销售）...     湖南省邮电规划设计院有限公司   \n",
       "\n",
       "         监理单位               计划开工时间  ...             开工存在问题    开工原因归类  \\\n",
       "0  公诚管理咨询有限公司  2015-08-20 00:00:00  ...                NaN       NaN   \n",
       "1  公诚管理咨询有限公司  2015-08-21 00:00:00  ...                NaN       NaN   \n",
       "2  公诚管理咨询有限公司  2015-08-19 00:00:00  ...    吉雅花园一个子项物业未能协调好  4：物业准入问题   \n",
       "3  公诚管理咨询有限公司  2015-09-05 00:00:00  ...                NaN       NaN   \n",
       "4  公诚管理咨询有限公司  2015-08-19 00:00:00  ...                NaN       NaN   \n",
       "\n",
       "                 完工存在问题    完工原因归类 单项目建议书上传 单项目入库表上传 单项目承诺函上传 设计会审纪要上传 开工报告上传  \\\n",
       "0  金山城、凯都大厦进场需要进场费，协调当中  4：物业准入问题      未上传      未上传      未上传      未上传    未上传   \n",
       "1                   NaN       NaN      未上传      未上传        是      未上传    未上传   \n",
       "2                   NaN       NaN        是        是        是      未上传    未上传   \n",
       "3                   NaN       NaN      未上传      未上传      未上传      未上传    未上传   \n",
       "4          园林5个箱子物业进场问题  4：物业准入问题        是        是        是      未上传      是   \n",
       "\n",
       "  验收报告上传  \n",
       "0    未上传  \n",
       "1    未上传  \n",
       "2    未上传  \n",
       "3    未上传  \n",
       "4    未上传  \n",
       "\n",
       "[5 rows x 31 columns]"
      ]
     },
     "execution_count": 4,
     "metadata": {},
     "output_type": "execute_result"
    }
   ],
   "source": [
    "df2.to_excel('F:\\\\2015年\\\\客户工程\\\\光改\\\\bigdatecoming_光改周报\\\\监理上报\\\\output\\\\监理汇总109.xlsx',sheet_name='项目进度明细表（每日更新）')\n",
    "df2.head()"
   ]
  },
  {
   "cell_type": "code",
   "execution_count": 5,
   "metadata": {
    "collapsed": false
   },
   "outputs": [
    {
     "data": {
      "text/plain": [
       "Index(['分公司', '所属标包', 'PMS项目名称', '项目PMS编号', 'PM子系统子项目名称', 'PM子系统流水号', '项目组成员',\n",
       "       '设计单位', '监理单位', '计划开工时间', '实际开工时间', '是否按计划开工', '计划完工时间', '实际完工时间',\n",
       "       '是否按计划完工', '计划验收交维时间', '实际验收交维时间', '是否按计划验收交维', '结算报审', '实际结算报审时间',\n",
       "       '是否按计划结算报审', '开工存在问题', '开工原因归类', '完工存在问题', '完工原因归类', '单项目建议书上传',\n",
       "       '单项目入库表上传', '单项目承诺函上传', '设计会审纪要上传', '开工报告上传', '验收报告上传'],\n",
       "      dtype='object')"
      ]
     },
     "execution_count": 5,
     "metadata": {},
     "output_type": "execute_result"
    }
   ],
   "source": [
    "df2.columns"
   ]
  },
  {
   "cell_type": "code",
   "execution_count": 6,
   "metadata": {
    "collapsed": false
   },
   "outputs": [
    {
     "data": {
      "text/plain": [
       "分公司\n",
       "东莞    67\n",
       "中山    33\n",
       "佛山    33\n",
       "广州    66\n",
       "惠州    26\n",
       "揭阳     6\n",
       "汕尾     1\n",
       "江门     7\n",
       "深圳    32\n",
       "清远    19\n",
       "湛江     3\n",
       "潮州     7\n",
       "珠海    19\n",
       "肇庆     7\n",
       "茂名     3\n",
       "阳江     1\n",
       "Name: PM子系统子项目名称, dtype: int64"
      ]
     },
     "execution_count": 6,
     "metadata": {},
     "output_type": "execute_result"
    }
   ],
   "source": [
    "df2.groupby('分公司').count()['PM子系统子项目名称']"
   ]
  },
  {
   "cell_type": "code",
   "execution_count": 7,
   "metadata": {
    "collapsed": false
   },
   "outputs": [
    {
     "data": {
      "text/html": [
       "<div>\n",
       "<table border=\"1\" class=\"dataframe\">\n",
       "  <thead>\n",
       "    <tr style=\"text-align: right;\">\n",
       "      <th></th>\n",
       "      <th>PM子系统子项目名称</th>\n",
       "    </tr>\n",
       "    <tr>\n",
       "      <th>分公司</th>\n",
       "      <th></th>\n",
       "    </tr>\n",
       "  </thead>\n",
       "  <tbody>\n",
       "    <tr>\n",
       "      <th>东莞</th>\n",
       "      <td>67</td>\n",
       "    </tr>\n",
       "    <tr>\n",
       "      <th>中山</th>\n",
       "      <td>33</td>\n",
       "    </tr>\n",
       "    <tr>\n",
       "      <th>佛山</th>\n",
       "      <td>32</td>\n",
       "    </tr>\n",
       "    <tr>\n",
       "      <th>广州</th>\n",
       "      <td>60</td>\n",
       "    </tr>\n",
       "    <tr>\n",
       "      <th>惠州</th>\n",
       "      <td>27</td>\n",
       "    </tr>\n",
       "    <tr>\n",
       "      <th>揭阳</th>\n",
       "      <td>6</td>\n",
       "    </tr>\n",
       "    <tr>\n",
       "      <th>汕尾</th>\n",
       "      <td>1</td>\n",
       "    </tr>\n",
       "    <tr>\n",
       "      <th>江门</th>\n",
       "      <td>7</td>\n",
       "    </tr>\n",
       "    <tr>\n",
       "      <th>深圳</th>\n",
       "      <td>32</td>\n",
       "    </tr>\n",
       "    <tr>\n",
       "      <th>清远</th>\n",
       "      <td>18</td>\n",
       "    </tr>\n",
       "    <tr>\n",
       "      <th>湛江</th>\n",
       "      <td>3</td>\n",
       "    </tr>\n",
       "    <tr>\n",
       "      <th>潮州</th>\n",
       "      <td>7</td>\n",
       "    </tr>\n",
       "    <tr>\n",
       "      <th>珠海</th>\n",
       "      <td>19</td>\n",
       "    </tr>\n",
       "    <tr>\n",
       "      <th>肇庆</th>\n",
       "      <td>7</td>\n",
       "    </tr>\n",
       "    <tr>\n",
       "      <th>茂名</th>\n",
       "      <td>3</td>\n",
       "    </tr>\n",
       "    <tr>\n",
       "      <th>阳江</th>\n",
       "      <td>1</td>\n",
       "    </tr>\n",
       "  </tbody>\n",
       "</table>\n",
       "</div>"
      ],
      "text/plain": [
       "     PM子系统子项目名称\n",
       "分公司            \n",
       "东莞           67\n",
       "中山           33\n",
       "佛山           32\n",
       "广州           60\n",
       "惠州           27\n",
       "揭阳            6\n",
       "汕尾            1\n",
       "江门            7\n",
       "深圳           32\n",
       "清远           18\n",
       "湛江            3\n",
       "潮州            7\n",
       "珠海           19\n",
       "肇庆            7\n",
       "茂名            3\n",
       "阳江            1"
      ]
     },
     "execution_count": 7,
     "metadata": {},
     "output_type": "execute_result"
    }
   ],
   "source": [
    "dfnumber = df2.groupby('分公司').count()[['PM子系统子项目名称']]\n",
    "dfnumber"
   ]
  },
  {
   "cell_type": "code",
   "execution_count": 8,
   "metadata": {
    "collapsed": false
   },
   "outputs": [
    {
     "data": {
      "text/html": [
       "<div>\n",
       "<table border=\"1\" class=\"dataframe\">\n",
       "  <thead>\n",
       "    <tr style=\"text-align: right;\">\n",
       "      <th></th>\n",
       "      <th>实际开工时间</th>\n",
       "    </tr>\n",
       "    <tr>\n",
       "      <th>分公司</th>\n",
       "      <th></th>\n",
       "    </tr>\n",
       "  </thead>\n",
       "  <tbody>\n",
       "    <tr>\n",
       "      <th>东莞</th>\n",
       "      <td>67</td>\n",
       "    </tr>\n",
       "    <tr>\n",
       "      <th>中山</th>\n",
       "      <td>33</td>\n",
       "    </tr>\n",
       "    <tr>\n",
       "      <th>佛山</th>\n",
       "      <td>33</td>\n",
       "    </tr>\n",
       "    <tr>\n",
       "      <th>广州</th>\n",
       "      <td>60</td>\n",
       "    </tr>\n",
       "    <tr>\n",
       "      <th>惠州</th>\n",
       "      <td>27</td>\n",
       "    </tr>\n",
       "    <tr>\n",
       "      <th>揭阳</th>\n",
       "      <td>6</td>\n",
       "    </tr>\n",
       "    <tr>\n",
       "      <th>汕尾</th>\n",
       "      <td>1</td>\n",
       "    </tr>\n",
       "    <tr>\n",
       "      <th>江门</th>\n",
       "      <td>7</td>\n",
       "    </tr>\n",
       "    <tr>\n",
       "      <th>深圳</th>\n",
       "      <td>32</td>\n",
       "    </tr>\n",
       "    <tr>\n",
       "      <th>清远</th>\n",
       "      <td>18</td>\n",
       "    </tr>\n",
       "    <tr>\n",
       "      <th>湛江</th>\n",
       "      <td>3</td>\n",
       "    </tr>\n",
       "    <tr>\n",
       "      <th>潮州</th>\n",
       "      <td>7</td>\n",
       "    </tr>\n",
       "    <tr>\n",
       "      <th>珠海</th>\n",
       "      <td>19</td>\n",
       "    </tr>\n",
       "    <tr>\n",
       "      <th>肇庆</th>\n",
       "      <td>7</td>\n",
       "    </tr>\n",
       "    <tr>\n",
       "      <th>茂名</th>\n",
       "      <td>3</td>\n",
       "    </tr>\n",
       "    <tr>\n",
       "      <th>阳江</th>\n",
       "      <td>1</td>\n",
       "    </tr>\n",
       "  </tbody>\n",
       "</table>\n",
       "</div>"
      ],
      "text/plain": [
       "     实际开工时间\n",
       "分公司        \n",
       "东莞       67\n",
       "中山       33\n",
       "佛山       33\n",
       "广州       60\n",
       "惠州       27\n",
       "揭阳        6\n",
       "汕尾        1\n",
       "江门        7\n",
       "深圳       32\n",
       "清远       18\n",
       "湛江        3\n",
       "潮州        7\n",
       "珠海       19\n",
       "肇庆        7\n",
       "茂名        3\n",
       "阳江        1"
      ]
     },
     "execution_count": 8,
     "metadata": {},
     "output_type": "execute_result"
    }
   ],
   "source": [
    "df2['实际开工时间'] = df2['实际开工时间'].fillna(datetime(1900,1,1))\n",
    "#df2[df2['实际开工时间'] <= datetime(2015,8,25)]\n",
    "dfstart = df2[df2['实际开工时间'] <= datetime(2015,9,8)].groupby('分公司').count()[['实际开工时间']]\n",
    "dfstart"
   ]
  },
  {
   "cell_type": "code",
   "execution_count": 9,
   "metadata": {
    "collapsed": false
   },
   "outputs": [
    {
     "data": {
      "text/plain": [
       "实际完工时间    105\n",
       "dtype: int64"
      ]
     },
     "execution_count": 9,
     "metadata": {},
     "output_type": "execute_result"
    }
   ],
   "source": [
    "#实际完工个数合计\n",
    "dfcpl = df2[df2['实际完工时间'] <= datetime(2015,9,8)].groupby('分公司').count()[['实际完工时间']].sum()\n",
    "dfcpl"
   ]
  },
  {
   "cell_type": "code",
   "execution_count": 10,
   "metadata": {
    "collapsed": false
   },
   "outputs": [
    {
     "data": {
      "text/html": [
       "<div>\n",
       "<table border=\"1\" class=\"dataframe\">\n",
       "  <thead>\n",
       "    <tr style=\"text-align: right;\">\n",
       "      <th></th>\n",
       "      <th>实际完工时间</th>\n",
       "      <th>实际验收交维时间</th>\n",
       "    </tr>\n",
       "    <tr>\n",
       "      <th>分公司</th>\n",
       "      <th></th>\n",
       "      <th></th>\n",
       "    </tr>\n",
       "  </thead>\n",
       "  <tbody>\n",
       "    <tr>\n",
       "      <th>东莞</th>\n",
       "      <td>10</td>\n",
       "      <td>9</td>\n",
       "    </tr>\n",
       "    <tr>\n",
       "      <th>中山</th>\n",
       "      <td>12</td>\n",
       "      <td>12</td>\n",
       "    </tr>\n",
       "    <tr>\n",
       "      <th>佛山</th>\n",
       "      <td>20</td>\n",
       "      <td>9</td>\n",
       "    </tr>\n",
       "    <tr>\n",
       "      <th>广州</th>\n",
       "      <td>22</td>\n",
       "      <td>12</td>\n",
       "    </tr>\n",
       "    <tr>\n",
       "      <th>惠州</th>\n",
       "      <td>1</td>\n",
       "      <td>1</td>\n",
       "    </tr>\n",
       "    <tr>\n",
       "      <th>揭阳</th>\n",
       "      <td>1</td>\n",
       "      <td>1</td>\n",
       "    </tr>\n",
       "    <tr>\n",
       "      <th>汕尾</th>\n",
       "      <td>1</td>\n",
       "      <td>1</td>\n",
       "    </tr>\n",
       "    <tr>\n",
       "      <th>江门</th>\n",
       "      <td>2</td>\n",
       "      <td>2</td>\n",
       "    </tr>\n",
       "    <tr>\n",
       "      <th>深圳</th>\n",
       "      <td>13</td>\n",
       "      <td>9</td>\n",
       "    </tr>\n",
       "    <tr>\n",
       "      <th>清远</th>\n",
       "      <td>1</td>\n",
       "      <td>1</td>\n",
       "    </tr>\n",
       "    <tr>\n",
       "      <th>湛江</th>\n",
       "      <td>1</td>\n",
       "      <td>1</td>\n",
       "    </tr>\n",
       "    <tr>\n",
       "      <th>潮州</th>\n",
       "      <td>2</td>\n",
       "      <td>0</td>\n",
       "    </tr>\n",
       "    <tr>\n",
       "      <th>珠海</th>\n",
       "      <td>6</td>\n",
       "      <td>1</td>\n",
       "    </tr>\n",
       "    <tr>\n",
       "      <th>肇庆</th>\n",
       "      <td>3</td>\n",
       "      <td>3</td>\n",
       "    </tr>\n",
       "    <tr>\n",
       "      <th>茂名</th>\n",
       "      <td>1</td>\n",
       "      <td>1</td>\n",
       "    </tr>\n",
       "  </tbody>\n",
       "</table>\n",
       "</div>"
      ],
      "text/plain": [
       "     实际完工时间  实际验收交维时间\n",
       "分公司                  \n",
       "东莞       10         9\n",
       "中山       12        12\n",
       "佛山       20         9\n",
       "广州       22        12\n",
       "惠州        1         1\n",
       "揭阳        1         1\n",
       "汕尾        1         1\n",
       "江门        2         2\n",
       "深圳       13         9\n",
       "清远        1         1\n",
       "湛江        1         1\n",
       "潮州        2         0\n",
       "珠海        6         1\n",
       "肇庆        3         3\n",
       "茂名        1         1"
      ]
     },
     "execution_count": 10,
     "metadata": {},
     "output_type": "execute_result"
    }
   ],
   "source": [
    "#各地市完工超过一周验收交维情况\n",
    "dfcpl = df2[df2['实际完工时间'] <= datetime(2015,9,1)].groupby('分公司').count()[['实际完工时间','实际验收交维时间']]\n",
    "dfcpl.to_excel('F:\\\\test\\\\各地市完工超一周验收交维情况.xlsx')\n",
    "dfcpl.columns\n",
    "#colnames = ['实际完工时间', '实际验收交维时间','验收交维比例']\n",
    "#dfcpl.columns = colnames \n",
    "dfcpl"
   ]
  },
  {
   "cell_type": "code",
   "execution_count": 11,
   "metadata": {
    "collapsed": false
   },
   "outputs": [
    {
     "data": {
      "text/html": [
       "<div>\n",
       "<table border=\"1\" class=\"dataframe\">\n",
       "  <thead>\n",
       "    <tr style=\"text-align: right;\">\n",
       "      <th></th>\n",
       "      <th>实际验收交维时间</th>\n",
       "    </tr>\n",
       "    <tr>\n",
       "      <th>分公司</th>\n",
       "      <th></th>\n",
       "    </tr>\n",
       "  </thead>\n",
       "  <tbody>\n",
       "    <tr>\n",
       "      <th>东莞</th>\n",
       "      <td>10</td>\n",
       "    </tr>\n",
       "    <tr>\n",
       "      <th>中山</th>\n",
       "      <td>12</td>\n",
       "    </tr>\n",
       "    <tr>\n",
       "      <th>佛山</th>\n",
       "      <td>9</td>\n",
       "    </tr>\n",
       "    <tr>\n",
       "      <th>广州</th>\n",
       "      <td>12</td>\n",
       "    </tr>\n",
       "    <tr>\n",
       "      <th>惠州</th>\n",
       "      <td>2</td>\n",
       "    </tr>\n",
       "    <tr>\n",
       "      <th>揭阳</th>\n",
       "      <td>1</td>\n",
       "    </tr>\n",
       "    <tr>\n",
       "      <th>汕尾</th>\n",
       "      <td>1</td>\n",
       "    </tr>\n",
       "    <tr>\n",
       "      <th>江门</th>\n",
       "      <td>2</td>\n",
       "    </tr>\n",
       "    <tr>\n",
       "      <th>深圳</th>\n",
       "      <td>9</td>\n",
       "    </tr>\n",
       "    <tr>\n",
       "      <th>清远</th>\n",
       "      <td>1</td>\n",
       "    </tr>\n",
       "    <tr>\n",
       "      <th>湛江</th>\n",
       "      <td>1</td>\n",
       "    </tr>\n",
       "    <tr>\n",
       "      <th>珠海</th>\n",
       "      <td>1</td>\n",
       "    </tr>\n",
       "    <tr>\n",
       "      <th>肇庆</th>\n",
       "      <td>3</td>\n",
       "    </tr>\n",
       "    <tr>\n",
       "      <th>茂名</th>\n",
       "      <td>1</td>\n",
       "    </tr>\n",
       "  </tbody>\n",
       "</table>\n",
       "</div>"
      ],
      "text/plain": [
       "     实际验收交维时间\n",
       "分公司          \n",
       "东莞         10\n",
       "中山         12\n",
       "佛山          9\n",
       "广州         12\n",
       "惠州          2\n",
       "揭阳          1\n",
       "汕尾          1\n",
       "江门          2\n",
       "深圳          9\n",
       "清远          1\n",
       "湛江          1\n",
       "珠海          1\n",
       "肇庆          3\n",
       "茂名          1"
      ]
     },
     "execution_count": 11,
     "metadata": {},
     "output_type": "execute_result"
    }
   ],
   "source": [
    "dfcpl  = df2[df2['实际验收交维时间'] <= datetime(2015,9,8)].groupby('分公司').count()[['实际验收交维时间']]\n",
    "dfcpl\n",
    "#plt.plot(dfcpl.index,dfcpl[['实际验收交维时间']])\n",
    "#dfcpl.index = range(1,11)\n",
    "#plt.plot(dfcpl[['实际验收交维时间']],'bo')"
   ]
  },
  {
   "cell_type": "code",
   "execution_count": 12,
   "metadata": {
    "collapsed": false
   },
   "outputs": [
    {
     "data": {
      "text/plain": [
       "65"
      ]
     },
     "execution_count": 12,
     "metadata": {},
     "output_type": "execute_result"
    }
   ],
   "source": [
    "df2[df2['实际验收交维时间'] <= datetime(2015,9,8)].groupby('分公司').count()['实际验收交维时间'].sum()"
   ]
  },
  {
   "cell_type": "code",
   "execution_count": 13,
   "metadata": {
    "collapsed": false
   },
   "outputs": [],
   "source": [
    "#df2[['验收完工时间差']] =  df2[['']]"
   ]
  },
  {
   "cell_type": "code",
   "execution_count": null,
   "metadata": {
    "collapsed": true
   },
   "outputs": [],
   "source": []
  },
  {
   "cell_type": "code",
   "execution_count": null,
   "metadata": {
    "collapsed": true
   },
   "outputs": [],
   "source": []
  },
  {
   "cell_type": "code",
   "execution_count": null,
   "metadata": {
    "collapsed": true
   },
   "outputs": [],
   "source": []
  }
 ],
 "metadata": {
  "kernelspec": {
   "display_name": "Python 3",
   "language": "python",
   "name": "python3"
  },
  "language_info": {
   "codemirror_mode": {
    "name": "ipython",
    "version": 3
   },
   "file_extension": ".py",
   "mimetype": "text/x-python",
   "name": "python",
   "nbconvert_exporter": "python",
   "pygments_lexer": "ipython3",
   "version": "3.4.3"
  }
 },
 "nbformat": 4,
 "nbformat_minor": 0
}
