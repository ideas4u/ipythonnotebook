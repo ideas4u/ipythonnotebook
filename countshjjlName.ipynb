{
 "cells": [
  {
   "cell_type": "code",
   "execution_count": 23,
   "metadata": {
    "collapsed": false
   },
   "outputs": [
    {
     "data": {
      "text/plain": [
       "'F:\\\\2015年\\\\客户工程\\\\光改\\\\bigdatecoming_光改周报\\\\监理上报\\\\output'"
      ]
     },
     "execution_count": 23,
     "metadata": {},
     "output_type": "execute_result"
    }
   ],
   "source": [
    "import pandas as pd\n",
    "import os\n",
    "from pandas import ExcelWriter\n",
    "from pandas import ExcelFile\n",
    "import  matplotlib.pyplot as plt\n",
    "os.getcwd()\n"
   ]
  },
  {
   "cell_type": "code",
   "execution_count": 32,
   "metadata": {
    "collapsed": false
   },
   "outputs": [
    {
     "data": {
      "text/plain": [
       "[<matplotlib.lines.Line2D at 0xbbc5e70>]"
      ]
     },
     "execution_count": 32,
     "metadata": {},
     "output_type": "execute_result"
    }
   ],
   "source": [
    "os.chdir('F:\\\\2015年\\\\客户工程\\\\光改\\\\bigdatecoming_光改周报\\\\监理上报\\\\output')\n",
    "df = pd.read_excel('监理汇总814.xlsx',sheetname='设计、监理上报表格')\n",
    "df.head()\n",
    "dfgroupbyed = df.groupby(['分公司','监理单位'])\n",
    "jldf = dfgroupbyed.count()\n",
    "dfgroupbyed = df.groupby(['分公司','设计单位'])\n",
    "sjdf =dfgroupbyed.count()\n",
    "sjdf\n",
    "#jldf.to_excel('F:\\\\2015年\\\\客户工程\\\\光改\\\\bigdatecoming_光改周报\\\\监理上报\\\\output\\\\监理单位统计.xlsx',sheet_name='监理归属')\n",
    "#sjdf.to_excel('F:\\\\2015年\\\\客户工程\\\\光改\\\\bigdatecoming_光改周报\\\\监理上报\\\\output\\\\设计单位统计.xlsx',sheet_name='设计归属')\n",
    "plt.figure()\n",
    "plt.plot(jldf[[0]])"
   ]
  }
 ],
 "metadata": {
  "kernelspec": {
   "display_name": "Python 3",
   "language": "python",
   "name": "python3"
  },
  "language_info": {
   "codemirror_mode": {
    "name": "ipython",
    "version": 3
   },
   "file_extension": ".py",
   "mimetype": "text/x-python",
   "name": "python",
   "nbconvert_exporter": "python",
   "pygments_lexer": "ipython3",
   "version": "3.4.3"
  }
 },
 "nbformat": 4,
 "nbformat_minor": 0
}
