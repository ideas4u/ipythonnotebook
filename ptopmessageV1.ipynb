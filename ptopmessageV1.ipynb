{
 "cells": [
  {
   "cell_type": "code",
   "execution_count": 2,
   "metadata": {
    "collapsed": true
   },
   "outputs": [],
   "source": [
    "from string import Template\n",
    "import pandas as pd\n",
    "import os\n",
    "from datetime import timedelta, date"
   ]
  },
  {
   "cell_type": "code",
   "execution_count": 3,
   "metadata": {
    "collapsed": false
   },
   "outputs": [],
   "source": [
    "\n",
    "#toname = ['周总','周总','张总','邓总','廖总','曾总','张总','张总','莫总','胡总','叶总','林总','伍总','曹总','欧总','林总']\n",
    "\n",
    "#message = message.append(dict(name = toname[0], ))"
   ]
  },
  {
   "cell_type": "code",
   "execution_count": 6,
   "metadata": {
    "collapsed": false
   },
   "outputs": [
    {
     "name": "stdout",
     "output_type": "stream",
     "text": [
      "16\n",
      "周总,好！受省网建莫总委托，向您汇报广州分公司光改进度情况，广州分公司截止2015-08-26，启动施工46个，占比75%,完工数6,占比9%,距离8月底阶段性完工目标差距较大，请领导关注并加快安排，特此汇报。\n",
      "-------\n",
      "周总,好！受省网建莫总委托，向您汇报深圳分公司光改进度情况，深圳分公司截止2015-08-26，启动施工25个，占比83%,完工数2,占比6%,距离8月底阶段性完工目标差距较大，请领导关注并加快安排，特此汇报。\n",
      "-------\n",
      "张总,好！受省网建莫总委托，向您汇报东莞分公司光改进度情况，东莞分公司截止2015-08-26，启动施工32个，占比47%,完工数0,占比0%,距离8月底阶段性完工目标差距较大，请领导关注并加快安排，特此汇报。\n",
      "-------\n",
      "邓总,好！受省网建莫总委托，向您汇报佛山分公司光改进度情况，佛山分公司截止2015-08-26，启动施工28个，占比90%,完工数5,占比16%,距离8月底阶段性完工目标差距较大，请领导关注并加快安排，特此汇报。\n",
      "-------\n",
      "廖总,好！受省网建莫总委托，向您汇报中山分公司光改进度情况，中山分公司截止2015-08-26，启动施工20个，占比60%,完工数2,占比6%,距离8月底阶段性完工目标差距较大，请领导关注并加快安排，特此汇报。\n",
      "-------\n",
      "曾总,好！受省网建莫总委托，向您汇报珠海分公司光改进度情况，珠海分公司截止2015-08-26，启动施工11个，占比57%,完工数2,占比10%,距离8月底阶段性完工目标差距较大，请领导关注并加快安排，特此汇报。\n",
      "-------\n",
      "张总,好！受省网建莫总委托，向您汇报江门分公司光改进度情况，江门分公司截止2015-08-26，启动施工5个，占比71%,完工数0,占比0%,距离8月底阶段性完工目标差距较大，请领导关注并加快安排，特此汇报。\n",
      "-------\n",
      "张总,好！受省网建莫总委托，向您汇报惠州分公司光改进度情况，惠州分公司截止2015-08-26，启动施工13个，占比50%,完工数1,占比3%,距离8月底阶段性完工目标差距较大，请领导关注并加快安排，特此汇报。\n",
      "-------\n",
      "莫总,好！受省网建莫总委托，向您汇报湛江分公司光改进度情况，湛江分公司截止2015-08-26，启动施工2个，占比66%,完工数0,占比0%,距离8月底阶段性完工目标差距较大，请领导关注并加快安排，特此汇报。\n",
      "-------\n",
      "胡总,好！受省网建莫总委托，向您汇报揭阳分公司光改进度情况，揭阳分公司截止2015-08-26，启动施工2个，占比40%,完工数0,占比0%,距离8月底阶段性完工目标差距较大，请领导关注并加快安排，特此汇报。\n",
      "-------\n",
      "叶总,好！受省网建莫总委托，向您汇报阳江分公司光改进度情况，阳江分公司截止2015-08-26，启动施工1个，占比100%,完工数0,占比0%,距离8月底阶段性完工目标差距较大，请领导关注并加快安排，特此汇报。\n",
      "-------\n",
      "林总,好！受省网建莫总委托，向您汇报茂名分公司光改进度情况，茂名分公司截止2015-08-26，启动施工3个，占比100%,完工数0,占比0%,距离8月底阶段性完工目标差距较大，请领导关注并加快安排，特此汇报。\n",
      "-------\n",
      "伍总,好！受省网建莫总委托，向您汇报肇庆分公司光改进度情况，肇庆分公司截止2015-08-26，启动施工7个，占比100%,完工数1,占比14%,距离8月底阶段性完工目标差距较大，请领导关注并加快安排，特此汇报。\n",
      "-------\n",
      "曹总,好！受省网建莫总委托，向您汇报清远分公司光改进度情况，清远分公司截止2015-08-26，启动施工7个，占比36%,完工数0,占比0%,距离8月底阶段性完工目标差距较大，请领导关注并加快安排，特此汇报。\n",
      "-------\n",
      "欧总,好！受省网建莫总委托，向您汇报潮州分公司光改进度情况，潮州分公司截止2015-08-26，启动施工7个，占比63%,完工数2,占比18%,距离8月底阶段性完工目标差距较大，请领导关注并加快安排，特此汇报。\n",
      "-------\n",
      "\n",
      "-------\n"
     ]
    }
   ],
   "source": [
    "os.chdir('F:\\\\2015年\\\\客户工程\\\\光改\\\\bigdatecoming_光改周报\\\\分公司日报\\\\output')\n",
    "file_name = '光改日报825v1.xlsx'\n",
    "sheetName = '日报数据'\n",
    "sjsheetName = '设计数据'\n",
    "sgsheetName = '开工数据'\n",
    "lxdf = pd.read_excel(file_name,sheetname=sheetName,header=1)\n",
    "sjdf = pd.read_excel(file_name,sheetname=sjsheetName,header=1)\n",
    "sgdf = pd.read_excel(file_name,sheetname=sgsheetName,header=1)\n",
    "lxdf.ix[0,'PMS立项批复比例']\n",
    "todayRq = date.today()\n",
    "message = []\n",
    "for i in range(16):\n",
    "    message.append(dict(name = lxdf.ix[i,'称呼'], city = lxdf.ix[i,'地市'],givenumber = lxdf.ix[i,'计划金额'],todayrq = todayRq,startlx = lxdf.ix[i,'PMS启动立项金额'],rateofstart = lxdf.ix[i,'PMS启动立项比例'],cpllxnumber = lxdf.ix[i,'PMS立项批复金额']\\\n",
    "                       ,rateofcpllx = lxdf.ix[i,'PMS立项批复比例'],sjhs = sjdf.ix[i,'设计会审完成数'],rateofsjhs=sjdf.ix[i,'设计会审完成比例']\\\n",
    "                       ,startsg =sgdf.ix[i,'开工数'],rateofsg =int(sgdf.ix[i,'开工比例']*100),cplsg=sgdf.ix[i,'完工数'],rateofcpl=int(sgdf.ix[i,'完工比例']*100)))\n",
    "print(len(message))\n",
    "t = Template(\"$name,好！受省网建莫总委托，向您汇报$city分公司光改进度情况，$city分公司截止$todayrq，启动施工$startsg个，\\\n",
    "占比$rateofsg%,完工数$cplsg,占比$rateofcpl%,距离8月底阶段性完工目标差距较大，请领导关注并加快安排，特此汇报。\")\n",
    "i = 0\n",
    "for data in message:\n",
    "    if(i>16):\n",
    "        break\n",
    "    if (sgdf.ix[i,'完工比例'] < 0.3  ):\n",
    "        print(t.substitute(data))\n",
    "        i += 1\n",
    "    else:\n",
    "        print()\n",
    "        i += 1\n",
    "    print('-------')"
   ]
  },
  {
   "cell_type": "code",
   "execution_count": null,
   "metadata": {
    "collapsed": true
   },
   "outputs": [],
   "source": []
  },
  {
   "cell_type": "code",
   "execution_count": null,
   "metadata": {
    "collapsed": true
   },
   "outputs": [],
   "source": []
  },
  {
   "cell_type": "code",
   "execution_count": null,
   "metadata": {
    "collapsed": true
   },
   "outputs": [],
   "source": []
  }
 ],
 "metadata": {
  "kernelspec": {
   "display_name": "Python 3",
   "language": "python",
   "name": "python3"
  },
  "language_info": {
   "codemirror_mode": {
    "name": "ipython",
    "version": 3
   },
   "file_extension": ".py",
   "mimetype": "text/x-python",
   "name": "python",
   "nbconvert_exporter": "python",
   "pygments_lexer": "ipython3",
   "version": "3.4.3"
  }
 },
 "nbformat": 4,
 "nbformat_minor": 0
}
