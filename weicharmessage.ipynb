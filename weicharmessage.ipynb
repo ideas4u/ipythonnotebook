{
 "cells": [
  {
   "cell_type": "code",
   "execution_count": 1,
   "metadata": {
    "collapsed": true
   },
   "outputs": [],
   "source": [
    "import pandas as pd\n",
    "import os\n",
    "from string import Template\n",
    "from datetime import timedelta, date"
   ]
  },
  {
   "cell_type": "code",
   "execution_count": 2,
   "metadata": {
    "collapsed": false
   },
   "outputs": [
    {
     "data": {
      "text/plain": [
       "datetime.date(2015, 10, 9)"
      ]
     },
     "execution_count": 2,
     "metadata": {},
     "output_type": "execute_result"
    }
   ],
   "source": [
    "date.today()"
   ]
  },
  {
   "cell_type": "code",
   "execution_count": 3,
   "metadata": {
    "collapsed": false
   },
   "outputs": [
    {
     "data": {
      "text/plain": [
       "['广州', '潮州', '合计']"
      ]
     },
     "execution_count": 3,
     "metadata": {},
     "output_type": "execute_result"
    }
   ],
   "source": [
    "os.chdir('F:\\\\2015年\\\\客户工程\\\\光改\\\\bigdatecoming_光改周报\\\\分公司日报\\\\output')\n",
    "file_name = '光改日报109v1.xlsx'\n",
    "sheetName = '日报数据'\n",
    "sgsheetName = '开工数据'\n",
    "sgdf = pd.read_excel(file_name,sheetname=sgsheetName,header=1)\n",
    "df = pd.read_excel(file_name,sheetname=sheetName,header=1)\n",
    "#print(df.columns)\n",
    "startProject = df.ix[16,'PMS启动立项项目数']\n",
    "startProjectMoney = df.ix[16,'PMS启动立项金额']\n",
    "rateStartProject = df.ix[16,'PMS启动立项比例']\n",
    "upNumber = df.ix[16,'PMS启动立项较昨天增加量']\n",
    "lixiangNumber = df.ix[16,'PMS立项批复项目数']\n",
    "lixiangMoney = df.ix[16,'PMS立项批复金额']\n",
    "ratelixiangMoney = df.ix[16,'PMS立项批复比例']\n",
    "uplixiangNumber = df.ix[16,'PMS立项批复较昨天增加量']\n",
    "subprojectNumber = df.ix[16,'已确定PM子项目数']\n",
    "ratesubprojectNumber = df.ix[16,'已上报接入间比例']\n",
    "upsubprojectNumber = df.ix[16,'已上报接入间较昨天增加数']\n",
    "subprojectMemberNumber = df.ix[16,'已确定项目组成员子项目数']\n",
    "ratesubprojectMemberNumber = df.ix[16,'已确定项目组成员比例']\n",
    "upsubprojectMemberNumber = df.ix[16,'已确定项目组成员较昨天增加数']\n",
    "importsubprojectNumber = df.ix[16,'启动录入子项目数']\n",
    "rateimportsubprojectNumber = df.ix[16,'启动录入比例']\n",
    "upimportsubprojectNumber = df.ix[16,'启动录入较昨天增加数']\n",
    "finishimportsubprojectNumber = df.ix[16,'完成录入子项目数']\n",
    "ratefinishimportsubprojectNumber = df.ix[16,'完成录入比例']\n",
    "upfinishimportsubprojectNumber = df.ix[16,'完成录入较昨天增加数']\n",
    "upfinishshjpifuNumber = df.ix[16,'PMS设计批复较昨天增加量']\n",
    "shijiMoney = df.ix[16,'PMS设计批复金额']\n",
    "rateshijiMoney = df.ix[16,'PMS设计批复比例']\n",
    "shijipifuNumber = df.ix[16,'PMS设计批复项目数']\n",
    "\n",
    "uncpllxc = df[df['PMS立项批复比例'] <0.9]['地市']\n",
    "uncpllxCity =[]\n",
    "for item in uncpllxc:\n",
    "    uncpllxCity.append(item)\n",
    "uncpllxCity = uncpllxCity[0:len(uncpllxCity)]\n",
    "uncpllxCity\n",
    "\n",
    "uncplshiji = df[df['PMS设计批复比例'] < 1]['地市']\n",
    "uncplshijiCity =[]\n",
    "for item in uncplshiji:\n",
    "    uncplshijiCity.append(item)\n",
    "uncplshijiCity = uncplshijiCity[0:len(uncplshijiCity)]\n",
    "uncplshijiCity"
   ]
  },
  {
   "cell_type": "code",
   "execution_count": 4,
   "metadata": {
    "collapsed": false
   },
   "outputs": [
    {
     "data": {
      "text/plain": [
       "Index(['地市', '原竞标接入间数', '已确定PM子项目数', '开工数', '较昨天增加', '开工比例', '完工数', '较昨天增加.1',\n",
       "       '完工比例', '验收完成数', '较昨天增加.2', '验收比例', '结算送审完成数', '较昨天增加.3', '结算送审完成比例',\n",
       "       '项目交付数', '较昨天增加.4', '交付率', '计划迁转用户数', '已迁转用户数', '较昨天增加.5', '迁转比例',\n",
       "       '规划拆除电缆/线对公里', '已拆铜缆（线对公里）', '较昨天增加.6', '拆除比例', '宽带出账用户数(8月底在网)',\n",
       "       '已转网宽带用户数', '较昨天增加.7', '转网比例', '语音出账用户数(8月底在网)', '已转网语音用户数', '较昨天增加.8',\n",
       "       '转网比例.1'],\n",
       "      dtype='object')"
      ]
     },
     "execution_count": 4,
     "metadata": {},
     "output_type": "execute_result"
    }
   ],
   "source": [
    "sgdf.columns"
   ]
  },
  {
   "cell_type": "code",
   "execution_count": null,
   "metadata": {
    "collapsed": true
   },
   "outputs": [],
   "source": []
  },
  {
   "cell_type": "code",
   "execution_count": 5,
   "metadata": {
    "collapsed": false
   },
   "outputs": [
    {
     "data": {
      "text/plain": [
       "[]"
      ]
     },
     "execution_count": 5,
     "metadata": {},
     "output_type": "execute_result"
    }
   ],
   "source": [
    "sjsheetName = '设计数据'\n",
    "sjdf = pd.read_excel(file_name,sheetname=sjsheetName,header=1)\n",
    "thecitylow = sjdf[sjdf['设计会审完成数']==0]['地市'] #未有项目完成会审的地市\n",
    "listlowcity = []\n",
    "for item in thecitylow:\n",
    "    listlowcity.append(item)\n",
    "listlowcity"
   ]
  },
  {
   "cell_type": "code",
   "execution_count": 6,
   "metadata": {
    "collapsed": false
   },
   "outputs": [
    {
     "data": {
      "text/plain": [
       "[]"
      ]
     },
     "execution_count": 6,
     "metadata": {},
     "output_type": "execute_result"
    }
   ],
   "source": [
    "sjhszeroct = sjdf[sjdf['设计会审完成比例'] <0.5]['地市']\n",
    "sjhszeroCity =[]\n",
    "for item in sjhszeroct:\n",
    "    sjhszeroCity.append(item)\n",
    "sjhszeroCity = sjhszeroCity[0:len(sjhszeroCity)]\n",
    "\n",
    "sjhszeroCity"
   ]
  },
  {
   "cell_type": "code",
   "execution_count": 7,
   "metadata": {
    "collapsed": true
   },
   "outputs": [],
   "source": [
    "startsjNumber = sjdf.ix[16,'设计勘察启动数']\n",
    "upstartsjNumber = sjdf.ix[16,'较昨天增加']\n",
    "ratestartsjNumber = sjdf.ix[16,'设计启动比例']\n",
    "finishsjhsNumber = sjdf.ix[16,'设计会审完成数']\n",
    "upfinishsjhsNumber = sjdf.ix[16,'较昨天增加.1']\n",
    "ratefinishsjhsNumber = sjdf.ix[16,'设计会审完成比例']"
   ]
  },
  {
   "cell_type": "code",
   "execution_count": 8,
   "metadata": {
    "collapsed": false
   },
   "outputs": [
    {
     "data": {
      "text/plain": [
       "[]"
      ]
     },
     "execution_count": 8,
     "metadata": {},
     "output_type": "execute_result"
    }
   ],
   "source": [
    "sgdf.head()\n",
    "startsgNumber = sgdf.ix[16,'开工数']\n",
    "rateofstartSg = sgdf.ix[16,'开工比例']\n",
    "upstartSg = sgdf.ix[16,'较昨天增加']\n",
    "rateofstartSg\n",
    "startsgZe = sgdf[sgdf['开工比例'] <= 0.5]['地市']\n",
    "startsgzeroCity =[]\n",
    "for item in startsgZe:\n",
    "    startsgzeroCity.append(item)\n",
    "startsgzeroCity"
   ]
  },
  {
   "cell_type": "code",
   "execution_count": 9,
   "metadata": {
    "collapsed": false
   },
   "outputs": [
    {
     "data": {
      "text/html": [
       "<div>\n",
       "<table border=\"1\" class=\"dataframe\">\n",
       "  <thead>\n",
       "    <tr style=\"text-align: right;\">\n",
       "      <th></th>\n",
       "      <th>地市</th>\n",
       "      <th>原竞标接入间数</th>\n",
       "      <th>已确定PM子项目数</th>\n",
       "      <th>开工数</th>\n",
       "      <th>较昨天增加</th>\n",
       "      <th>开工比例</th>\n",
       "      <th>完工数</th>\n",
       "      <th>较昨天增加.1</th>\n",
       "      <th>完工比例</th>\n",
       "      <th>验收完成数</th>\n",
       "      <th>...</th>\n",
       "      <th>较昨天增加.6</th>\n",
       "      <th>拆除比例</th>\n",
       "      <th>宽带出账用户数(8月底在网)</th>\n",
       "      <th>已转网宽带用户数</th>\n",
       "      <th>较昨天增加.7</th>\n",
       "      <th>转网比例</th>\n",
       "      <th>语音出账用户数(8月底在网)</th>\n",
       "      <th>已转网语音用户数</th>\n",
       "      <th>较昨天增加.8</th>\n",
       "      <th>转网比例.1</th>\n",
       "    </tr>\n",
       "  </thead>\n",
       "  <tbody>\n",
       "    <tr>\n",
       "      <th>0</th>\n",
       "      <td>广州</td>\n",
       "      <td>61</td>\n",
       "      <td>54</td>\n",
       "      <td>53</td>\n",
       "      <td>0</td>\n",
       "      <td>0.981481</td>\n",
       "      <td>51</td>\n",
       "      <td>0</td>\n",
       "      <td>0.944444</td>\n",
       "      <td>14</td>\n",
       "      <td>...</td>\n",
       "      <td>0</td>\n",
       "      <td>0.0</td>\n",
       "      <td>26260</td>\n",
       "      <td>256</td>\n",
       "      <td>0</td>\n",
       "      <td>0.009749</td>\n",
       "      <td>26954</td>\n",
       "      <td>0</td>\n",
       "      <td>0</td>\n",
       "      <td>0.00000</td>\n",
       "    </tr>\n",
       "    <tr>\n",
       "      <th>1</th>\n",
       "      <td>深圳</td>\n",
       "      <td>32</td>\n",
       "      <td>30</td>\n",
       "      <td>30</td>\n",
       "      <td>0</td>\n",
       "      <td>1.000000</td>\n",
       "      <td>25</td>\n",
       "      <td>0</td>\n",
       "      <td>0.833333</td>\n",
       "      <td>14</td>\n",
       "      <td>...</td>\n",
       "      <td>0</td>\n",
       "      <td>0.0</td>\n",
       "      <td>7218</td>\n",
       "      <td>482</td>\n",
       "      <td>15</td>\n",
       "      <td>0.066778</td>\n",
       "      <td>4376</td>\n",
       "      <td>20</td>\n",
       "      <td>0</td>\n",
       "      <td>0.00457</td>\n",
       "    </tr>\n",
       "    <tr>\n",
       "      <th>2</th>\n",
       "      <td>东莞</td>\n",
       "      <td>67</td>\n",
       "      <td>61</td>\n",
       "      <td>61</td>\n",
       "      <td>0</td>\n",
       "      <td>1.000000</td>\n",
       "      <td>53</td>\n",
       "      <td>0</td>\n",
       "      <td>0.868852</td>\n",
       "      <td>16</td>\n",
       "      <td>...</td>\n",
       "      <td>0</td>\n",
       "      <td>0.0</td>\n",
       "      <td>18878</td>\n",
       "      <td>317</td>\n",
       "      <td>3</td>\n",
       "      <td>0.016792</td>\n",
       "      <td>3689</td>\n",
       "      <td>0</td>\n",
       "      <td>0</td>\n",
       "      <td>0.00000</td>\n",
       "    </tr>\n",
       "    <tr>\n",
       "      <th>3</th>\n",
       "      <td>佛山</td>\n",
       "      <td>31</td>\n",
       "      <td>28</td>\n",
       "      <td>28</td>\n",
       "      <td>0</td>\n",
       "      <td>1.000000</td>\n",
       "      <td>27</td>\n",
       "      <td>0</td>\n",
       "      <td>0.964286</td>\n",
       "      <td>18</td>\n",
       "      <td>...</td>\n",
       "      <td>0</td>\n",
       "      <td>0.0</td>\n",
       "      <td>17413</td>\n",
       "      <td>779</td>\n",
       "      <td>0</td>\n",
       "      <td>0.044737</td>\n",
       "      <td>16339</td>\n",
       "      <td>0</td>\n",
       "      <td>0</td>\n",
       "      <td>0.00000</td>\n",
       "    </tr>\n",
       "    <tr>\n",
       "      <th>4</th>\n",
       "      <td>中山</td>\n",
       "      <td>33</td>\n",
       "      <td>33</td>\n",
       "      <td>33</td>\n",
       "      <td>0</td>\n",
       "      <td>1.000000</td>\n",
       "      <td>29</td>\n",
       "      <td>0</td>\n",
       "      <td>0.878788</td>\n",
       "      <td>23</td>\n",
       "      <td>...</td>\n",
       "      <td>0</td>\n",
       "      <td>0.8</td>\n",
       "      <td>9790</td>\n",
       "      <td>430</td>\n",
       "      <td>0</td>\n",
       "      <td>0.043922</td>\n",
       "      <td>3084</td>\n",
       "      <td>0</td>\n",
       "      <td>0</td>\n",
       "      <td>0.00000</td>\n",
       "    </tr>\n",
       "  </tbody>\n",
       "</table>\n",
       "<p>5 rows × 34 columns</p>\n",
       "</div>"
      ],
      "text/plain": [
       "   地市  原竞标接入间数  已确定PM子项目数  开工数  较昨天增加      开工比例  完工数  较昨天增加.1      完工比例  \\\n",
       "0  广州       61         54   53      0  0.981481   51        0  0.944444   \n",
       "1  深圳       32         30   30      0  1.000000   25        0  0.833333   \n",
       "2  东莞       67         61   61      0  1.000000   53        0  0.868852   \n",
       "3  佛山       31         28   28      0  1.000000   27        0  0.964286   \n",
       "4  中山       33         33   33      0  1.000000   29        0  0.878788   \n",
       "\n",
       "   验收完成数   ...     较昨天增加.6  拆除比例  宽带出账用户数(8月底在网)  已转网宽带用户数  较昨天增加.7      转网比例  \\\n",
       "0     14   ...           0   0.0           26260       256        0  0.009749   \n",
       "1     14   ...           0   0.0            7218       482       15  0.066778   \n",
       "2     16   ...           0   0.0           18878       317        3  0.016792   \n",
       "3     18   ...           0   0.0           17413       779        0  0.044737   \n",
       "4     23   ...           0   0.8            9790       430        0  0.043922   \n",
       "\n",
       "   语音出账用户数(8月底在网)  已转网语音用户数  较昨天增加.8   转网比例.1  \n",
       "0           26954         0        0  0.00000  \n",
       "1            4376        20        0  0.00457  \n",
       "2            3689         0        0  0.00000  \n",
       "3           16339         0        0  0.00000  \n",
       "4            3084         0        0  0.00000  \n",
       "\n",
       "[5 rows x 34 columns]"
      ]
     },
     "execution_count": 9,
     "metadata": {},
     "output_type": "execute_result"
    }
   ],
   "source": [
    "sgdf.head()"
   ]
  },
  {
   "cell_type": "code",
   "execution_count": 10,
   "metadata": {
    "collapsed": true
   },
   "outputs": [],
   "source": [
    "fnshsgNumber = sgdf.ix[16,'完工数']\n",
    "rateoffnshSg = sgdf.ix[16,'完工比例']\n",
    "upfnshSg = sgdf.ix[16,'较昨天增加.1']"
   ]
  },
  {
   "cell_type": "code",
   "execution_count": 11,
   "metadata": {
    "collapsed": false
   },
   "outputs": [
    {
     "data": {
      "text/html": [
       "<div>\n",
       "<table border=\"1\" class=\"dataframe\">\n",
       "  <thead>\n",
       "    <tr style=\"text-align: right;\">\n",
       "      <th></th>\n",
       "      <th>地市</th>\n",
       "      <th>原竞标接入间数</th>\n",
       "      <th>已确定PM子项目数</th>\n",
       "      <th>开工数</th>\n",
       "      <th>较昨天增加</th>\n",
       "      <th>开工比例</th>\n",
       "      <th>完工数</th>\n",
       "      <th>较昨天增加.1</th>\n",
       "      <th>完工比例</th>\n",
       "      <th>验收完成数</th>\n",
       "      <th>...</th>\n",
       "      <th>较昨天增加.6</th>\n",
       "      <th>拆除比例</th>\n",
       "      <th>宽带出账用户数(8月底在网)</th>\n",
       "      <th>已转网宽带用户数</th>\n",
       "      <th>较昨天增加.7</th>\n",
       "      <th>转网比例</th>\n",
       "      <th>语音出账用户数(8月底在网)</th>\n",
       "      <th>已转网语音用户数</th>\n",
       "      <th>较昨天增加.8</th>\n",
       "      <th>转网比例.1</th>\n",
       "    </tr>\n",
       "  </thead>\n",
       "  <tbody>\n",
       "    <tr>\n",
       "      <th>0</th>\n",
       "      <td>广州</td>\n",
       "      <td>61</td>\n",
       "      <td>54</td>\n",
       "      <td>53</td>\n",
       "      <td>0</td>\n",
       "      <td>0.981481</td>\n",
       "      <td>51</td>\n",
       "      <td>0</td>\n",
       "      <td>0.944444</td>\n",
       "      <td>14</td>\n",
       "      <td>...</td>\n",
       "      <td>0</td>\n",
       "      <td>0.000000</td>\n",
       "      <td>26260</td>\n",
       "      <td>256</td>\n",
       "      <td>0</td>\n",
       "      <td>0.009749</td>\n",
       "      <td>26954</td>\n",
       "      <td>0</td>\n",
       "      <td>0</td>\n",
       "      <td>0.000000</td>\n",
       "    </tr>\n",
       "    <tr>\n",
       "      <th>1</th>\n",
       "      <td>深圳</td>\n",
       "      <td>32</td>\n",
       "      <td>30</td>\n",
       "      <td>30</td>\n",
       "      <td>0</td>\n",
       "      <td>1.000000</td>\n",
       "      <td>25</td>\n",
       "      <td>0</td>\n",
       "      <td>0.833333</td>\n",
       "      <td>14</td>\n",
       "      <td>...</td>\n",
       "      <td>0</td>\n",
       "      <td>0.000000</td>\n",
       "      <td>7218</td>\n",
       "      <td>482</td>\n",
       "      <td>15</td>\n",
       "      <td>0.066778</td>\n",
       "      <td>4376</td>\n",
       "      <td>20</td>\n",
       "      <td>0</td>\n",
       "      <td>0.004570</td>\n",
       "    </tr>\n",
       "    <tr>\n",
       "      <th>2</th>\n",
       "      <td>东莞</td>\n",
       "      <td>67</td>\n",
       "      <td>61</td>\n",
       "      <td>61</td>\n",
       "      <td>0</td>\n",
       "      <td>1.000000</td>\n",
       "      <td>53</td>\n",
       "      <td>0</td>\n",
       "      <td>0.868852</td>\n",
       "      <td>16</td>\n",
       "      <td>...</td>\n",
       "      <td>0</td>\n",
       "      <td>0.000000</td>\n",
       "      <td>18878</td>\n",
       "      <td>317</td>\n",
       "      <td>3</td>\n",
       "      <td>0.016792</td>\n",
       "      <td>3689</td>\n",
       "      <td>0</td>\n",
       "      <td>0</td>\n",
       "      <td>0.000000</td>\n",
       "    </tr>\n",
       "    <tr>\n",
       "      <th>3</th>\n",
       "      <td>佛山</td>\n",
       "      <td>31</td>\n",
       "      <td>28</td>\n",
       "      <td>28</td>\n",
       "      <td>0</td>\n",
       "      <td>1.000000</td>\n",
       "      <td>27</td>\n",
       "      <td>0</td>\n",
       "      <td>0.964286</td>\n",
       "      <td>18</td>\n",
       "      <td>...</td>\n",
       "      <td>0</td>\n",
       "      <td>0.000000</td>\n",
       "      <td>17413</td>\n",
       "      <td>779</td>\n",
       "      <td>0</td>\n",
       "      <td>0.044737</td>\n",
       "      <td>16339</td>\n",
       "      <td>0</td>\n",
       "      <td>0</td>\n",
       "      <td>0.000000</td>\n",
       "    </tr>\n",
       "    <tr>\n",
       "      <th>4</th>\n",
       "      <td>中山</td>\n",
       "      <td>33</td>\n",
       "      <td>33</td>\n",
       "      <td>33</td>\n",
       "      <td>0</td>\n",
       "      <td>1.000000</td>\n",
       "      <td>29</td>\n",
       "      <td>0</td>\n",
       "      <td>0.878788</td>\n",
       "      <td>23</td>\n",
       "      <td>...</td>\n",
       "      <td>0</td>\n",
       "      <td>0.800000</td>\n",
       "      <td>9790</td>\n",
       "      <td>430</td>\n",
       "      <td>0</td>\n",
       "      <td>0.043922</td>\n",
       "      <td>3084</td>\n",
       "      <td>0</td>\n",
       "      <td>0</td>\n",
       "      <td>0.000000</td>\n",
       "    </tr>\n",
       "    <tr>\n",
       "      <th>5</th>\n",
       "      <td>惠州</td>\n",
       "      <td>26</td>\n",
       "      <td>26</td>\n",
       "      <td>26</td>\n",
       "      <td>0</td>\n",
       "      <td>1.000000</td>\n",
       "      <td>25</td>\n",
       "      <td>0</td>\n",
       "      <td>0.961538</td>\n",
       "      <td>25</td>\n",
       "      <td>...</td>\n",
       "      <td>0</td>\n",
       "      <td>0.000000</td>\n",
       "      <td>5343</td>\n",
       "      <td>165</td>\n",
       "      <td>0</td>\n",
       "      <td>0.030882</td>\n",
       "      <td>5770</td>\n",
       "      <td>0</td>\n",
       "      <td>0</td>\n",
       "      <td>0.000000</td>\n",
       "    </tr>\n",
       "    <tr>\n",
       "      <th>6</th>\n",
       "      <td>珠海</td>\n",
       "      <td>19</td>\n",
       "      <td>19</td>\n",
       "      <td>19</td>\n",
       "      <td>0</td>\n",
       "      <td>1.000000</td>\n",
       "      <td>18</td>\n",
       "      <td>0</td>\n",
       "      <td>0.947368</td>\n",
       "      <td>13</td>\n",
       "      <td>...</td>\n",
       "      <td>0</td>\n",
       "      <td>0.000000</td>\n",
       "      <td>10499</td>\n",
       "      <td>23</td>\n",
       "      <td>0</td>\n",
       "      <td>0.002191</td>\n",
       "      <td>7730</td>\n",
       "      <td>0</td>\n",
       "      <td>0</td>\n",
       "      <td>0.000000</td>\n",
       "    </tr>\n",
       "    <tr>\n",
       "      <th>7</th>\n",
       "      <td>江门</td>\n",
       "      <td>11</td>\n",
       "      <td>7</td>\n",
       "      <td>7</td>\n",
       "      <td>0</td>\n",
       "      <td>1.000000</td>\n",
       "      <td>6</td>\n",
       "      <td>0</td>\n",
       "      <td>0.857143</td>\n",
       "      <td>4</td>\n",
       "      <td>...</td>\n",
       "      <td>0</td>\n",
       "      <td>0.000000</td>\n",
       "      <td>4393</td>\n",
       "      <td>3</td>\n",
       "      <td>0</td>\n",
       "      <td>0.000683</td>\n",
       "      <td>1641</td>\n",
       "      <td>0</td>\n",
       "      <td>0</td>\n",
       "      <td>0.000000</td>\n",
       "    </tr>\n",
       "    <tr>\n",
       "      <th>8</th>\n",
       "      <td>湛江</td>\n",
       "      <td>6</td>\n",
       "      <td>3</td>\n",
       "      <td>3</td>\n",
       "      <td>0</td>\n",
       "      <td>1.000000</td>\n",
       "      <td>2</td>\n",
       "      <td>0</td>\n",
       "      <td>0.666667</td>\n",
       "      <td>1</td>\n",
       "      <td>...</td>\n",
       "      <td>0</td>\n",
       "      <td>0.000000</td>\n",
       "      <td>2249</td>\n",
       "      <td>5</td>\n",
       "      <td>0</td>\n",
       "      <td>0.002223</td>\n",
       "      <td>1815</td>\n",
       "      <td>0</td>\n",
       "      <td>0</td>\n",
       "      <td>0.000000</td>\n",
       "    </tr>\n",
       "    <tr>\n",
       "      <th>9</th>\n",
       "      <td>揭阳</td>\n",
       "      <td>5</td>\n",
       "      <td>5</td>\n",
       "      <td>5</td>\n",
       "      <td>0</td>\n",
       "      <td>1.000000</td>\n",
       "      <td>4</td>\n",
       "      <td>0</td>\n",
       "      <td>0.800000</td>\n",
       "      <td>1</td>\n",
       "      <td>...</td>\n",
       "      <td>0</td>\n",
       "      <td>0.000000</td>\n",
       "      <td>4193</td>\n",
       "      <td>239</td>\n",
       "      <td>0</td>\n",
       "      <td>0.057000</td>\n",
       "      <td>2746</td>\n",
       "      <td>84</td>\n",
       "      <td>0</td>\n",
       "      <td>0.030590</td>\n",
       "    </tr>\n",
       "    <tr>\n",
       "      <th>10</th>\n",
       "      <td>肇庆</td>\n",
       "      <td>7</td>\n",
       "      <td>5</td>\n",
       "      <td>5</td>\n",
       "      <td>0</td>\n",
       "      <td>1.000000</td>\n",
       "      <td>5</td>\n",
       "      <td>0</td>\n",
       "      <td>1.000000</td>\n",
       "      <td>5</td>\n",
       "      <td>...</td>\n",
       "      <td>0</td>\n",
       "      <td>0.000000</td>\n",
       "      <td>2501</td>\n",
       "      <td>38</td>\n",
       "      <td>0</td>\n",
       "      <td>0.015194</td>\n",
       "      <td>337</td>\n",
       "      <td>12</td>\n",
       "      <td>0</td>\n",
       "      <td>0.035608</td>\n",
       "    </tr>\n",
       "    <tr>\n",
       "      <th>11</th>\n",
       "      <td>清远</td>\n",
       "      <td>19</td>\n",
       "      <td>12</td>\n",
       "      <td>12</td>\n",
       "      <td>0</td>\n",
       "      <td>1.000000</td>\n",
       "      <td>12</td>\n",
       "      <td>0</td>\n",
       "      <td>1.000000</td>\n",
       "      <td>5</td>\n",
       "      <td>...</td>\n",
       "      <td>0</td>\n",
       "      <td>0.000000</td>\n",
       "      <td>3372</td>\n",
       "      <td>0</td>\n",
       "      <td>0</td>\n",
       "      <td>0.000000</td>\n",
       "      <td>1127</td>\n",
       "      <td>0</td>\n",
       "      <td>0</td>\n",
       "      <td>0.000000</td>\n",
       "    </tr>\n",
       "    <tr>\n",
       "      <th>12</th>\n",
       "      <td>茂名</td>\n",
       "      <td>6</td>\n",
       "      <td>3</td>\n",
       "      <td>3</td>\n",
       "      <td>0</td>\n",
       "      <td>1.000000</td>\n",
       "      <td>2</td>\n",
       "      <td>0</td>\n",
       "      <td>0.666667</td>\n",
       "      <td>1</td>\n",
       "      <td>...</td>\n",
       "      <td>0</td>\n",
       "      <td>0.000000</td>\n",
       "      <td>4683</td>\n",
       "      <td>0</td>\n",
       "      <td>0</td>\n",
       "      <td>0.000000</td>\n",
       "      <td>3223</td>\n",
       "      <td>0</td>\n",
       "      <td>0</td>\n",
       "      <td>0.000000</td>\n",
       "    </tr>\n",
       "    <tr>\n",
       "      <th>13</th>\n",
       "      <td>潮州</td>\n",
       "      <td>11</td>\n",
       "      <td>6</td>\n",
       "      <td>6</td>\n",
       "      <td>0</td>\n",
       "      <td>1.000000</td>\n",
       "      <td>4</td>\n",
       "      <td>0</td>\n",
       "      <td>0.666667</td>\n",
       "      <td>1</td>\n",
       "      <td>...</td>\n",
       "      <td>0</td>\n",
       "      <td>0.000000</td>\n",
       "      <td>2196</td>\n",
       "      <td>0</td>\n",
       "      <td>0</td>\n",
       "      <td>0.000000</td>\n",
       "      <td>1308</td>\n",
       "      <td>0</td>\n",
       "      <td>0</td>\n",
       "      <td>0.000000</td>\n",
       "    </tr>\n",
       "    <tr>\n",
       "      <th>14</th>\n",
       "      <td>阳江</td>\n",
       "      <td>1</td>\n",
       "      <td>1</td>\n",
       "      <td>1</td>\n",
       "      <td>0</td>\n",
       "      <td>1.000000</td>\n",
       "      <td>1</td>\n",
       "      <td>0</td>\n",
       "      <td>1.000000</td>\n",
       "      <td>1</td>\n",
       "      <td>...</td>\n",
       "      <td>0</td>\n",
       "      <td>0.000000</td>\n",
       "      <td>242</td>\n",
       "      <td>0</td>\n",
       "      <td>0</td>\n",
       "      <td>0.000000</td>\n",
       "      <td>87</td>\n",
       "      <td>0</td>\n",
       "      <td>0</td>\n",
       "      <td>0.000000</td>\n",
       "    </tr>\n",
       "    <tr>\n",
       "      <th>15</th>\n",
       "      <td>汕尾</td>\n",
       "      <td>4</td>\n",
       "      <td>1</td>\n",
       "      <td>1</td>\n",
       "      <td>0</td>\n",
       "      <td>1.000000</td>\n",
       "      <td>1</td>\n",
       "      <td>0</td>\n",
       "      <td>1.000000</td>\n",
       "      <td>1</td>\n",
       "      <td>...</td>\n",
       "      <td>0</td>\n",
       "      <td>0.000000</td>\n",
       "      <td>538</td>\n",
       "      <td>12</td>\n",
       "      <td>0</td>\n",
       "      <td>0.022305</td>\n",
       "      <td>809</td>\n",
       "      <td>0</td>\n",
       "      <td>0</td>\n",
       "      <td>0.000000</td>\n",
       "    </tr>\n",
       "    <tr>\n",
       "      <th>16</th>\n",
       "      <td>合计</td>\n",
       "      <td>339</td>\n",
       "      <td>294</td>\n",
       "      <td>293</td>\n",
       "      <td>0</td>\n",
       "      <td>0.996599</td>\n",
       "      <td>265</td>\n",
       "      <td>0</td>\n",
       "      <td>0.901361</td>\n",
       "      <td>143</td>\n",
       "      <td>...</td>\n",
       "      <td>0</td>\n",
       "      <td>0.002139</td>\n",
       "      <td>119768</td>\n",
       "      <td>2749</td>\n",
       "      <td>47</td>\n",
       "      <td>0.022953</td>\n",
       "      <td>81035</td>\n",
       "      <td>116</td>\n",
       "      <td>0</td>\n",
       "      <td>0.001431</td>\n",
       "    </tr>\n",
       "  </tbody>\n",
       "</table>\n",
       "<p>17 rows × 34 columns</p>\n",
       "</div>"
      ],
      "text/plain": [
       "    地市  原竞标接入间数  已确定PM子项目数  开工数  较昨天增加      开工比例  完工数  较昨天增加.1      完工比例  \\\n",
       "0   广州       61         54   53      0  0.981481   51        0  0.944444   \n",
       "1   深圳       32         30   30      0  1.000000   25        0  0.833333   \n",
       "2   东莞       67         61   61      0  1.000000   53        0  0.868852   \n",
       "3   佛山       31         28   28      0  1.000000   27        0  0.964286   \n",
       "4   中山       33         33   33      0  1.000000   29        0  0.878788   \n",
       "5   惠州       26         26   26      0  1.000000   25        0  0.961538   \n",
       "6   珠海       19         19   19      0  1.000000   18        0  0.947368   \n",
       "7   江门       11          7    7      0  1.000000    6        0  0.857143   \n",
       "8   湛江        6          3    3      0  1.000000    2        0  0.666667   \n",
       "9   揭阳        5          5    5      0  1.000000    4        0  0.800000   \n",
       "10  肇庆        7          5    5      0  1.000000    5        0  1.000000   \n",
       "11  清远       19         12   12      0  1.000000   12        0  1.000000   \n",
       "12  茂名        6          3    3      0  1.000000    2        0  0.666667   \n",
       "13  潮州       11          6    6      0  1.000000    4        0  0.666667   \n",
       "14  阳江        1          1    1      0  1.000000    1        0  1.000000   \n",
       "15  汕尾        4          1    1      0  1.000000    1        0  1.000000   \n",
       "16  合计      339        294  293      0  0.996599  265        0  0.901361   \n",
       "\n",
       "    验收完成数    ...     较昨天增加.6      拆除比例  宽带出账用户数(8月底在网)  已转网宽带用户数  较昨天增加.7  \\\n",
       "0      14    ...           0  0.000000           26260       256        0   \n",
       "1      14    ...           0  0.000000            7218       482       15   \n",
       "2      16    ...           0  0.000000           18878       317        3   \n",
       "3      18    ...           0  0.000000           17413       779        0   \n",
       "4      23    ...           0  0.800000            9790       430        0   \n",
       "5      25    ...           0  0.000000            5343       165        0   \n",
       "6      13    ...           0  0.000000           10499        23        0   \n",
       "7       4    ...           0  0.000000            4393         3        0   \n",
       "8       1    ...           0  0.000000            2249         5        0   \n",
       "9       1    ...           0  0.000000            4193       239        0   \n",
       "10      5    ...           0  0.000000            2501        38        0   \n",
       "11      5    ...           0  0.000000            3372         0        0   \n",
       "12      1    ...           0  0.000000            4683         0        0   \n",
       "13      1    ...           0  0.000000            2196         0        0   \n",
       "14      1    ...           0  0.000000             242         0        0   \n",
       "15      1    ...           0  0.000000             538        12        0   \n",
       "16    143    ...           0  0.002139          119768      2749       47   \n",
       "\n",
       "        转网比例  语音出账用户数(8月底在网)  已转网语音用户数  较昨天增加.8    转网比例.1  \n",
       "0   0.009749           26954         0        0  0.000000  \n",
       "1   0.066778            4376        20        0  0.004570  \n",
       "2   0.016792            3689         0        0  0.000000  \n",
       "3   0.044737           16339         0        0  0.000000  \n",
       "4   0.043922            3084         0        0  0.000000  \n",
       "5   0.030882            5770         0        0  0.000000  \n",
       "6   0.002191            7730         0        0  0.000000  \n",
       "7   0.000683            1641         0        0  0.000000  \n",
       "8   0.002223            1815         0        0  0.000000  \n",
       "9   0.057000            2746        84        0  0.030590  \n",
       "10  0.015194             337        12        0  0.035608  \n",
       "11  0.000000            1127         0        0  0.000000  \n",
       "12  0.000000            3223         0        0  0.000000  \n",
       "13  0.000000            1308         0        0  0.000000  \n",
       "14  0.000000              87         0        0  0.000000  \n",
       "15  0.022305             809         0        0  0.000000  \n",
       "16  0.022953           81035       116        0  0.001431  \n",
       "\n",
       "[17 rows x 34 columns]"
      ]
     },
     "execution_count": 11,
     "metadata": {},
     "output_type": "execute_result"
    }
   ],
   "source": [
    "cplsgNumber = sgdf.ix[16,'验收完成数']\n",
    "rateofcplSg = sgdf.ix[16,'验收比例']\n",
    "upcplSg = sgdf.ix[16,'较昨天增加.2']\n",
    "sgdf"
   ]
  },
  {
   "cell_type": "code",
   "execution_count": 12,
   "metadata": {
    "collapsed": false
   },
   "outputs": [
    {
     "data": {
      "text/plain": [
       "['广州', '东莞', '揭阳', '潮州']"
      ]
     },
     "execution_count": 12,
     "metadata": {},
     "output_type": "execute_result"
    }
   ],
   "source": [
    "cplsgZe = sgdf[sgdf['验收比例'] < 0.3]['地市']\n",
    "cplsgzeroCity = []\n",
    "for item in cplsgZe:\n",
    "    cplsgzeroCity.append(item)\n",
    "cplsgzeroCity"
   ]
  },
  {
   "cell_type": "code",
   "execution_count": 13,
   "metadata": {
    "collapsed": false
   },
   "outputs": [
    {
     "data": {
      "text/plain": [
       "['深圳', '湛江', '揭阳', '茂名', '潮州']"
      ]
     },
     "execution_count": 13,
     "metadata": {},
     "output_type": "execute_result"
    }
   ],
   "source": [
    "fnshsgZe = sgdf[sgdf['完工比例'] < 0.85]['地市']\n",
    "fnshsgzeroCity = []\n",
    "for item in fnshsgZe:\n",
    "    fnshsgzeroCity.append(item)\n",
    "fnshsgzeroCity"
   ]
  },
  {
   "cell_type": "code",
   "execution_count": 14,
   "metadata": {
    "collapsed": false
   },
   "outputs": [
    {
     "data": {
      "text/plain": [
       "Index(['地市', '原竞标接入间数', '已确定PM子项目数', '开工数', '较昨天增加', '开工比例', '完工数', '较昨天增加.1',\n",
       "       '完工比例', '验收完成数', '较昨天增加.2', '验收比例', '结算送审完成数', '较昨天增加.3', '结算送审完成比例',\n",
       "       '项目交付数', '较昨天增加.4', '交付率', '计划迁转用户数', '已迁转用户数', '较昨天增加.5', '迁转比例',\n",
       "       '规划拆除电缆/线对公里', '已拆铜缆（线对公里）', '较昨天增加.6', '拆除比例', '宽带出账用户数(8月底在网)',\n",
       "       '已转网宽带用户数', '较昨天增加.7', '转网比例', '语音出账用户数(8月底在网)', '已转网语音用户数', '较昨天增加.8',\n",
       "       '转网比例.1'],\n",
       "      dtype='object')"
      ]
     },
     "execution_count": 14,
     "metadata": {},
     "output_type": "execute_result"
    }
   ],
   "source": [
    "sgdf.columns"
   ]
  },
  {
   "cell_type": "code",
   "execution_count": 15,
   "metadata": {
    "collapsed": false
   },
   "outputs": [
    {
     "data": {
      "text/plain": [
       "['广州',\n",
       " '佛山',\n",
       " '中山',\n",
       " '惠州',\n",
       " '珠海',\n",
       " '江门',\n",
       " '湛江',\n",
       " '揭阳',\n",
       " '肇庆',\n",
       " '清远',\n",
       " '茂名',\n",
       " '潮州',\n",
       " '阳江',\n",
       " '汕尾']"
      ]
     },
     "execution_count": 15,
     "metadata": {},
     "output_type": "execute_result"
    }
   ],
   "source": [
    "nochangenetcity = sgdf[sgdf['较昨天增加.7'] == 0]['地市']\n",
    "nochangenetCity = []\n",
    "for item in nochangenetcity:\n",
    "    nochangenetCity.append(item)\n",
    "nochangenetCity"
   ]
  },
  {
   "cell_type": "code",
   "execution_count": 16,
   "metadata": {
    "collapsed": false
   },
   "outputs": [
    {
     "data": {
      "text/plain": [
       "Index(['地市', '原竞标接入间数', '已确定PM子项目数', '开工数', '较昨天增加', '开工比例', '完工数', '较昨天增加.1',\n",
       "       '完工比例', '验收完成数', '较昨天增加.2', '验收比例', '结算送审完成数', '较昨天增加.3', '结算送审完成比例',\n",
       "       '项目交付数', '较昨天增加.4', '交付率', '计划迁转用户数', '已迁转用户数', '较昨天增加.5', '迁转比例',\n",
       "       '规划拆除电缆/线对公里', '已拆铜缆（线对公里）', '较昨天增加.6', '拆除比例', '宽带出账用户数(8月底在网)',\n",
       "       '已转网宽带用户数', '较昨天增加.7', '转网比例', '语音出账用户数(8月底在网)', '已转网语音用户数', '较昨天增加.8',\n",
       "       '转网比例.1'],\n",
       "      dtype='object')"
      ]
     },
     "execution_count": 16,
     "metadata": {},
     "output_type": "execute_result"
    }
   ],
   "source": [
    "sgdf.columns"
   ]
  },
  {
   "cell_type": "code",
   "execution_count": 17,
   "metadata": {
    "collapsed": true
   },
   "outputs": [],
   "source": [
    "#销售数据提取\n",
    "upchangenetNumber = sgdf.ix[16,'较昨天增加.7']\n",
    "changenetNumber = sgdf.ix[16,'已转网宽带用户数']\n",
    "ratechangenetNumber = sgdf.ix[16,'转网比例']\n",
    "\n",
    "upchangenetsoundNumber = sgdf.ix[16,'较昨天增加.8']\n",
    "changenetvoiceNumber = sgdf.ix[16,'已转网语音用户数']\n",
    "ratechangenetvoiceNumber = sgdf.ix[16,'转网比例.1']"
   ]
  },
  {
   "cell_type": "code",
   "execution_count": 18,
   "metadata": {
    "collapsed": true
   },
   "outputs": [],
   "source": [
    "#运维数据提取\n",
    "upjiaoweiNumber = sgdf.ix[16,'较昨天增加.4']\n",
    "jiaoweiNumber = sgdf.ix[16,'项目交付数']\n",
    "ratejiaoweiNumber = sgdf.ix[16,'交付率']\n",
    "\n",
    "planchangeNumber = sgdf.ix[16,'计划迁转用户数']\n",
    "upchangeNumber = sgdf.ix[16,'较昨天增加.5']\n",
    "cplchangeNumber = sgdf.ix[16,'已迁转用户数']\n",
    "ratecplchangeNumber = sgdf.ix[16,'迁转比例']"
   ]
  },
  {
   "cell_type": "code",
   "execution_count": 19,
   "metadata": {
    "collapsed": false
   },
   "outputs": [
    {
     "data": {
      "text/plain": [
       "'dailysjdata = []\\ndailysjdata.append(dict(startsjnumber = startsjNumber,upstartsjnumber = upstartsjNumber,ratestartsjnumber = ratestartsjNumber,                       finishsjhsnumber=finishsjhsNumber,upfinishsjhsnumber=upfinishsjhsNumber,ratefinishsjhsnumber=ratefinishsjhsNumber))'"
      ]
     },
     "execution_count": 19,
     "metadata": {},
     "output_type": "execute_result"
    }
   ],
   "source": [
    "'''dailysjdata = []\n",
    "dailysjdata.append(dict(startsjnumber = startsjNumber,upstartsjnumber = upstartsjNumber,ratestartsjnumber = ratestartsjNumber,\\\n",
    "                       finishsjhsnumber=finishsjhsNumber,upfinishsjhsnumber=upfinishsjhsNumber,ratefinishsjhsnumber=ratefinishsjhsNumber))'''"
   ]
  },
  {
   "cell_type": "code",
   "execution_count": 20,
   "metadata": {
    "collapsed": false
   },
   "outputs": [
    {
     "name": "stdout",
     "output_type": "stream",
     "text": [
      "2015-10-09\n"
     ]
    }
   ],
   "source": [
    "print(date.today())\n",
    "dailydata = []\n",
    "dailydata.append(dict(dateoftoday = date.today(),startproject = startProject, startprojectmoney = startProjectMoney,ratestartproject = rateStartProject,\\\n",
    "                      upnumber = upNumber,lixiangnumber = lixiangNumber,lixiangmoney = lixiangMoney,ratelixiangmoney = ratelixiangMoney,\\\n",
    "                      uplixiangnumber = uplixiangNumber,subprojectnumber = subprojectNumber,ratesubprojectnumber = ratesubprojectNumber,\\\n",
    "                      upsubprojectnumber = upsubprojectNumber,subprojectmembernumber = subprojectMemberNumber,ratesubprojectmembernumber = ratesubprojectMemberNumber,\\\n",
    "                      upsubprojectmembernumber = upsubprojectMemberNumber,importsubprojectnumber=importsubprojectNumber,rateimportsubprojectnumber=\\\n",
    "                      rateimportsubprojectNumber,upimportsubprojectnumber=upimportsubprojectNumber,finishimportsubprojectnumber=finishimportsubprojectNumber,\\\n",
    "                      ratefinishimportsubprojectnumber = ratefinishimportsubprojectNumber,upfinishimportsubprojectnumber=upfinishimportsubprojectNumber,\\\n",
    "                     uncpllxcity = uncpllxCity,finishsjhsnumber = finishsjhsNumber,ratefinishsjhsnumber=round(ratefinishsjhsNumber*100,0),\\\n",
    "                     sjhszerocity=sjhszeroCity,startsgnumber = startsgNumber,rateofstartsg=round(rateofstartSg*100,0),startsgzerocity=startsgzeroCity,\n",
    "                    cplsgzerocity = cplsgzeroCity,cplsgnumber=cplsgNumber,rateofcplsg=round(rateofcplSg*100,0),upstartsg=upstartSg,upcplsg=upcplSg,\n",
    "                     upfinishsjhsnumber=upfinishsjhsNumber,fnshsgnumber=fnshsgNumber,rateoffnshsg=round(rateoffnshSg*100,0),upfnshsg=upfnshSg,fnshsgzerocity = fnshsgzeroCity,\\\n",
    "                     upfinishshjpifunumber=upfinishshjpifuNumber,shijimoney=shijiMoney,rateshijimoney=round(rateshijiMoney*100,0),\\\n",
    "                     uncplshijicity=uncplshijiCity,shijipifunumber=int(shijipifuNumber),upchangenetnumber=upchangenetNumber,\\\n",
    "                     changenetnumber=changenetNumber,ratechangenetnumber=round(ratechangenetNumber*100,0),\\\n",
    "                     upchangenetsoundnumber=upchangenetsoundNumber,changenetvoicenumber=changenetvoiceNumber,\\\n",
    "                     ratechangenetvoiceNumber=round(ratechangenetvoiceNumber*100,0),upjiaoweinumber=upjiaoweiNumber,\\\n",
    "                     jiaoweinumber=jiaoweiNumber,ratejiaoweiNumber=round(ratejiaoweiNumber*100,0),\\\n",
    "                     planchangenumber=planchangeNumber,upchangenumber=upchangeNumber,\\\n",
    "                     cplchangenumber=cplchangeNumber,ratecplchangenumber=round(ratecplchangeNumber*100,0),nochangenetcity1=nochangenetCity))\n",
    "#dailydata"
   ]
  },
  {
   "cell_type": "code",
   "execution_count": 21,
   "metadata": {
    "collapsed": false,
    "scrolled": true
   },
   "outputs": [
    {
     "name": "stdout",
     "output_type": "stream",
     "text": [
      "各地市分公司好:\n",
      "\n",
      "现将 2015-10-09 截止17点，全省 “沃光改专项”进展通报如下:\n",
      "【网建部进展】\n",
      "\n",
      "1、新增完成设计批复2.0个，累计达到133个,占比96.0%,设计批复未完成的地市：['广州', '潮州', '合计']。\n",
      "\n",
      "2、新增开工项目0个,累计达到293个,占比100.0%。开工数低于50%的地市：[]。 \n",
      "\n",
      "3、新增完工项目0个,累计达到265个,占比90.0%,项目完工率小于85%的地市：['深圳', '湛江', '揭阳', '茂名', '潮州']。\n",
      "\n",
      "4、新增验收项目1个,累计达到143个,占比49.0%,项目验收率小于30%的地市：['广州', '东莞', '揭阳', '潮州']。\n",
      "\n",
      "【销售部进展】\n",
      "\n",
      "1、新增宽带迁转用户数47个，累计达到2749个，占比2.0%。较昨天新增转网为0的地市：['广州', '佛山', '中山', '惠州', '珠海', '江门', '湛江', '揭阳', '肇庆', '清远', '茂名', '潮州', '阳江', '汕尾']。\n",
      "\n",
      "2、新增语音迁转用户数0个，累计达到116个，占比0.0%。\n",
      "\n",
      "【运维部进展】\n",
      "\n",
      "1、新增交维项目8个，累计达到37个，占比11.0%。\n",
      "\n",
      "2、计划割接迁转用户49089个，新增完成割接用户46个，累计达到1270个，占比3.0%。\n"
     ]
    }
   ],
   "source": [
    "t_lixiang = Template(\"各地市分公司好:\\n\\n现将 $dateoftoday 截止17点，全省 “沃光改专项”进展通报如下:\\n【网建部进展】\\n\\n1、新增完成设计批复$upfinishshjpifunumber个，累计达到$shijipifunumber个,占比$rateshijimoney%,\\\n",
    "设计批复未完成的地市：$uncplshijicity。\\n\\n2、新增开工项目$upstartsg个,累计达到$startsgnumber个,占比$rateofstartsg%。\\\n",
    "开工数低于50%的地市：$startsgzerocity。 \\n\\n3、新增完工项目$upfnshsg个,累计达到$fnshsgnumber个,占比$rateoffnshsg%,项目完工率小于85%的地市：$fnshsgzerocity。\\\n",
    "\\n\\n4、新增验收项目$upcplsg个,累计达到$cplsgnumber个,占比$rateofcplsg%,项目验收率小于30%的地市：$cplsgzerocity。\\n\\n【销售部进展】\\n\\n1、新增宽带\\\n",
    "迁转用户数$upchangenetnumber个，累计达到$changenetnumber个，占比$ratechangenetnumber%。较昨天新增转网为0的地市：$nochangenetcity1。\\n\\n2、新增语音迁转用户数$upchangenetsoundnumber个，累计达到$changenetvoicenumber个，占比$ratechangenetvoiceNumber%。\\\n",
    "\\n\\n【运维部进展】\\n\\n1、新增交维项目$upjiaoweinumber个，累计达到$jiaoweinumber个，\\\n",
    "占比$ratejiaoweiNumber%。\\n\\n2、计划割接迁转用户$planchangenumber个，新增完成割接用户$upchangenumber个，累计达到$cplchangenumber个，占比$ratecplchangenumber%。\")\n",
    "\n",
    "#f = open('F:\\\\2015年\\\\客户工程\\\\光改\\\\bigdatecoming_光改周报\\\\分公司日报\\\\output\\\\微信信息立项0813.txt','w')\n",
    "print(t_lixiang.substitute(dailydata[0]))\n",
    "#f.close\n",
    "\n"
   ]
  },
  {
   "cell_type": "code",
   "execution_count": null,
   "metadata": {
    "collapsed": true
   },
   "outputs": [],
   "source": []
  },
  {
   "cell_type": "code",
   "execution_count": null,
   "metadata": {
    "collapsed": true
   },
   "outputs": [],
   "source": []
  },
  {
   "cell_type": "code",
   "execution_count": null,
   "metadata": {
    "collapsed": true
   },
   "outputs": [],
   "source": []
  },
  {
   "cell_type": "code",
   "execution_count": null,
   "metadata": {
    "collapsed": true
   },
   "outputs": [],
   "source": []
  },
  {
   "cell_type": "code",
   "execution_count": null,
   "metadata": {
    "collapsed": true
   },
   "outputs": [],
   "source": []
  }
 ],
 "metadata": {
  "kernelspec": {
   "display_name": "Python 3",
   "language": "python",
   "name": "python3"
  },
  "language_info": {
   "codemirror_mode": {
    "name": "ipython",
    "version": 3
   },
   "file_extension": ".py",
   "mimetype": "text/x-python",
   "name": "python",
   "nbconvert_exporter": "python",
   "pygments_lexer": "ipython3",
   "version": "3.4.3"
  }
 },
 "nbformat": 4,
 "nbformat_minor": 0
}
