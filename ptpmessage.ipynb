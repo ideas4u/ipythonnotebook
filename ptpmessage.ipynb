{
 "cells": [
  {
   "cell_type": "code",
   "execution_count": 2,
   "metadata": {
    "collapsed": true
   },
   "outputs": [],
   "source": [
    "from string import Template\n",
    "import pandas as pd\n",
    "import os\n",
    "from datetime import timedelta, date"
   ]
  },
  {
   "cell_type": "code",
   "execution_count": 41,
   "metadata": {
    "collapsed": false
   },
   "outputs": [
    {
     "name": "stdout",
     "output_type": "stream",
     "text": [
      "广州分公司,截止2015-08-12 贵司沃光改专项PMS立项批复比例为0.05028243195168722,小于60%,请加快\n",
      "设计会审完成20个,但是开工数为0.请加快进度。\n",
      "====\n",
      "深圳分公司,截止2015-08-12,贵司沃光改专项设计会审完成4个,但是开工数为0,请加快进度。\n",
      "====\n",
      "东莞分公司,截止2015-08-12 贵司沃光改专项PMS立项批复比例为0.22910193701075224,小于60%,请加快\n",
      "设计会审完成6个,但是开工数为0.请加快进度。\n",
      "====\n",
      "佛山分公司,截止2015-08-12 贵司沃光改专项PMS立项批复比例为0.0,小于60%,请加快\n",
      "====\n",
      "中山分公司,截止2015-08-12,贵司沃光改专项设计会审完成6个,但是开工数为0,请加快进度。\n",
      "====\n",
      "====\n",
      "江门分公司,截止2015-08-12,贵司沃光改专项设计会审完成1个,但是开工数为0,请加快进度。\n",
      "====\n",
      "惠州分公司,截止2015-08-12,贵司沃光改专项设计会审完成数为0,请加快。\n",
      "====\n",
      "湛江分公司,截止2015-08-12,贵司沃光改专项设计会审完成数为0,请加快。\n",
      "====\n",
      "揭阳分公司,截止2015-08-12 贵司沃光改专项PMS立项批复比例为0.24158889199705005,小于60%,请加快\n",
      " 设计会审完成数为0。\n",
      "====\n",
      "阳江分公司,截止2015-08-12,贵司沃光改专项设计会审完成1个,但是开工数为0,请加快进度。\n",
      "====\n",
      "茂名分公司,截止2015-08-12,贵司沃光改专项设计会审完成1个,但是开工数为0,请加快进度。\n",
      "====\n",
      "====\n",
      "清远分公司,截止2015-08-12,贵司沃光改专项设计会审完成5个,但是开工数为0,请加快进度。\n",
      "====\n",
      "潮州分公司,截止2015-08-12,贵司沃光改专项设计会审完成3个,但是开工数为0,请加快进度。\n",
      "====\n",
      "汕尾分公司,截止2015-08-12 贵司沃光改专项PMS立项批复比例为0.0,小于60%,请加快\n",
      " 设计会审完成数为0。\n",
      "====\n"
     ]
    }
   ],
   "source": [
    "os.chdir('F:\\\\2015年\\\\客户工程\\\\光改\\\\bigdatecoming_光改周报\\\\分公司日报\\\\output')\n",
    "file_name = '光改日报812v1.xlsx'\n",
    "sheetName = '日报数据'\n",
    "sjsheetName = '设计数据'\n",
    "sgsheetName = '开工数据'\n",
    "lxdf = pd.read_excel(file_name,sheetname=sheetName,header=1)\n",
    "sjdf = pd.read_excel(file_name,sheetname=sjsheetName,header=1)\n",
    "sgdf = pd.read_excel(file_name,sheetname=sgsheetName,header=1)\n",
    "lxdf.ix[0,'PMS立项批复比例']\n",
    "\n",
    "for i in range(16):\n",
    "    if (lxdf.ix[i,'PMS立项批复比例'] < 0.6):\n",
    "        print(\"{0}分公司,截止{1} 贵司沃光改专项PMS立项批复比例为{2},小于60%,请加快\".format(lxdf.ix[i,'地市'],date.today(),lxdf.ix[i,'PMS立项批复比例']))\n",
    "       \n",
    "    if (sjdf.ix[i,'设计会审完成比例'] == 0):\n",
    "        if(lxdf.ix[i,'PMS立项批复比例'] < 0.6):\n",
    "            print(\" 设计会审完成数为0。\")\n",
    "            \n",
    "        else:\n",
    "            print(\"{0}分公司,截止{1},贵司沃光改专项设计会审完成数为0,请加快。\".format(sjdf.ix[i,'地市'], date.today()))\n",
    "    if( sjdf.ix[i,'设计会审完成比例'] > 0 and sgdf.ix[i,'开工比例'] == 0):\n",
    "        if(lxdf.ix[i,'PMS立项批复比例'] < 0.6):\n",
    "            print(\"设计会审完成{0}个,但是开工数为0.请加快进度。\".format(sjdf.ix[i,'设计会审完成数']))\n",
    "        else:\n",
    "            print(\"{0}分公司,截止{1},贵司沃光改专项设计会审完成{2}个,但是开工数为0,请加快进度。\".format(sgdf.ix[i,'地市'], date.today(), sjdf.ix[i,'设计会审完成数']))\n",
    "           \n",
    "    print(\"====\")"
   ]
  },
  {
   "cell_type": "code",
   "execution_count": 39,
   "metadata": {
    "collapsed": false
   },
   "outputs": [
    {
     "data": {
      "text/html": [
       "<div>\n",
       "<table border=\"1\" class=\"dataframe\">\n",
       "  <thead>\n",
       "    <tr style=\"text-align: right;\">\n",
       "      <th></th>\n",
       "      <th>地市</th>\n",
       "      <th>接入间数</th>\n",
       "      <th>已确定项目组接入间数</th>\n",
       "      <th>设计勘察启动数</th>\n",
       "      <th>较昨天增加</th>\n",
       "      <th>设计启动比例</th>\n",
       "      <th>设计会审完成数</th>\n",
       "      <th>较昨天增加.1</th>\n",
       "      <th>设计会审完成比例</th>\n",
       "    </tr>\n",
       "  </thead>\n",
       "  <tbody>\n",
       "    <tr>\n",
       "      <th>0</th>\n",
       "      <td>广州</td>\n",
       "      <td>61</td>\n",
       "      <td>61</td>\n",
       "      <td>28</td>\n",
       "      <td>14</td>\n",
       "      <td>0.459016</td>\n",
       "      <td>20</td>\n",
       "      <td>14</td>\n",
       "      <td>0.327869</td>\n",
       "    </tr>\n",
       "    <tr>\n",
       "      <th>1</th>\n",
       "      <td>深圳</td>\n",
       "      <td>32</td>\n",
       "      <td>32</td>\n",
       "      <td>10</td>\n",
       "      <td>0</td>\n",
       "      <td>0.312500</td>\n",
       "      <td>4</td>\n",
       "      <td>0</td>\n",
       "      <td>0.125000</td>\n",
       "    </tr>\n",
       "    <tr>\n",
       "      <th>2</th>\n",
       "      <td>东莞</td>\n",
       "      <td>67</td>\n",
       "      <td>67</td>\n",
       "      <td>29</td>\n",
       "      <td>0</td>\n",
       "      <td>0.432836</td>\n",
       "      <td>6</td>\n",
       "      <td>0</td>\n",
       "      <td>0.089552</td>\n",
       "    </tr>\n",
       "    <tr>\n",
       "      <th>3</th>\n",
       "      <td>佛山</td>\n",
       "      <td>31</td>\n",
       "      <td>31</td>\n",
       "      <td>31</td>\n",
       "      <td>0</td>\n",
       "      <td>1.000000</td>\n",
       "      <td>9</td>\n",
       "      <td>0</td>\n",
       "      <td>0.290323</td>\n",
       "    </tr>\n",
       "    <tr>\n",
       "      <th>4</th>\n",
       "      <td>中山</td>\n",
       "      <td>33</td>\n",
       "      <td>33</td>\n",
       "      <td>28</td>\n",
       "      <td>0</td>\n",
       "      <td>0.848485</td>\n",
       "      <td>6</td>\n",
       "      <td>6</td>\n",
       "      <td>0.181818</td>\n",
       "    </tr>\n",
       "  </tbody>\n",
       "</table>\n",
       "</div>"
      ],
      "text/plain": [
       "   地市  接入间数  已确定项目组接入间数  设计勘察启动数  较昨天增加    设计启动比例  设计会审完成数  较昨天增加.1  设计会审完成比例\n",
       "0  广州    61          61       28     14  0.459016       20       14  0.327869\n",
       "1  深圳    32          32       10      0  0.312500        4        0  0.125000\n",
       "2  东莞    67          67       29      0  0.432836        6        0  0.089552\n",
       "3  佛山    31          31       31      0  1.000000        9        0  0.290323\n",
       "4  中山    33          33       28      0  0.848485        6        6  0.181818"
      ]
     },
     "execution_count": 39,
     "metadata": {},
     "output_type": "execute_result"
    }
   ],
   "source": [
    "sjdf.head()"
   ]
  },
  {
   "cell_type": "code",
   "execution_count": 14,
   "metadata": {
    "collapsed": false
   },
   "outputs": [
    {
     "data": {
      "text/plain": [
       "0.050282431951687218"
      ]
     },
     "execution_count": 14,
     "metadata": {},
     "output_type": "execute_result"
    }
   ],
   "source": [
    "lxdf.ix[0,'PMS立项批复比例'] "
   ]
  }
 ],
 "metadata": {
  "kernelspec": {
   "display_name": "Python 3",
   "language": "python",
   "name": "python3"
  },
  "language_info": {
   "codemirror_mode": {
    "name": "ipython",
    "version": 3
   },
   "file_extension": ".py",
   "mimetype": "text/x-python",
   "name": "python",
   "nbconvert_exporter": "python",
   "pygments_lexer": "ipython3",
   "version": "3.4.3"
  }
 },
 "nbformat": 4,
 "nbformat_minor": 0
}
