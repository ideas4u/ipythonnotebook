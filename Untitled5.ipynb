{
 "cells": [
  {
   "cell_type": "code",
   "execution_count": 1,
   "metadata": {
    "collapsed": true
   },
   "outputs": [],
   "source": [
    "import pandas as pd\n",
    "import os"
   ]
  },
  {
   "cell_type": "code",
   "execution_count": 4,
   "metadata": {
    "collapsed": false
   },
   "outputs": [
    {
     "data": {
      "text/plain": [
       "'F:\\\\2015年\\\\客户工程\\\\光改\\\\bigdatecoming_光改周报\\\\分公司日报\\\\output'"
      ]
     },
     "execution_count": 4,
     "metadata": {},
     "output_type": "execute_result"
    }
   ],
   "source": [
    "wpath = 'F:\\\\2015年\\\\客户工程\\\\光改\\\\bigdatecoming_光改周报\\\\分公司日报\\\\output'\n",
    "os.chdir(wpath)\n",
    "os.getcwd()"
   ]
  },
  {
   "cell_type": "code",
   "execution_count": 14,
   "metadata": {
    "collapsed": false
   },
   "outputs": [],
   "source": [
    "file_name = 'XX市分公司日报模板.xlsx'\n",
    "df = pd.read_excel(file_name,sheetname='项目进度明细表（每周更新）',header=1,skiprows = [2])\n",
    "df.head()\n",
    "#df.to_excel('F:\\\\2015年\\\\客户工程\\\\光改\\\\bigdatecoming_光改周报\\\\分公司日报\\\\output\\\\测试分公司日报818.xlsx',sheet_name='项目进度明细表（每周更新）')"
   ]
  },
  {
   "cell_type": "code",
   "execution_count": 15,
   "metadata": {
    "collapsed": false,
    "scrolled": false
   },
   "outputs": [
    {
     "data": {
      "text/plain": [
       "Index(['分公司', '所属标包', 'PMS项目名称', '项目PMS编号', 'PM子系统子项目名称', 'PM子系统流水号', '项目组成员',\n",
       "       '设计单位', '监理单位', '立项', '设计', '验收', '结算', '决算', '设计勘察', '设计会审', '开工',\n",
       "       'Unnamed: 17', 'Unnamed: 18', '验收交维', 'Unnamed: 20', 'Unnamed: 21',\n",
       "       '结算报审', 'Unnamed: 23', 'Unnamed: 24', '需转网宽带用户数（户）', '已转网宽带用户数（户）',\n",
       "       '累计转网完成率', '新发展用户数（户）', '需转网语音用户数（户）', '已转网语音用户数（户）', '累计转网完成率.1',\n",
       "       '新发展用户数（户）.1', '需拆铜缆（线对公里）', '已拆铜缆（线对公里）', '累计铜缆拆除完成率', '已拆铜缆已入库（线对公里）',\n",
       "       '已拆铜缆入库完成率', '需拆设备（端）', '已拆设备（端）', '累计设备拆除完成率', '已入库设备（端）',\n",
       "       '已拆设备入库完成率'],\n",
       "      dtype='object')"
      ]
     },
     "execution_count": 15,
     "metadata": {},
     "output_type": "execute_result"
    }
   ],
   "source": [
    "df.columns"
   ]
  },
  {
   "cell_type": "code",
   "execution_count": 20,
   "metadata": {
    "collapsed": false
   },
   "outputs": [],
   "source": [
    "df.rename(columns={'Unnamed: 17':'实际开工时间','Unnamed: 18':'是否按计划开工', 'Unnamed: 20':'实际验收交维时间',\\\n",
    "                   'Unnamed: 21':'是否按计划验收交维','Unnamed: 23':'实际结算报审时间', 'Unnamed: 24':'是否按计划结算报审'},inplace=True)"
   ]
  },
  {
   "cell_type": "code",
   "execution_count": 21,
   "metadata": {
    "collapsed": true
   },
   "outputs": [],
   "source": [
    "df.to_excel('F:\\\\2015年\\\\客户工程\\\\光改\\\\bigdatecoming_光改周报\\\\分公司日报\\\\output\\\\测试改名3分公司日报818.xlsx',sheet_name='项目进度明细表（每周更新）')"
   ]
  }
 ],
 "metadata": {
  "kernelspec": {
   "display_name": "Python 3",
   "language": "python",
   "name": "python3"
  },
  "language_info": {
   "codemirror_mode": {
    "name": "ipython",
    "version": 3
   },
   "file_extension": ".py",
   "mimetype": "text/x-python",
   "name": "python",
   "nbconvert_exporter": "python",
   "pygments_lexer": "ipython3",
   "version": "3.4.3"
  }
 },
 "nbformat": 4,
 "nbformat_minor": 0
}
