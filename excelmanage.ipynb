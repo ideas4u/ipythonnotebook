{
 "cells": [
  {
   "cell_type": "code",
   "execution_count": 1,
   "metadata": {
    "collapsed": false
   },
   "outputs": [
    {
     "data": {
      "text/plain": [
       "'E:\\\\winpython\\\\WinPython-32bit-3.4.3.4\\\\notebooks'"
      ]
     },
     "execution_count": 1,
     "metadata": {},
     "output_type": "execute_result"
    }
   ],
   "source": [
    "%matplotlib inline\n",
    "import matplotlib.pyplot as plt\n",
    "from numpy.random import randn\n",
    "import pandas as pd\n",
    "import numpy as np\n",
    "import os\n",
    "from datetime import timedelta, date, datetime\n",
    "#from pandas import ExcelWriter\n",
    "#from pandas import ExcelFile\n",
    "os.getcwd()\n"
   ]
  },
  {
   "cell_type": "code",
   "execution_count": 2,
   "metadata": {
    "collapsed": false
   },
   "outputs": [],
   "source": [
    "os.chdir('F:\\\\2015年\\\\客户工程\\\\光改\\\\bigdatecoming_光改周报\\\\分公司日报\\\\109')\n",
    "cwd = os.getcwd()\n",
    "file_name = os.listdir(cwd)"
   ]
  },
  {
   "cell_type": "code",
   "execution_count": 3,
   "metadata": {
    "collapsed": false
   },
   "outputs": [
    {
     "data": {
      "text/plain": [
       "'电话会议拨入号码  96020228， 会议室258209    密码 1601'"
      ]
     },
     "execution_count": 3,
     "metadata": {},
     "output_type": "execute_result"
    }
   ],
   "source": [
    "'''电话会议拨入号码  96020228， 会议室258209    密码 1601'''  "
   ]
  },
  {
   "cell_type": "code",
   "execution_count": 4,
   "metadata": {
    "collapsed": false
   },
   "outputs": [],
   "source": [
    "df2 = pd.DataFrame()\n",
    "for i in range(0,len(file_name)):\n",
    "    df = pd.read_excel(file_name[i],sheetname='第一批光改接入间名单(含8个光改试点)',header=2)\n",
    "    df2 = pd.concat([df2,df],join='outer')\n",
    "#df2.rename(columns={'开工':'计划开工时间','Unnamed: 17':'实际开工时间','Unnamed: 18':'是否按计划开工', '验收交维':'计划验收交维时间','Unnamed: 20':'实际验收交维时间',\\\n",
    "                   #'Unnamed: 21':'是否按计划验收交维','Unnamed: 23':'实际结算报审时间', 'Unnamed: 24':'是否按计划结算报审'},inplace=True)"
   ]
  },
  {
   "cell_type": "code",
   "execution_count": 5,
   "metadata": {
    "collapsed": false
   },
   "outputs": [
    {
     "data": {
      "text/html": [
       "<div>\n",
       "<table border=\"1\" class=\"dataframe\">\n",
       "  <thead>\n",
       "    <tr style=\"text-align: right;\">\n",
       "      <th></th>\n",
       "      <th>地市</th>\n",
       "      <th>标包</th>\n",
       "      <th>接入间</th>\n",
       "      <th>光改属性备注:原标包,标包取消,新增,试点</th>\n",
       "      <th>接入间id</th>\n",
       "      <th>接入间编码</th>\n",
       "      <th>接入间场景</th>\n",
       "      <th>PMS项目名称</th>\n",
       "      <th>项目PMS编号</th>\n",
       "      <th>接入间名称</th>\n",
       "      <th>...</th>\n",
       "      <th>具备放号条件较昨天增加</th>\n",
       "      <th>交付率</th>\n",
       "      <th>计划迁转用户数</th>\n",
       "      <th>已迁转用户数</th>\n",
       "      <th>较昨天增加</th>\n",
       "      <th>迁转比例</th>\n",
       "      <th>规划拆除电缆/线对公里</th>\n",
       "      <th>已拆铜缆（线对公里）</th>\n",
       "      <th>较昨天增加.1</th>\n",
       "      <th>拆除比例</th>\n",
       "    </tr>\n",
       "  </thead>\n",
       "  <tbody>\n",
       "    <tr>\n",
       "      <th>0</th>\n",
       "      <td>中山</td>\n",
       "      <td>中山2号标包</td>\n",
       "      <td>中山市大涌镇旗涌</td>\n",
       "      <td>原标包</td>\n",
       "      <td>11917</td>\n",
       "      <td>ZSDC008</td>\n",
       "      <td>城中村</td>\n",
       "      <td>2015年中国联通广东中山市光纤化改造第一批第十期工程-中山市大涌镇旗涌</td>\n",
       "      <td>WEA15DA0B01222.4420</td>\n",
       "      <td>2015年中国联通广东中山市光纤化改造第一批第十期大涌镇旗涌接入机\\n房单项项目</td>\n",
       "      <td>...</td>\n",
       "      <td>NaN</td>\n",
       "      <td>NaN</td>\n",
       "      <td>NaN</td>\n",
       "      <td>NaN</td>\n",
       "      <td>NaN</td>\n",
       "      <td>NaN</td>\n",
       "      <td>NaN</td>\n",
       "      <td>NaN</td>\n",
       "      <td>NaN</td>\n",
       "      <td>NaN</td>\n",
       "    </tr>\n",
       "    <tr>\n",
       "      <th>1</th>\n",
       "      <td>中山</td>\n",
       "      <td>中山3号标包</td>\n",
       "      <td>中山市中山港镇御豪花园</td>\n",
       "      <td>原标包</td>\n",
       "      <td>12837</td>\n",
       "      <td>ZSZS014</td>\n",
       "      <td>封闭式小区</td>\n",
       "      <td>2015年中国联通广东中山市光纤化改造第一批第二十一期工程-中山市中山港镇御豪花园</td>\n",
       "      <td>WEA15DA0B01219.4420</td>\n",
       "      <td>2015年中国联通广东中山市光纤化改造第一批第二十一期工程-中山市中山港镇御豪花园</td>\n",
       "      <td>...</td>\n",
       "      <td>NaN</td>\n",
       "      <td>NaN</td>\n",
       "      <td>NaN</td>\n",
       "      <td>NaN</td>\n",
       "      <td>NaN</td>\n",
       "      <td>NaN</td>\n",
       "      <td>NaN</td>\n",
       "      <td>NaN</td>\n",
       "      <td>NaN</td>\n",
       "      <td>NaN</td>\n",
       "    </tr>\n",
       "    <tr>\n",
       "      <th>2</th>\n",
       "      <td>中山</td>\n",
       "      <td>中山1号标包</td>\n",
       "      <td>中山市坦洲镇金山城机房</td>\n",
       "      <td>原标包</td>\n",
       "      <td>20511</td>\n",
       "      <td>ZSTZ031</td>\n",
       "      <td>封闭式小区</td>\n",
       "      <td>2015年中国联通广东中山市光纤化改造第一批第七期工程-中山市坦洲镇金山城机房</td>\n",
       "      <td>WEA15DA0B01230.4420</td>\n",
       "      <td>2015年中国联通广东中山市光纤化改造第一批第七期坦洲镇金山城接入机\\n房单项项目</td>\n",
       "      <td>...</td>\n",
       "      <td>NaN</td>\n",
       "      <td>NaN</td>\n",
       "      <td>NaN</td>\n",
       "      <td>NaN</td>\n",
       "      <td>NaN</td>\n",
       "      <td>NaN</td>\n",
       "      <td>NaN</td>\n",
       "      <td>NaN</td>\n",
       "      <td>NaN</td>\n",
       "      <td>NaN</td>\n",
       "    </tr>\n",
       "    <tr>\n",
       "      <th>3</th>\n",
       "      <td>中山</td>\n",
       "      <td>中山2号标包</td>\n",
       "      <td>中山市中山港镇名嘉花园</td>\n",
       "      <td>原标包</td>\n",
       "      <td>10379</td>\n",
       "      <td>ZSZS003</td>\n",
       "      <td>城中村</td>\n",
       "      <td>2015年中国联通广东中山市光纤化改造第一批第九期工程-中山市中山港镇名嘉花园</td>\n",
       "      <td>WEA15DA0B01220.4420</td>\n",
       "      <td>2015年中国联通广东中山市光纤化改造第一批第九期工程-中山市中山港镇名嘉花园</td>\n",
       "      <td>...</td>\n",
       "      <td>NaN</td>\n",
       "      <td>NaN</td>\n",
       "      <td>NaN</td>\n",
       "      <td>NaN</td>\n",
       "      <td>NaN</td>\n",
       "      <td>NaN</td>\n",
       "      <td>NaN</td>\n",
       "      <td>NaN</td>\n",
       "      <td>NaN</td>\n",
       "      <td>NaN</td>\n",
       "    </tr>\n",
       "    <tr>\n",
       "      <th>4</th>\n",
       "      <td>中山</td>\n",
       "      <td>中山1号标包</td>\n",
       "      <td>中山市东凤镇东凤市场</td>\n",
       "      <td>原标包</td>\n",
       "      <td>11665</td>\n",
       "      <td>ZSDF006</td>\n",
       "      <td>城中村</td>\n",
       "      <td>2015年中国联通广东中山市光纤化改造第一批第八期工程-中山市东凤镇东凤市场</td>\n",
       "      <td>WEA15DA0B01229.4420</td>\n",
       "      <td>2015年中国联通广东中山市光纤化改造第一批第八期-中山市东凤镇东凤市场接入机\\n房单项项目\\n</td>\n",
       "      <td>...</td>\n",
       "      <td>NaN</td>\n",
       "      <td>NaN</td>\n",
       "      <td>NaN</td>\n",
       "      <td>NaN</td>\n",
       "      <td>NaN</td>\n",
       "      <td>NaN</td>\n",
       "      <td>NaN</td>\n",
       "      <td>NaN</td>\n",
       "      <td>NaN</td>\n",
       "      <td>NaN</td>\n",
       "    </tr>\n",
       "  </tbody>\n",
       "</table>\n",
       "<p>5 rows × 46 columns</p>\n",
       "</div>"
      ],
      "text/plain": [
       "   地市      标包          接入间 光改属性备注:原标包,标包取消,新增,试点  接入间id    接入间编码  接入间场景  \\\n",
       "0  中山  中山2号标包     中山市大涌镇旗涌                   原标包  11917  ZSDC008    城中村   \n",
       "1  中山  中山3号标包  中山市中山港镇御豪花园                   原标包  12837  ZSZS014  封闭式小区   \n",
       "2  中山  中山1号标包  中山市坦洲镇金山城机房                   原标包  20511  ZSTZ031  封闭式小区   \n",
       "3  中山  中山2号标包  中山市中山港镇名嘉花园                   原标包  10379  ZSZS003    城中村   \n",
       "4  中山  中山1号标包   中山市东凤镇东凤市场                   原标包  11665  ZSDF006    城中村   \n",
       "\n",
       "                                     PMS项目名称              项目PMS编号  \\\n",
       "0       2015年中国联通广东中山市光纤化改造第一批第十期工程-中山市大涌镇旗涌  WEA15DA0B01222.4420   \n",
       "1  2015年中国联通广东中山市光纤化改造第一批第二十一期工程-中山市中山港镇御豪花园  WEA15DA0B01219.4420   \n",
       "2    2015年中国联通广东中山市光纤化改造第一批第七期工程-中山市坦洲镇金山城机房  WEA15DA0B01230.4420   \n",
       "3    2015年中国联通广东中山市光纤化改造第一批第九期工程-中山市中山港镇名嘉花园  WEA15DA0B01220.4420   \n",
       "4     2015年中国联通广东中山市光纤化改造第一批第八期工程-中山市东凤镇东凤市场  WEA15DA0B01229.4420   \n",
       "\n",
       "                                              接入间名称  ...  具备放号条件较昨天增加 交付率  \\\n",
       "0          2015年中国联通广东中山市光纤化改造第一批第十期大涌镇旗涌接入机\\n房单项项目  ...          NaN NaN   \n",
       "1         2015年中国联通广东中山市光纤化改造第一批第二十一期工程-中山市中山港镇御豪花园  ...          NaN NaN   \n",
       "2         2015年中国联通广东中山市光纤化改造第一批第七期坦洲镇金山城接入机\\n房单项项目  ...          NaN NaN   \n",
       "3           2015年中国联通广东中山市光纤化改造第一批第九期工程-中山市中山港镇名嘉花园  ...          NaN NaN   \n",
       "4  2015年中国联通广东中山市光纤化改造第一批第八期-中山市东凤镇东凤市场接入机\\n房单项项目\\n  ...          NaN NaN   \n",
       "\n",
       "  计划迁转用户数 已迁转用户数 较昨天增加 迁转比例  规划拆除电缆/线对公里  已拆铜缆（线对公里）  较昨天增加.1  拆除比例  \n",
       "0     NaN    NaN   NaN  NaN          NaN         NaN      NaN   NaN  \n",
       "1     NaN    NaN   NaN  NaN          NaN         NaN      NaN   NaN  \n",
       "2     NaN    NaN   NaN  NaN          NaN         NaN      NaN   NaN  \n",
       "3     NaN    NaN   NaN  NaN          NaN         NaN      NaN   NaN  \n",
       "4     NaN    NaN   NaN  NaN          NaN         NaN      NaN   NaN  \n",
       "\n",
       "[5 rows x 46 columns]"
      ]
     },
     "execution_count": 5,
     "metadata": {},
     "output_type": "execute_result"
    }
   ],
   "source": [
    "df2.to_excel('F:\\\\2015年\\\\客户工程\\\\光改\\\\bigdatecoming_光改周报\\\\分公司日报\\\\output\\\\分公司日报汇总109v1.xlsx',sheet_name='第一批光改接入间名单(含8个光改试点)')\n",
    "\n",
    "df2.head()"
   ]
  },
  {
   "cell_type": "code",
   "execution_count": 15,
   "metadata": {
    "collapsed": true
   },
   "outputs": [],
   "source": [
    "#df2['Name'] = df2['Name'].astype(np.datetime64)"
   ]
  },
  {
   "cell_type": "code",
   "execution_count": 42,
   "metadata": {
    "collapsed": false
   },
   "outputs": [
    {
     "ename": "AttributeError",
     "evalue": "'DataFrame' object has no attribute '计划开工时间'",
     "output_type": "error",
     "traceback": [
      "\u001b[1;31m---------------------------------------------------------------------------\u001b[0m",
      "\u001b[1;31mAttributeError\u001b[0m                            Traceback (most recent call last)",
      "\u001b[1;32m<ipython-input-42-882a592ab334>\u001b[0m in \u001b[0;36m<module>\u001b[1;34m()\u001b[0m\n\u001b[1;32m----> 1\u001b[1;33m \u001b[0mdf2\u001b[0m\u001b[1;33m.\u001b[0m\u001b[0m计划开工时间\u001b[0m\u001b[1;33m\u001b[0m\u001b[0m\n\u001b[0m",
      "\u001b[1;32mE:\\winpython\\WinPython-32bit-3.4.3.4\\python-3.4.3\\lib\\site-packages\\pandas\\core\\generic.py\u001b[0m in \u001b[0;36m__getattr__\u001b[1;34m(self, name)\u001b[0m\n\u001b[0;32m   2148\u001b[0m                 \u001b[1;32mreturn\u001b[0m \u001b[0mself\u001b[0m\u001b[1;33m[\u001b[0m\u001b[0mname\u001b[0m\u001b[1;33m]\u001b[0m\u001b[1;33m\u001b[0m\u001b[0m\n\u001b[0;32m   2149\u001b[0m             raise AttributeError(\"'%s' object has no attribute '%s'\" %\n\u001b[1;32m-> 2150\u001b[1;33m                                  (type(self).__name__, name))\n\u001b[0m\u001b[0;32m   2151\u001b[0m \u001b[1;33m\u001b[0m\u001b[0m\n\u001b[0;32m   2152\u001b[0m     \u001b[1;32mdef\u001b[0m \u001b[0m__setattr__\u001b[0m\u001b[1;33m(\u001b[0m\u001b[0mself\u001b[0m\u001b[1;33m,\u001b[0m \u001b[0mname\u001b[0m\u001b[1;33m,\u001b[0m \u001b[0mvalue\u001b[0m\u001b[1;33m)\u001b[0m\u001b[1;33m:\u001b[0m\u001b[1;33m\u001b[0m\u001b[0m\n",
      "\u001b[1;31mAttributeError\u001b[0m: 'DataFrame' object has no attribute '计划开工时间'"
     ]
    }
   ],
   "source": [
    "df2.计划开工时间"
   ]
  },
  {
   "cell_type": "code",
   "execution_count": 17,
   "metadata": {
    "collapsed": false
   },
   "outputs": [
    {
     "data": {
      "text/plain": [
       "Index(['分公司', '所属标包', 'PMS项目名称', '项目PMS编号', 'PM子系统子项目名称', 'PM子系统流水号', '项目组成员',\n",
       "       '设计单位', '监理单位', '立项', '设计', '验收', '结算', '决算', '设计勘察', '设计会审', '计划开工时间',\n",
       "       '实际开工时间', '是否按计划开工', '计划验收交维时间', '实际验收交维时间', '是否按计划验收交维', '结算报审',\n",
       "       '实际结算报审时间', '是否按计划结算报审', '需转网宽带用户数（户）', '已转网宽带用户数（户）', '累计转网完成率',\n",
       "       '新发展用户数（户）', '需转网语音用户数（户）', '已转网语音用户数（户）', '累计转网完成率.1', '新发展用户数（户）.1',\n",
       "       '需拆铜缆（线对公里）', '已拆铜缆（线对公里）', '累计铜缆拆除完成率', '已拆铜缆已入库（线对公里）', '已拆铜缆入库完成率',\n",
       "       '需拆设备（端）', '已拆设备（端）', '累计设备拆除完成率', '已入库设备（端）', '已拆设备入库完成率'],\n",
       "      dtype='object')"
      ]
     },
     "execution_count": 17,
     "metadata": {},
     "output_type": "execute_result"
    }
   ],
   "source": [
    "df2.columns\n",
    "#kgdf2 = df2[df2['开工']=='是']\n",
    "#ysdf2 = df2[df2['验收交维']=='是']\n",
    "#sjdf2 = df2[df2['设计会审']=='是']\n",
    "#sjkcdf2 = df2[df2['设计勘察']=='是']"
   ]
  },
  {
   "cell_type": "code",
   "execution_count": 18,
   "metadata": {
    "collapsed": false
   },
   "outputs": [
    {
     "data": {
      "text/html": [
       "<div>\n",
       "<table border=\"1\" class=\"dataframe\">\n",
       "  <thead>\n",
       "    <tr style=\"text-align: right;\">\n",
       "      <th></th>\n",
       "      <th>计划验收交维时间</th>\n",
       "    </tr>\n",
       "    <tr>\n",
       "      <th>分公司</th>\n",
       "      <th></th>\n",
       "    </tr>\n",
       "  </thead>\n",
       "  <tbody>\n",
       "    <tr>\n",
       "      <th>东莞</th>\n",
       "      <td>22</td>\n",
       "    </tr>\n",
       "    <tr>\n",
       "      <th>中山</th>\n",
       "      <td>14</td>\n",
       "    </tr>\n",
       "    <tr>\n",
       "      <th>佛山</th>\n",
       "      <td>28</td>\n",
       "    </tr>\n",
       "    <tr>\n",
       "      <th>广州</th>\n",
       "      <td>43</td>\n",
       "    </tr>\n",
       "    <tr>\n",
       "      <th>揭阳</th>\n",
       "      <td>1</td>\n",
       "    </tr>\n",
       "    <tr>\n",
       "      <th>汕尾</th>\n",
       "      <td>2</td>\n",
       "    </tr>\n",
       "    <tr>\n",
       "      <th>江门</th>\n",
       "      <td>6</td>\n",
       "    </tr>\n",
       "    <tr>\n",
       "      <th>深圳</th>\n",
       "      <td>18</td>\n",
       "    </tr>\n",
       "    <tr>\n",
       "      <th>珠海</th>\n",
       "      <td>5</td>\n",
       "    </tr>\n",
       "    <tr>\n",
       "      <th>肇庆</th>\n",
       "      <td>1</td>\n",
       "    </tr>\n",
       "    <tr>\n",
       "      <th>茂名</th>\n",
       "      <td>2</td>\n",
       "    </tr>\n",
       "  </tbody>\n",
       "</table>\n",
       "</div>"
      ],
      "text/plain": [
       "     计划验收交维时间\n",
       "分公司          \n",
       "东莞         22\n",
       "中山         14\n",
       "佛山         28\n",
       "广州         43\n",
       "揭阳          1\n",
       "汕尾          2\n",
       "江门          6\n",
       "深圳         18\n",
       "珠海          5\n",
       "肇庆          1\n",
       "茂名          2"
      ]
     },
     "execution_count": 18,
     "metadata": {},
     "output_type": "execute_result"
    }
   ],
   "source": [
    "\"\"\"the number plan to cpl before 0831 \"\"\"\n",
    "cplbefore831df = df2[df2['计划验收交维时间'] <= datetime(2015,8,31)]\n",
    "#cplbefore831df.to_excel('F:\\\\2015年\\\\客户工程\\\\光改\\\\bigdatecoming_光改周报\\\\分公司日报\\\\output\\\\完成在831前.xlsx')\n",
    "cplbefore831groupbyed =  cplbefore831df.groupby('分公司').count()\n",
    "cplbefore831groupbyed[['计划验收交维时间']]\n"
   ]
  },
  {
   "cell_type": "code",
   "execution_count": 19,
   "metadata": {
    "collapsed": false
   },
   "outputs": [
    {
     "data": {
      "text/plain": [
       "计划验收交维时间    142\n",
       "dtype: int64"
      ]
     },
     "execution_count": 19,
     "metadata": {},
     "output_type": "execute_result"
    }
   ],
   "source": [
    "'''8月31日前计划验收交维总数'''\n",
    "cplbefore831groupbyed[['计划验收交维时间']].sum()"
   ]
  },
  {
   "cell_type": "code",
   "execution_count": 20,
   "metadata": {
    "collapsed": false
   },
   "outputs": [
    {
     "data": {
      "text/plain": [
       "Index(['计划验收交维时间'], dtype='object')"
      ]
     },
     "execution_count": 20,
     "metadata": {},
     "output_type": "execute_result"
    }
   ],
   "source": [
    "cplbefore831groupbyed[['计划验收交维时间']].columns"
   ]
  },
  {
   "cell_type": "code",
   "execution_count": 36,
   "metadata": {
    "collapsed": false
   },
   "outputs": [
    {
     "data": {
      "text/html": [
       "<div>\n",
       "<table border=\"1\" class=\"dataframe\">\n",
       "  <thead>\n",
       "    <tr style=\"text-align: right;\">\n",
       "      <th></th>\n",
       "      <th>实际验收交维时间</th>\n",
       "    </tr>\n",
       "    <tr>\n",
       "      <th>分公司</th>\n",
       "      <th></th>\n",
       "    </tr>\n",
       "  </thead>\n",
       "  <tbody>\n",
       "    <tr>\n",
       "      <th>东莞</th>\n",
       "      <td>0</td>\n",
       "    </tr>\n",
       "    <tr>\n",
       "      <th>中山</th>\n",
       "      <td>0</td>\n",
       "    </tr>\n",
       "    <tr>\n",
       "      <th>佛山</th>\n",
       "      <td>4</td>\n",
       "    </tr>\n",
       "    <tr>\n",
       "      <th>广州</th>\n",
       "      <td>1</td>\n",
       "    </tr>\n",
       "    <tr>\n",
       "      <th>惠州</th>\n",
       "      <td>1</td>\n",
       "    </tr>\n",
       "    <tr>\n",
       "      <th>揭阳</th>\n",
       "      <td>0</td>\n",
       "    </tr>\n",
       "    <tr>\n",
       "      <th>汕尾</th>\n",
       "      <td>0</td>\n",
       "    </tr>\n",
       "    <tr>\n",
       "      <th>江门</th>\n",
       "      <td>0</td>\n",
       "    </tr>\n",
       "    <tr>\n",
       "      <th>深圳</th>\n",
       "      <td>0</td>\n",
       "    </tr>\n",
       "    <tr>\n",
       "      <th>清远</th>\n",
       "      <td>0</td>\n",
       "    </tr>\n",
       "    <tr>\n",
       "      <th>湛江</th>\n",
       "      <td>0</td>\n",
       "    </tr>\n",
       "    <tr>\n",
       "      <th>潮州</th>\n",
       "      <td>0</td>\n",
       "    </tr>\n",
       "    <tr>\n",
       "      <th>珠海</th>\n",
       "      <td>1</td>\n",
       "    </tr>\n",
       "    <tr>\n",
       "      <th>肇庆</th>\n",
       "      <td>0</td>\n",
       "    </tr>\n",
       "    <tr>\n",
       "      <th>茂名</th>\n",
       "      <td>0</td>\n",
       "    </tr>\n",
       "    <tr>\n",
       "      <th>阳江</th>\n",
       "      <td>0</td>\n",
       "    </tr>\n",
       "  </tbody>\n",
       "</table>\n",
       "</div>"
      ],
      "text/plain": [
       "     实际验收交维时间\n",
       "分公司          \n",
       "东莞          0\n",
       "中山          0\n",
       "佛山          4\n",
       "广州          1\n",
       "惠州          1\n",
       "揭阳          0\n",
       "汕尾          0\n",
       "江门          0\n",
       "深圳          0\n",
       "清远          0\n",
       "湛江          0\n",
       "潮州          0\n",
       "珠海          1\n",
       "肇庆          0\n",
       "茂名          0\n",
       "阳江          0"
      ]
     },
     "execution_count": 36,
     "metadata": {},
     "output_type": "execute_result"
    }
   ],
   "source": [
    "'''子系统个数'''\n",
    "df2.groupby('分公司').count()[['实际验收交维时间']]"
   ]
  },
  {
   "cell_type": "code",
   "execution_count": 22,
   "metadata": {
    "collapsed": false
   },
   "outputs": [],
   "source": [
    "在831前完成个数 = pd.merge(df2.groupby('分公司').count()[['PM子系统子项目名称']],cplbefore831groupbyed[['计划验收交维时间']],left_index=True, right_index=True,how='outer')"
   ]
  },
  {
   "cell_type": "code",
   "execution_count": 23,
   "metadata": {
    "collapsed": false
   },
   "outputs": [],
   "source": [
    "在831前完成个数.to_excel('F:\\\\test\\\\计划在831前完成个数.xlsx')"
   ]
  },
  {
   "cell_type": "code",
   "execution_count": 24,
   "metadata": {
    "collapsed": false
   },
   "outputs": [
    {
     "data": {
      "text/plain": [
       "0.6636085626911316"
      ]
     },
     "execution_count": 24,
     "metadata": {},
     "output_type": "execute_result"
    }
   ],
   "source": [
    "217/327"
   ]
  },
  {
   "cell_type": "code",
   "execution_count": 25,
   "metadata": {
    "collapsed": false
   },
   "outputs": [
    {
     "data": {
      "text/html": [
       "<div>\n",
       "<table border=\"1\" class=\"dataframe\">\n",
       "  <thead>\n",
       "    <tr style=\"text-align: right;\">\n",
       "      <th></th>\n",
       "      <th>计划验收交维时间</th>\n",
       "    </tr>\n",
       "    <tr>\n",
       "      <th>分公司</th>\n",
       "      <th></th>\n",
       "    </tr>\n",
       "  </thead>\n",
       "  <tbody>\n",
       "    <tr>\n",
       "      <th>东莞</th>\n",
       "      <td>67</td>\n",
       "    </tr>\n",
       "    <tr>\n",
       "      <th>中山</th>\n",
       "      <td>33</td>\n",
       "    </tr>\n",
       "    <tr>\n",
       "      <th>佛山</th>\n",
       "      <td>28</td>\n",
       "    </tr>\n",
       "    <tr>\n",
       "      <th>广州</th>\n",
       "      <td>55</td>\n",
       "    </tr>\n",
       "    <tr>\n",
       "      <th>惠州</th>\n",
       "      <td>26</td>\n",
       "    </tr>\n",
       "    <tr>\n",
       "      <th>揭阳</th>\n",
       "      <td>6</td>\n",
       "    </tr>\n",
       "    <tr>\n",
       "      <th>汕尾</th>\n",
       "      <td>2</td>\n",
       "    </tr>\n",
       "    <tr>\n",
       "      <th>江门</th>\n",
       "      <td>12</td>\n",
       "    </tr>\n",
       "    <tr>\n",
       "      <th>深圳</th>\n",
       "      <td>29</td>\n",
       "    </tr>\n",
       "    <tr>\n",
       "      <th>清远</th>\n",
       "      <td>8</td>\n",
       "    </tr>\n",
       "    <tr>\n",
       "      <th>湛江</th>\n",
       "      <td>3</td>\n",
       "    </tr>\n",
       "    <tr>\n",
       "      <th>潮州</th>\n",
       "      <td>3</td>\n",
       "    </tr>\n",
       "    <tr>\n",
       "      <th>珠海</th>\n",
       "      <td>19</td>\n",
       "    </tr>\n",
       "    <tr>\n",
       "      <th>肇庆</th>\n",
       "      <td>7</td>\n",
       "    </tr>\n",
       "    <tr>\n",
       "      <th>茂名</th>\n",
       "      <td>3</td>\n",
       "    </tr>\n",
       "    <tr>\n",
       "      <th>阳江</th>\n",
       "      <td>1</td>\n",
       "    </tr>\n",
       "  </tbody>\n",
       "</table>\n",
       "</div>"
      ],
      "text/plain": [
       "     计划验收交维时间\n",
       "分公司          \n",
       "东莞         67\n",
       "中山         33\n",
       "佛山         28\n",
       "广州         55\n",
       "惠州         26\n",
       "揭阳          6\n",
       "汕尾          2\n",
       "江门         12\n",
       "深圳         29\n",
       "清远          8\n",
       "湛江          3\n",
       "潮州          3\n",
       "珠海         19\n",
       "肇庆          7\n",
       "茂名          3\n",
       "阳江          1"
      ]
     },
     "execution_count": 25,
     "metadata": {},
     "output_type": "execute_result"
    }
   ],
   "source": [
    "'''在9月30日前完成数'''\n",
    "cplbefore930df = df2[df2['计划验收交维时间'] <= datetime(2015,9,30)]\n",
    "cplbefore930df.groupby('分公司').count()[['计划验收交维时间']]"
   ]
  },
  {
   "cell_type": "code",
   "execution_count": 26,
   "metadata": {
    "collapsed": false
   },
   "outputs": [
    {
     "data": {
      "text/plain": [
       "计划验收交维时间    302\n",
       "dtype: int64"
      ]
     },
     "execution_count": 26,
     "metadata": {},
     "output_type": "execute_result"
    }
   ],
   "source": [
    "cplbefore930df.groupby('分公司').count()[['计划验收交维时间']].sum()"
   ]
  },
  {
   "cell_type": "code",
   "execution_count": 27,
   "metadata": {
    "collapsed": true
   },
   "outputs": [],
   "source": [
    "plancpl930merged = pd.merge(df2.groupby('分公司').count()[['PM子系统子项目名称']],cplbefore930df.groupby('分公司').count()[['计划验收交维时间']],left_index=True,right_index=True,how='outer')"
   ]
  },
  {
   "cell_type": "code",
   "execution_count": 28,
   "metadata": {
    "collapsed": false
   },
   "outputs": [
    {
     "data": {
      "text/html": [
       "<div>\n",
       "<table border=\"1\" class=\"dataframe\">\n",
       "  <thead>\n",
       "    <tr style=\"text-align: right;\">\n",
       "      <th></th>\n",
       "      <th>PM子系统子项目名称</th>\n",
       "      <th>计划验收交维时间</th>\n",
       "    </tr>\n",
       "    <tr>\n",
       "      <th>分公司</th>\n",
       "      <th></th>\n",
       "      <th></th>\n",
       "    </tr>\n",
       "  </thead>\n",
       "  <tbody>\n",
       "    <tr>\n",
       "      <th>东莞</th>\n",
       "      <td>67</td>\n",
       "      <td>67</td>\n",
       "    </tr>\n",
       "    <tr>\n",
       "      <th>中山</th>\n",
       "      <td>33</td>\n",
       "      <td>33</td>\n",
       "    </tr>\n",
       "    <tr>\n",
       "      <th>佛山</th>\n",
       "      <td>31</td>\n",
       "      <td>28</td>\n",
       "    </tr>\n",
       "    <tr>\n",
       "      <th>广州</th>\n",
       "      <td>84</td>\n",
       "      <td>55</td>\n",
       "    </tr>\n",
       "    <tr>\n",
       "      <th>惠州</th>\n",
       "      <td>26</td>\n",
       "      <td>26</td>\n",
       "    </tr>\n",
       "    <tr>\n",
       "      <th>揭阳</th>\n",
       "      <td>6</td>\n",
       "      <td>6</td>\n",
       "    </tr>\n",
       "    <tr>\n",
       "      <th>汕尾</th>\n",
       "      <td>2</td>\n",
       "      <td>2</td>\n",
       "    </tr>\n",
       "    <tr>\n",
       "      <th>江门</th>\n",
       "      <td>12</td>\n",
       "      <td>12</td>\n",
       "    </tr>\n",
       "    <tr>\n",
       "      <th>深圳</th>\n",
       "      <td>32</td>\n",
       "      <td>29</td>\n",
       "    </tr>\n",
       "    <tr>\n",
       "      <th>清远</th>\n",
       "      <td>19</td>\n",
       "      <td>8</td>\n",
       "    </tr>\n",
       "    <tr>\n",
       "      <th>湛江</th>\n",
       "      <td>3</td>\n",
       "      <td>3</td>\n",
       "    </tr>\n",
       "    <tr>\n",
       "      <th>潮州</th>\n",
       "      <td>11</td>\n",
       "      <td>3</td>\n",
       "    </tr>\n",
       "    <tr>\n",
       "      <th>珠海</th>\n",
       "      <td>19</td>\n",
       "      <td>19</td>\n",
       "    </tr>\n",
       "    <tr>\n",
       "      <th>肇庆</th>\n",
       "      <td>7</td>\n",
       "      <td>7</td>\n",
       "    </tr>\n",
       "    <tr>\n",
       "      <th>茂名</th>\n",
       "      <td>3</td>\n",
       "      <td>3</td>\n",
       "    </tr>\n",
       "    <tr>\n",
       "      <th>阳江</th>\n",
       "      <td>1</td>\n",
       "      <td>1</td>\n",
       "    </tr>\n",
       "  </tbody>\n",
       "</table>\n",
       "</div>"
      ],
      "text/plain": [
       "     PM子系统子项目名称  计划验收交维时间\n",
       "分公司                      \n",
       "东莞           67        67\n",
       "中山           33        33\n",
       "佛山           31        28\n",
       "广州           84        55\n",
       "惠州           26        26\n",
       "揭阳            6         6\n",
       "汕尾            2         2\n",
       "江门           12        12\n",
       "深圳           32        29\n",
       "清远           19         8\n",
       "湛江            3         3\n",
       "潮州           11         3\n",
       "珠海           19        19\n",
       "肇庆            7         7\n",
       "茂名            3         3\n",
       "阳江            1         1"
      ]
     },
     "execution_count": 28,
     "metadata": {},
     "output_type": "execute_result"
    }
   ],
   "source": [
    "plancpl930merged"
   ]
  },
  {
   "cell_type": "code",
   "execution_count": 29,
   "metadata": {
    "collapsed": false
   },
   "outputs": [
    {
     "data": {
      "text/html": [
       "<div>\n",
       "<table border=\"1\" class=\"dataframe\">\n",
       "  <thead>\n",
       "    <tr style=\"text-align: right;\">\n",
       "      <th></th>\n",
       "      <th>PM子系统子项目名称</th>\n",
       "      <th>计划验收交维时间</th>\n",
       "      <th>比例</th>\n",
       "    </tr>\n",
       "    <tr>\n",
       "      <th>分公司</th>\n",
       "      <th></th>\n",
       "      <th></th>\n",
       "      <th></th>\n",
       "    </tr>\n",
       "  </thead>\n",
       "  <tbody>\n",
       "    <tr>\n",
       "      <th>东莞</th>\n",
       "      <td>67</td>\n",
       "      <td>67</td>\n",
       "      <td>1.000000</td>\n",
       "    </tr>\n",
       "    <tr>\n",
       "      <th>中山</th>\n",
       "      <td>33</td>\n",
       "      <td>33</td>\n",
       "      <td>1.000000</td>\n",
       "    </tr>\n",
       "    <tr>\n",
       "      <th>惠州</th>\n",
       "      <td>26</td>\n",
       "      <td>26</td>\n",
       "      <td>1.000000</td>\n",
       "    </tr>\n",
       "    <tr>\n",
       "      <th>揭阳</th>\n",
       "      <td>6</td>\n",
       "      <td>6</td>\n",
       "      <td>1.000000</td>\n",
       "    </tr>\n",
       "    <tr>\n",
       "      <th>汕尾</th>\n",
       "      <td>2</td>\n",
       "      <td>2</td>\n",
       "      <td>1.000000</td>\n",
       "    </tr>\n",
       "    <tr>\n",
       "      <th>江门</th>\n",
       "      <td>12</td>\n",
       "      <td>12</td>\n",
       "      <td>1.000000</td>\n",
       "    </tr>\n",
       "    <tr>\n",
       "      <th>湛江</th>\n",
       "      <td>3</td>\n",
       "      <td>3</td>\n",
       "      <td>1.000000</td>\n",
       "    </tr>\n",
       "    <tr>\n",
       "      <th>珠海</th>\n",
       "      <td>19</td>\n",
       "      <td>19</td>\n",
       "      <td>1.000000</td>\n",
       "    </tr>\n",
       "    <tr>\n",
       "      <th>肇庆</th>\n",
       "      <td>7</td>\n",
       "      <td>7</td>\n",
       "      <td>1.000000</td>\n",
       "    </tr>\n",
       "    <tr>\n",
       "      <th>茂名</th>\n",
       "      <td>3</td>\n",
       "      <td>3</td>\n",
       "      <td>1.000000</td>\n",
       "    </tr>\n",
       "    <tr>\n",
       "      <th>阳江</th>\n",
       "      <td>1</td>\n",
       "      <td>1</td>\n",
       "      <td>1.000000</td>\n",
       "    </tr>\n",
       "    <tr>\n",
       "      <th>深圳</th>\n",
       "      <td>32</td>\n",
       "      <td>29</td>\n",
       "      <td>0.906250</td>\n",
       "    </tr>\n",
       "    <tr>\n",
       "      <th>佛山</th>\n",
       "      <td>31</td>\n",
       "      <td>28</td>\n",
       "      <td>0.903226</td>\n",
       "    </tr>\n",
       "    <tr>\n",
       "      <th>广州</th>\n",
       "      <td>84</td>\n",
       "      <td>55</td>\n",
       "      <td>0.654762</td>\n",
       "    </tr>\n",
       "    <tr>\n",
       "      <th>清远</th>\n",
       "      <td>19</td>\n",
       "      <td>8</td>\n",
       "      <td>0.421053</td>\n",
       "    </tr>\n",
       "    <tr>\n",
       "      <th>潮州</th>\n",
       "      <td>11</td>\n",
       "      <td>3</td>\n",
       "      <td>0.272727</td>\n",
       "    </tr>\n",
       "  </tbody>\n",
       "</table>\n",
       "</div>"
      ],
      "text/plain": [
       "     PM子系统子项目名称  计划验收交维时间        比例\n",
       "分公司                                \n",
       "东莞           67        67  1.000000\n",
       "中山           33        33  1.000000\n",
       "惠州           26        26  1.000000\n",
       "揭阳            6         6  1.000000\n",
       "汕尾            2         2  1.000000\n",
       "江门           12        12  1.000000\n",
       "湛江            3         3  1.000000\n",
       "珠海           19        19  1.000000\n",
       "肇庆            7         7  1.000000\n",
       "茂名            3         3  1.000000\n",
       "阳江            1         1  1.000000\n",
       "深圳           32        29  0.906250\n",
       "佛山           31        28  0.903226\n",
       "广州           84        55  0.654762\n",
       "清远           19         8  0.421053\n",
       "潮州           11         3  0.272727"
      ]
     },
     "execution_count": 29,
     "metadata": {},
     "output_type": "execute_result"
    }
   ],
   "source": [
    "plancpl930merged.fillna(0)\n",
    "plancplrename = ['PM子系统子项目名称', '计划验收交维时间','比例']\n",
    "plancpl930merged = plancpl930merged.reindex(columns=plancplrename)\n",
    "plancpl930merged['比例'] = plancpl930merged['计划验收交维时间']/ plancpl930merged['PM子系统子项目名称']\n",
    "plancpl930merged.fillna(0).sort('比例',ascending =0)  # ascending = 0 :降序，1:升降，default.\n"
   ]
  },
  {
   "cell_type": "code",
   "execution_count": 30,
   "metadata": {
    "collapsed": false
   },
   "outputs": [
    {
     "data": {
      "text/html": [
       "<div>\n",
       "<table border=\"1\" class=\"dataframe\">\n",
       "  <thead>\n",
       "    <tr style=\"text-align: right;\">\n",
       "      <th>分公司</th>\n",
       "      <th>东莞</th>\n",
       "      <th>中山</th>\n",
       "      <th>佛山</th>\n",
       "      <th>广州</th>\n",
       "      <th>惠州</th>\n",
       "      <th>揭阳</th>\n",
       "      <th>汕尾</th>\n",
       "      <th>江门</th>\n",
       "      <th>深圳</th>\n",
       "      <th>清远</th>\n",
       "      <th>湛江</th>\n",
       "      <th>潮州</th>\n",
       "      <th>珠海</th>\n",
       "      <th>肇庆</th>\n",
       "      <th>茂名</th>\n",
       "      <th>阳江</th>\n",
       "    </tr>\n",
       "  </thead>\n",
       "  <tbody>\n",
       "    <tr>\n",
       "      <th>PM子系统子项目名称</th>\n",
       "      <td>67</td>\n",
       "      <td>33</td>\n",
       "      <td>31.000000</td>\n",
       "      <td>84.000000</td>\n",
       "      <td>26</td>\n",
       "      <td>6</td>\n",
       "      <td>2</td>\n",
       "      <td>12</td>\n",
       "      <td>32.00000</td>\n",
       "      <td>19.000000</td>\n",
       "      <td>3</td>\n",
       "      <td>11.000000</td>\n",
       "      <td>19</td>\n",
       "      <td>7</td>\n",
       "      <td>3</td>\n",
       "      <td>1</td>\n",
       "    </tr>\n",
       "    <tr>\n",
       "      <th>计划验收交维时间</th>\n",
       "      <td>67</td>\n",
       "      <td>33</td>\n",
       "      <td>28.000000</td>\n",
       "      <td>55.000000</td>\n",
       "      <td>26</td>\n",
       "      <td>6</td>\n",
       "      <td>2</td>\n",
       "      <td>12</td>\n",
       "      <td>29.00000</td>\n",
       "      <td>8.000000</td>\n",
       "      <td>3</td>\n",
       "      <td>3.000000</td>\n",
       "      <td>19</td>\n",
       "      <td>7</td>\n",
       "      <td>3</td>\n",
       "      <td>1</td>\n",
       "    </tr>\n",
       "    <tr>\n",
       "      <th>比例</th>\n",
       "      <td>1</td>\n",
       "      <td>1</td>\n",
       "      <td>0.903226</td>\n",
       "      <td>0.654762</td>\n",
       "      <td>1</td>\n",
       "      <td>1</td>\n",
       "      <td>1</td>\n",
       "      <td>1</td>\n",
       "      <td>0.90625</td>\n",
       "      <td>0.421053</td>\n",
       "      <td>1</td>\n",
       "      <td>0.272727</td>\n",
       "      <td>1</td>\n",
       "      <td>1</td>\n",
       "      <td>1</td>\n",
       "      <td>1</td>\n",
       "    </tr>\n",
       "  </tbody>\n",
       "</table>\n",
       "</div>"
      ],
      "text/plain": [
       "分公司         东莞  中山         佛山         广州  惠州  揭阳  汕尾  江门        深圳         清远  \\\n",
       "PM子系统子项目名称  67  33  31.000000  84.000000  26   6   2  12  32.00000  19.000000   \n",
       "计划验收交维时间    67  33  28.000000  55.000000  26   6   2  12  29.00000   8.000000   \n",
       "比例           1   1   0.903226   0.654762   1   1   1   1   0.90625   0.421053   \n",
       "\n",
       "分公司         湛江         潮州  珠海  肇庆  茂名  阳江  \n",
       "PM子系统子项目名称   3  11.000000  19   7   3   1  \n",
       "计划验收交维时间     3   3.000000  19   7   3   1  \n",
       "比例           1   0.272727   1   1   1   1  "
      ]
     },
     "execution_count": 30,
     "metadata": {},
     "output_type": "execute_result"
    }
   ],
   "source": [
    "plancpl930merged.T"
   ]
  },
  {
   "cell_type": "code",
   "execution_count": null,
   "metadata": {
    "collapsed": true
   },
   "outputs": [],
   "source": []
  },
  {
   "cell_type": "code",
   "execution_count": 31,
   "metadata": {
    "collapsed": false
   },
   "outputs": [
    {
     "ename": "NameError",
     "evalue": "name '在9月30日前完工数' is not defined",
     "output_type": "error",
     "traceback": [
      "\u001b[1;31m---------------------------------------------------------------------------\u001b[0m",
      "\u001b[1;31mNameError\u001b[0m                                 Traceback (most recent call last)",
      "\u001b[1;32m<ipython-input-31-2fe15e97d94a>\u001b[0m in \u001b[0;36m<module>\u001b[1;34m()\u001b[0m\n\u001b[1;32m----> 1\u001b[1;33m \u001b[0m在9月30日前完工数\u001b[0m\u001b[1;33m.\u001b[0m\u001b[0mto_excel\u001b[0m\u001b[1;33m(\u001b[0m\u001b[1;34m'F:\\\\test\\\\计划在9月30日前完工数.xlsx'\u001b[0m\u001b[1;33m)\u001b[0m\u001b[1;33m\u001b[0m\u001b[0m\n\u001b[0m",
      "\u001b[1;31mNameError\u001b[0m: name '在9月30日前完工数' is not defined"
     ]
    }
   ],
   "source": [
    "在9月30日前完工数.to_excel('F:\\\\test\\\\计划在9月30日前完工数.xlsx')"
   ]
  },
  {
   "cell_type": "code",
   "execution_count": 32,
   "metadata": {
    "collapsed": false
   },
   "outputs": [
    {
     "data": {
      "text/plain": [
       "\"groupbyedCountdf =df2.groupby( '分公司').count()\\ngroupbyedCountdf = groupbyedCountdf[['PM子系统子项目名称','项目组成员']]\\ngroupbyedCountdf.to_excel('F:\\\\2015年\\\\客户工程\\\\光改\\\\bigdatecoming_光改周报\\\\分公司日报\\\\output\\\\分公司日报透视0817.xlsx',sheet_name='项目组')\\n\""
      ]
     },
     "execution_count": 32,
     "metadata": {},
     "output_type": "execute_result"
    }
   ],
   "source": [
    "'''groupbyedCountdf =df2.groupby( '分公司').count()\n",
    "groupbyedCountdf = groupbyedCountdf[['PM子系统子项目名称','项目组成员']]\n",
    "groupbyedCountdf.to_excel('F:\\\\2015年\\\\客户工程\\\\光改\\\\bigdatecoming_光改周报\\\\分公司日报\\\\output\\\\分公司日报透视0817.xlsx',sheet_name='项目组')\n",
    "'''"
   ]
  },
  {
   "cell_type": "code",
   "execution_count": 33,
   "metadata": {
    "collapsed": false
   },
   "outputs": [
    {
     "data": {
      "text/plain": [
       "\"groupbyedkg =kgdf2.groupby( '分公司').count()\\ngroupbyedys =ysdf2.groupby( '分公司').count()\\ngroupbyedsj =sjdf2.groupby( '分公司').count()\\ngroupbyedsjkc =sjkcdf2.groupby( '分公司').count()\""
      ]
     },
     "execution_count": 33,
     "metadata": {},
     "output_type": "execute_result"
    }
   ],
   "source": [
    "'''groupbyedkg =kgdf2.groupby( '分公司').count()\n",
    "groupbyedys =ysdf2.groupby( '分公司').count()\n",
    "groupbyedsj =sjdf2.groupby( '分公司').count()\n",
    "groupbyedsjkc =sjkcdf2.groupby( '分公司').count()'''"
   ]
  },
  {
   "cell_type": "code",
   "execution_count": 34,
   "metadata": {
    "collapsed": false
   },
   "outputs": [
    {
     "data": {
      "text/plain": [
       "\"groupbyedkg =groupbyedkg[['开工']]\\ngroupbyedkg.to_excel('F:\\\\2015年\\\\客户工程\\\\光改\\\\bigdatecoming_光改周报\\\\分公司日报\\\\output\\\\分公司日报开工透视0817.xlsx',sheet_name='开工')\\ngroupbyedys = groupbyedys[['验收交维']]\\ngroupbyedys.to_excel('F:\\\\2015年\\\\客户工程\\\\光改\\\\bigdatecoming_光改周报\\\\分公司日报\\\\output\\\\分公司日报验收透视0817.xlsx',sheet_name='验收交维')\\n\""
      ]
     },
     "execution_count": 34,
     "metadata": {},
     "output_type": "execute_result"
    }
   ],
   "source": [
    "'''groupbyedkg =groupbyedkg[['开工']]\n",
    "groupbyedkg.to_excel('F:\\\\2015年\\\\客户工程\\\\光改\\\\bigdatecoming_光改周报\\\\分公司日报\\\\output\\\\分公司日报开工透视0817.xlsx',sheet_name='开工')\n",
    "groupbyedys = groupbyedys[['验收交维']]\n",
    "groupbyedys.to_excel('F:\\\\2015年\\\\客户工程\\\\光改\\\\bigdatecoming_光改周报\\\\分公司日报\\\\output\\\\分公司日报验收透视0817.xlsx',sheet_name='验收交维')\n",
    "'''"
   ]
  },
  {
   "cell_type": "code",
   "execution_count": null,
   "metadata": {
    "collapsed": true
   },
   "outputs": [],
   "source": []
  }
 ],
 "metadata": {
  "kernelspec": {
   "display_name": "Python 3",
   "language": "python",
   "name": "python3"
  },
  "language_info": {
   "codemirror_mode": {
    "name": "ipython",
    "version": 3
   },
   "file_extension": ".py",
   "mimetype": "text/x-python",
   "name": "python",
   "nbconvert_exporter": "python",
   "pygments_lexer": "ipython3",
   "version": "3.4.3"
  }
 },
 "nbformat": 4,
 "nbformat_minor": 0
}
