{
 "cells": [
  {
   "cell_type": "code",
   "execution_count": 6,
   "metadata": {
    "collapsed": false
   },
   "outputs": [],
   "source": [
    "import tushare as ts\n",
    "import pandas as pd"
   ]
  },
  {
   "cell_type": "code",
   "execution_count": 7,
   "metadata": {
    "collapsed": false
   },
   "outputs": [],
   "source": [
    "#share_data_all = ts.get_today_all() # \n",
    "#share_data_all.head()"
   ]
  },
  {
   "cell_type": "code",
   "execution_count": 8,
   "metadata": {
    "collapsed": false
   },
   "outputs": [],
   "source": [
    "# all share data of today,columns name : code name changepercent trade open high low \n",
    "#share_data_all\n",
    "#code_all = share_data_all[['code','name']] \n",
    "#code_all.head()\n",
    "#code_all.to_excel('G:\\\\test\\\\allsharecode.xlsx',sheet_name='Sheet1')\n",
    "##for item in code_all:\n",
    "    \n",
    "##    if i < 20 :\n",
    "##        print(i+1,\":\",item)\n",
    "##    i = i + 1\n",
    "\n",
    "\n",
    "    "
   ]
  },
  {
   "cell_type": "code",
   "execution_count": 9,
   "metadata": {
    "collapsed": true
   },
   "outputs": [],
   "source": [
    "def getCode():\n",
    "    return ts.get_today_all()[['code','name']]"
   ]
  },
  {
   "cell_type": "code",
   "execution_count": 10,
   "metadata": {
    "collapsed": false
   },
   "outputs": [],
   "source": [
    "#ts.get_today_all()"
   ]
  },
  {
   "cell_type": "code",
   "execution_count": 11,
   "metadata": {
    "collapsed": false
   },
   "outputs": [],
   "source": [
    "#ts.get_hist_data('600848')"
   ]
  },
  {
   "cell_type": "code",
   "execution_count": 12,
   "metadata": {
    "collapsed": false
   },
   "outputs": [
    {
     "name": "stdout",
     "output_type": "stream",
     "text": [
      "[Getting data:]#####################################"
     ]
    }
   ],
   "source": [
    "codeNumberAll = getCode()"
   ]
  },
  {
   "cell_type": "code",
   "execution_count": 13,
   "metadata": {
    "collapsed": false
   },
   "outputs": [
    {
     "data": {
      "text/plain": [
       "0       601998\n",
       "1       600210\n",
       "2       601113\n",
       "3       600283\n",
       "4       002516\n",
       "5       300108\n",
       "6       300110\n",
       "7       600716\n",
       "8       002326\n",
       "9       600405\n",
       "10      600866\n",
       "11      002515\n",
       "12      002381\n",
       "13      002741\n",
       "14      300327\n",
       "15      300076\n",
       "16      300374\n",
       "17      300277\n",
       "18      000573\n",
       "19      000687\n",
       "20      300310\n",
       "21      300184\n",
       "22      002049\n",
       "23      300299\n",
       "24      300083\n",
       "25      601007\n",
       "26      603636\n",
       "27      603997\n",
       "28      002466\n",
       "29      002517\n",
       "         ...  \n",
       "2358    600287\n",
       "2359    000686\n",
       "2360    000514\n",
       "2361    300355\n",
       "2362    002350\n",
       "2363    600897\n",
       "2364    600769\n",
       "2365    002458\n",
       "2366    300013\n",
       "2367    000592\n",
       "2368    002500\n",
       "2369    600712\n",
       "2370    300413\n",
       "2371    002125\n",
       "2372    603366\n",
       "2373    600057\n",
       "2374    600325\n",
       "2375    600755\n",
       "2376    002600\n",
       "2377    000753\n",
       "2378    002166\n",
       "2379    002593\n",
       "2380    000020\n",
       "2381    600170\n",
       "2382    002571\n",
       "2383    600456\n",
       "2384    002053\n",
       "2385    300498\n",
       "2386    300197\n",
       "2387    002289\n",
       "Name: code, dtype: object"
      ]
     },
     "execution_count": 13,
     "metadata": {},
     "output_type": "execute_result"
    }
   ],
   "source": [
    "codeNumberAll.code"
   ]
  },
  {
   "cell_type": "code",
   "execution_count": 17,
   "metadata": {
    "collapsed": false
   },
   "outputs": [
    {
     "data": {
      "text/plain": [
       "dict"
      ]
     },
     "execution_count": 17,
     "metadata": {},
     "output_type": "execute_result"
    }
   ],
   "source": [
    "#i = 0\n",
    "hist_data = {}\n",
    "for item in codeNumberAll.code:\n",
    "#    print(item)\n",
    "#    if i < 2:\n",
    "    hist_data[item] = ts.get_hist_data(item).tail(10)\n",
    "\n",
    "type(hist_data)\n"
   ]
  },
  {
   "cell_type": "code",
   "execution_count": 15,
   "metadata": {
    "collapsed": false
   },
   "outputs": [],
   "source": [
    "#hist_data['002386']\n"
   ]
  },
  {
   "cell_type": "code",
   "execution_count": 16,
   "metadata": {
    "collapsed": false
   },
   "outputs": [
    {
     "ename": "NameError",
     "evalue": "name 'hist_data' is not defined",
     "output_type": "error",
     "traceback": [
      "\u001b[1;31m---------------------------------------------------------------------------\u001b[0m",
      "\u001b[1;31mNameError\u001b[0m                                 Traceback (most recent call last)",
      "\u001b[1;32m<ipython-input-16-3120b9805cdf>\u001b[0m in \u001b[0;36m<module>\u001b[1;34m()\u001b[0m\n\u001b[0;32m      2\u001b[0m \u001b[1;32mdef\u001b[0m \u001b[0mget_bar_of_number\u001b[0m\u001b[1;33m(\u001b[0m\u001b[0mnumber\u001b[0m\u001b[1;33m,\u001b[0m\u001b[0mhist_data\u001b[0m\u001b[1;33m)\u001b[0m\u001b[1;33m:\u001b[0m\u001b[1;33m\u001b[0m\u001b[0m\n\u001b[0;32m      3\u001b[0m     \u001b[1;32mreturn\u001b[0m \u001b[0mhist_data\u001b[0m\u001b[1;33m.\u001b[0m\u001b[0mtail\u001b[0m\u001b[1;33m(\u001b[0m\u001b[0mnumber\u001b[0m\u001b[1;33m)\u001b[0m\u001b[1;33m\u001b[0m\u001b[0m\n\u001b[1;32m----> 4\u001b[1;33m \u001b[1;32mfor\u001b[0m \u001b[0mkey\u001b[0m  \u001b[1;32min\u001b[0m \u001b[0mhist_data\u001b[0m\u001b[1;33m:\u001b[0m\u001b[1;33m\u001b[0m\u001b[0m\n\u001b[0m\u001b[0;32m      5\u001b[0m     \u001b[0mget_bar_of_number\u001b[0m\u001b[1;33m(\u001b[0m\u001b[1;36m10\u001b[0m\u001b[1;33m,\u001b[0m\u001b[0mhist_data\u001b[0m\u001b[1;33m[\u001b[0m\u001b[0mkey\u001b[0m\u001b[1;33m]\u001b[0m\u001b[1;33m)\u001b[0m\u001b[1;33m\u001b[0m\u001b[0m\n",
      "\u001b[1;31mNameError\u001b[0m: name 'hist_data' is not defined"
     ]
    }
   ],
   "source": [
    "#取得最近#根日线 return dataframe \n",
    "def get_bar_of_number(number,hist_data): \n",
    "    return hist_data.tail(number)\n",
    "for key  in hist_data:\n",
    "    get_bar_of_number(10,hist_data[key])"
   ]
  },
  {
   "cell_type": "code",
   "execution_count": 55,
   "metadata": {
    "collapsed": true
   },
   "outputs": [],
   "source": [
    "df_bar_ten = get_bar_of_number(10,hist_data['300352'])"
   ]
  },
  {
   "cell_type": "code",
   "execution_count": 57,
   "metadata": {
    "collapsed": false
   },
   "outputs": [],
   "source": [
    "def get_hist_data(codelist,number,startdate='2015-10-08',enddate='2015-11-08'):\n",
    "    #get the history data of the share which story in the codelist.and return a dict.\n",
    "    #get #number bars.reacent # bars.\n",
    "    hist_data = {}\n",
    "    for item in codelist:\n",
    "        hist_data[item] = ts.get_hist_data(item,start =startdate,end=enddate).tail(number)\n",
    "    return hist_data\n",
    "empty = get_hist_data(['300352'],10)\n"
   ]
  },
  {
   "cell_type": "code",
   "execution_count": 72,
   "metadata": {
    "collapsed": false
   },
   "outputs": [
    {
     "name": "stdout",
     "output_type": "stream",
     "text": [
      "True\n"
     ]
    }
   ],
   "source": [
    "if empty['300352']['low'].empty:\n",
    "    print(\"True\")\n"
   ]
  },
  {
   "cell_type": "code",
   "execution_count": 52,
   "metadata": {
    "collapsed": false
   },
   "outputs": [
    {
     "data": {
      "text/plain": [
       "'2015-09-15'"
      ]
     },
     "execution_count": 52,
     "metadata": {},
     "output_type": "execute_result"
    }
   ],
   "source": [
    "def find_low_index(df):\n",
    "    return df['low'].idxmin()\n",
    "index_min = find_low_index(hist_data['002386'])\n",
    "\n",
    "index_min"
   ]
  },
  {
   "cell_type": "code",
   "execution_count": 54,
   "metadata": {
    "collapsed": false
   },
   "outputs": [
    {
     "data": {
      "text/html": [
       "<div>\n",
       "<table border=\"1\" class=\"dataframe\">\n",
       "  <thead>\n",
       "    <tr style=\"text-align: right;\">\n",
       "      <th></th>\n",
       "      <th>open</th>\n",
       "      <th>high</th>\n",
       "      <th>close</th>\n",
       "      <th>low</th>\n",
       "      <th>volume</th>\n",
       "      <th>price_change</th>\n",
       "      <th>p_change</th>\n",
       "      <th>ma5</th>\n",
       "      <th>ma10</th>\n",
       "      <th>ma20</th>\n",
       "      <th>v_ma5</th>\n",
       "      <th>v_ma10</th>\n",
       "      <th>v_ma20</th>\n",
       "      <th>turnover</th>\n",
       "    </tr>\n",
       "    <tr>\n",
       "      <th>date</th>\n",
       "      <th></th>\n",
       "      <th></th>\n",
       "      <th></th>\n",
       "      <th></th>\n",
       "      <th></th>\n",
       "      <th></th>\n",
       "      <th></th>\n",
       "      <th></th>\n",
       "      <th></th>\n",
       "      <th></th>\n",
       "      <th></th>\n",
       "      <th></th>\n",
       "      <th></th>\n",
       "      <th></th>\n",
       "    </tr>\n",
       "  </thead>\n",
       "  <tbody>\n",
       "    <tr>\n",
       "      <th>2015-09-08</th>\n",
       "      <td>24.42</td>\n",
       "      <td>26.38</td>\n",
       "      <td>26.20</td>\n",
       "      <td>24.24</td>\n",
       "      <td>33769.69</td>\n",
       "      <td>1.68</td>\n",
       "      <td>6.85</td>\n",
       "      <td>24.848</td>\n",
       "      <td>25.897</td>\n",
       "      <td>31.797</td>\n",
       "      <td>35226.58</td>\n",
       "      <td>38948.02</td>\n",
       "      <td>47078.39</td>\n",
       "      <td>6.62</td>\n",
       "    </tr>\n",
       "    <tr>\n",
       "      <th>2015-09-09</th>\n",
       "      <td>26.20</td>\n",
       "      <td>27.49</td>\n",
       "      <td>27.38</td>\n",
       "      <td>25.71</td>\n",
       "      <td>52848.05</td>\n",
       "      <td>1.20</td>\n",
       "      <td>4.58</td>\n",
       "      <td>25.108</td>\n",
       "      <td>25.805</td>\n",
       "      <td>31.100</td>\n",
       "      <td>38376.15</td>\n",
       "      <td>41760.54</td>\n",
       "      <td>45566.44</td>\n",
       "      <td>10.36</td>\n",
       "    </tr>\n",
       "    <tr>\n",
       "      <th>2015-09-10</th>\n",
       "      <td>26.82</td>\n",
       "      <td>26.99</td>\n",
       "      <td>25.91</td>\n",
       "      <td>25.83</td>\n",
       "      <td>35280.60</td>\n",
       "      <td>-1.42</td>\n",
       "      <td>-5.20</td>\n",
       "      <td>25.602</td>\n",
       "      <td>25.849</td>\n",
       "      <td>30.357</td>\n",
       "      <td>36937.74</td>\n",
       "      <td>41776.54</td>\n",
       "      <td>43276.70</td>\n",
       "      <td>6.92</td>\n",
       "    </tr>\n",
       "    <tr>\n",
       "      <th>2015-09-11</th>\n",
       "      <td>25.81</td>\n",
       "      <td>26.49</td>\n",
       "      <td>26.01</td>\n",
       "      <td>25.53</td>\n",
       "      <td>20349.59</td>\n",
       "      <td>0.10</td>\n",
       "      <td>0.39</td>\n",
       "      <td>26.004</td>\n",
       "      <td>25.860</td>\n",
       "      <td>29.718</td>\n",
       "      <td>33952.77</td>\n",
       "      <td>38042.13</td>\n",
       "      <td>41264.88</td>\n",
       "      <td>3.99</td>\n",
       "    </tr>\n",
       "    <tr>\n",
       "      <th>2015-09-14</th>\n",
       "      <td>26.31</td>\n",
       "      <td>26.50</td>\n",
       "      <td>23.43</td>\n",
       "      <td>23.43</td>\n",
       "      <td>33494.80</td>\n",
       "      <td>-2.60</td>\n",
       "      <td>-9.99</td>\n",
       "      <td>25.786</td>\n",
       "      <td>25.537</td>\n",
       "      <td>28.901</td>\n",
       "      <td>35148.55</td>\n",
       "      <td>37289.44</td>\n",
       "      <td>40903.45</td>\n",
       "      <td>6.57</td>\n",
       "    </tr>\n",
       "    <tr>\n",
       "      <th>2015-09-15</th>\n",
       "      <td>22.51</td>\n",
       "      <td>25.77</td>\n",
       "      <td>25.77</td>\n",
       "      <td>22.33</td>\n",
       "      <td>65304.94</td>\n",
       "      <td>2.34</td>\n",
       "      <td>9.99</td>\n",
       "      <td>25.700</td>\n",
       "      <td>25.274</td>\n",
       "      <td>28.169</td>\n",
       "      <td>41455.60</td>\n",
       "      <td>38341.09</td>\n",
       "      <td>40892.22</td>\n",
       "      <td>12.80</td>\n",
       "    </tr>\n",
       "    <tr>\n",
       "      <th>2015-09-16</th>\n",
       "      <td>26.85</td>\n",
       "      <td>28.35</td>\n",
       "      <td>28.35</td>\n",
       "      <td>26.00</td>\n",
       "      <td>120758.79</td>\n",
       "      <td>2.58</td>\n",
       "      <td>10.01</td>\n",
       "      <td>25.894</td>\n",
       "      <td>25.501</td>\n",
       "      <td>27.626</td>\n",
       "      <td>55037.74</td>\n",
       "      <td>46706.95</td>\n",
       "      <td>44689.50</td>\n",
       "      <td>23.68</td>\n",
       "    </tr>\n",
       "    <tr>\n",
       "      <th>2015-09-17</th>\n",
       "      <td>28.00</td>\n",
       "      <td>31.19</td>\n",
       "      <td>31.19</td>\n",
       "      <td>27.52</td>\n",
       "      <td>129598.38</td>\n",
       "      <td>2.84</td>\n",
       "      <td>10.02</td>\n",
       "      <td>26.950</td>\n",
       "      <td>26.276</td>\n",
       "      <td>27.421</td>\n",
       "      <td>73901.30</td>\n",
       "      <td>55419.52</td>\n",
       "      <td>48555.42</td>\n",
       "      <td>25.41</td>\n",
       "    </tr>\n",
       "    <tr>\n",
       "      <th>2015-09-18</th>\n",
       "      <td>31.65</td>\n",
       "      <td>34.31</td>\n",
       "      <td>34.31</td>\n",
       "      <td>30.00</td>\n",
       "      <td>127270.36</td>\n",
       "      <td>3.12</td>\n",
       "      <td>10.00</td>\n",
       "      <td>28.610</td>\n",
       "      <td>27.307</td>\n",
       "      <td>27.345</td>\n",
       "      <td>95285.45</td>\n",
       "      <td>64619.11</td>\n",
       "      <td>52383.44</td>\n",
       "      <td>24.95</td>\n",
       "    </tr>\n",
       "    <tr>\n",
       "      <th>2015-09-21</th>\n",
       "      <td>34.90</td>\n",
       "      <td>37.74</td>\n",
       "      <td>37.74</td>\n",
       "      <td>33.58</td>\n",
       "      <td>77980.40</td>\n",
       "      <td>3.43</td>\n",
       "      <td>10.00</td>\n",
       "      <td>31.472</td>\n",
       "      <td>28.629</td>\n",
       "      <td>27.527</td>\n",
       "      <td>104182.57</td>\n",
       "      <td>69665.56</td>\n",
       "      <td>54690.20</td>\n",
       "      <td>15.29</td>\n",
       "    </tr>\n",
       "  </tbody>\n",
       "</table>\n",
       "</div>"
      ],
      "text/plain": [
       "             open   high  close    low     volume  price_change  p_change  \\\n",
       "date                                                                        \n",
       "2015-09-08  24.42  26.38  26.20  24.24   33769.69          1.68      6.85   \n",
       "2015-09-09  26.20  27.49  27.38  25.71   52848.05          1.20      4.58   \n",
       "2015-09-10  26.82  26.99  25.91  25.83   35280.60         -1.42     -5.20   \n",
       "2015-09-11  25.81  26.49  26.01  25.53   20349.59          0.10      0.39   \n",
       "2015-09-14  26.31  26.50  23.43  23.43   33494.80         -2.60     -9.99   \n",
       "2015-09-15  22.51  25.77  25.77  22.33   65304.94          2.34      9.99   \n",
       "2015-09-16  26.85  28.35  28.35  26.00  120758.79          2.58     10.01   \n",
       "2015-09-17  28.00  31.19  31.19  27.52  129598.38          2.84     10.02   \n",
       "2015-09-18  31.65  34.31  34.31  30.00  127270.36          3.12     10.00   \n",
       "2015-09-21  34.90  37.74  37.74  33.58   77980.40          3.43     10.00   \n",
       "\n",
       "               ma5    ma10    ma20      v_ma5    v_ma10    v_ma20  turnover  \n",
       "date                                                                         \n",
       "2015-09-08  24.848  25.897  31.797   35226.58  38948.02  47078.39      6.62  \n",
       "2015-09-09  25.108  25.805  31.100   38376.15  41760.54  45566.44     10.36  \n",
       "2015-09-10  25.602  25.849  30.357   36937.74  41776.54  43276.70      6.92  \n",
       "2015-09-11  26.004  25.860  29.718   33952.77  38042.13  41264.88      3.99  \n",
       "2015-09-14  25.786  25.537  28.901   35148.55  37289.44  40903.45      6.57  \n",
       "2015-09-15  25.700  25.274  28.169   41455.60  38341.09  40892.22     12.80  \n",
       "2015-09-16  25.894  25.501  27.626   55037.74  46706.95  44689.50     23.68  \n",
       "2015-09-17  26.950  26.276  27.421   73901.30  55419.52  48555.42     25.41  \n",
       "2015-09-18  28.610  27.307  27.345   95285.45  64619.11  52383.44     24.95  \n",
       "2015-09-21  31.472  28.629  27.527  104182.57  69665.56  54690.20     15.29  "
      ]
     },
     "execution_count": 54,
     "metadata": {},
     "output_type": "execute_result"
    }
   ],
   "source": [
    "df_bar_ten"
   ]
  },
  {
   "cell_type": "code",
   "execution_count": 37,
   "metadata": {
    "collapsed": false
   },
   "outputs": [
    {
     "data": {
      "text/plain": [
       "22.329999999999998"
      ]
     },
     "execution_count": 37,
     "metadata": {},
     "output_type": "execute_result"
    }
   ],
   "source": [
    "min(df_bar_ten.low)"
   ]
  },
  {
   "cell_type": "code",
   "execution_count": 38,
   "metadata": {
    "collapsed": false
   },
   "outputs": [
    {
     "data": {
      "text/plain": [
       "'2015-09-15'"
      ]
     },
     "execution_count": 38,
     "metadata": {},
     "output_type": "execute_result"
    }
   ],
   "source": [
    "df_bar_ten['low'].idxmin()\n"
   ]
  },
  {
   "cell_type": "code",
   "execution_count": 29,
   "metadata": {
    "collapsed": false
   },
   "outputs": [],
   "source": [
    "#codeofall = pd.read_excel('C:\\\\users\\\\xiewy\\\\allsharecode.xlsx',sheetname='Sheet1')\n",
    "#codeofall[['code']]"
   ]
  }
 ],
 "metadata": {
  "kernelspec": {
   "display_name": "Python 3",
   "language": "python",
   "name": "python3"
  },
  "language_info": {
   "codemirror_mode": {
    "name": "ipython",
    "version": 3
   },
   "file_extension": ".py",
   "mimetype": "text/x-python",
   "name": "python",
   "nbconvert_exporter": "python",
   "pygments_lexer": "ipython3",
   "version": "3.4.3"
  }
 },
 "nbformat": 4,
 "nbformat_minor": 0
}
