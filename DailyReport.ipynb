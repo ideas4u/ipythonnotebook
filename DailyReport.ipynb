{
 "cells": [
  {
   "cell_type": "code",
   "execution_count": 11,
   "metadata": {
    "collapsed": false
   },
   "outputs": [],
   "source": [
    "import pandas as pd\n",
    "import os\n",
    "from string import Template\n",
    "from datetime import timedelta, date"
   ]
  },
  {
   "cell_type": "code",
   "execution_count": 12,
   "metadata": {
    "collapsed": false
   },
   "outputs": [],
   "source": [
    "-"
   ]
  },
  {
   "cell_type": "code",
   "execution_count": 13,
   "metadata": {
    "collapsed": false
   },
   "outputs": [
    {
     "name": "stdout",
     "output_type": "stream",
     "text": [
      "2015-08-11\n"
     ]
    },
    {
     "data": {
      "text/plain": [
       "[{'dateoftoday': datetime.date(2015, 8, 11),\n",
       "  'finishimportsubprojectnumber': 161,\n",
       "  'importsubprojectnumber': 161,\n",
       "  'lixiangmoney': 7009.2699999999977,\n",
       "  'lixiangnumber': 61,\n",
       "  'ratefinishimportsubprojectnumber': 0.47492625368731561,\n",
       "  'rateimportsubprojectnumber': 0.47492625368731561,\n",
       "  'ratelixiangmoney': 0.43413391174333732,\n",
       "  'ratestartproject': 0.90773167110652486,\n",
       "  'ratesubprojectmembernumber': 0.94985250737463123,\n",
       "  'ratesubprojectnumber': 0.94985250737463123,\n",
       "  'startproject': 116,\n",
       "  'startprojectmoney': 14655.700000000001,\n",
       "  'subprojectmembernumber': 322,\n",
       "  'subprojectnumber': 322,\n",
       "  'upfinishimportsubprojectnumber': 43,\n",
       "  'upimportsubprojectnumber': 43,\n",
       "  'uplixiangnumber': 1734.5199999999986,\n",
       "  'upnumber': 1627.3499999999985,\n",
       "  'upsubprojectmembernumber': 12,\n",
       "  'upsubprojectnumber': 12}]"
      ]
     },
     "execution_count": 13,
     "metadata": {},
     "output_type": "execute_result"
    }
   ],
   "source": [
    "print(date.today())\n",
    "dailydata = []\n",
    "dailydata.append(dict(dateoftoday = date.today(),startproject = startProject, startprojectmoney = startProjectMoney,ratestartproject = rateStartProject,\\\n",
    "                      upnumber = upNumber,lixiangnumber = lixiangNumber,lixiangmoney = lixiangMoney,ratelixiangmoney = ratelixiangMoney,\\\n",
    "                      uplixiangnumber = uplixiangNumber,subprojectnumber = subprojectNumber,ratesubprojectnumber = ratesubprojectNumber,\\\n",
    "                      upsubprojectnumber = upsubprojectNumber,subprojectmembernumber = subprojectMemberNumber,ratesubprojectmembernumber = ratesubprojectMemberNumber,\\\n",
    "                      upsubprojectmembernumber = upsubprojectMemberNumber,importsubprojectnumber=importsubprojectNumber,rateimportsubprojectnumber=\\\n",
    "                      rateimportsubprojectNumber,upimportsubprojectnumber=upimportsubprojectNumber,finishimportsubprojectnumber=finishimportsubprojectNumber,\\\n",
    "                      ratefinishimportsubprojectnumber = ratefinishimportsubprojectNumber,upfinishimportsubprojectnumber=upfinishimportsubprojectNumber))\n",
    "dailydata"
   ]
  },
  {
   "cell_type": "code",
   "execution_count": 14,
   "metadata": {
    "collapsed": false
   },
   "outputs": [
    {
     "data": {
      "text/plain": [
       "<function TextIOWrapper.close>"
      ]
     },
     "execution_count": 14,
     "metadata": {},
     "output_type": "execute_result"
    }
   ],
   "source": [
    "t_lixiang = Template(\"\\t\\t\\t\\t\\t\\t\\t\\t沃光改专项进度日报表\\n一.立项情况\\n截止 $dateoftoday 17点, '沃光改专项'已启动PMS立项 $startproject 个,\\\n",
    "启动立项金额 $startprojectmoney 万元($ratestartproject),比昨天增加$upnumber万元.完成PMS立项$lixiangnumber个,立项批复金额 $lixiangmoney 万元($ratelixiangmoney).\\\n",
    "比昨天增加 $uplixiangnumber 万元.已上报接入间子项目 $subprojectnumber 个($ratesubprojectnumber),比昨天增加 $upsubprojectnumber 个.已确定项目组成员的接入间子项目 \\\n",
    "$subprojectmembernumber 个($ratesubprojectmembernumber),比昨天增加 $upsubprojectmembernumber 个.启动录入PM子系统项目 $importsubprojectnumber 个($rateimportsubprojectnumber)\\\n",
    ",比昨天增加$upimportsubprojectnumber个.完成PM子系统录入项目 $finishimportsubprojectnumber 个($ratefinishimportsubprojectnumber),比昨天增加$upfinishimportsubprojectnumber个.\")\n",
    "f = open('F:\\\\2015年\\\\客户工程\\\\光改\\\\bigdatecoming_光改周报\\\\分公司日报\\\\output\\\\dailyreportlx0810.txt','w')\n",
    "print(t_lixiang.substitute(dailydata[0]),file = f)\n",
    "f.close\n"
   ]
  },
  {
   "cell_type": "code",
   "execution_count": 15,
   "metadata": {
    "collapsed": false
   },
   "outputs": [
    {
     "data": {
      "text/plain": [
       "['中山', '惠州', '湛江', '揭阳', '汕尾']"
      ]
     },
     "execution_count": 15,
     "metadata": {},
     "output_type": "execute_result"
    }
   ],
   "source": [
    "sjsheetName = '设计数据'\n",
    "sjdf = pd.read_excel(file_name,sheetname=sjsheetName,header=1)\n",
    "thecitylow = sjdf[sjdf['设计会审完成数']==0]['地市'] #未有项目完成会审的地市\n",
    "listlowcity = []\n",
    "for item in thecitylow:\n",
    "    listlowcity.append(item)\n",
    "listlowcity"
   ]
  },
  {
   "cell_type": "code",
   "execution_count": 6,
   "metadata": {
    "collapsed": true
   },
   "outputs": [],
   "source": [
    "startsjNumber = sjdf.ix[16,'设计勘察启动数']\n",
    "upstartsjNumber = sjdf.ix[16,'较昨天增加']\n",
    "ratestartsjNumber = sjdf.ix[16,'设计启动比例']\n",
    "finishsjhsNumber = sjdf.ix[16,'设计会审完成数']\n",
    "upfinishsjhsNumber = sjdf.ix[16,'较昨天增加.1']\n",
    "ratefinishsjhsNumber = sjdf.ix[16,'设计会审完成比例']"
   ]
  },
  {
   "cell_type": "code",
   "execution_count": 16,
   "metadata": {
    "collapsed": true
   },
   "outputs": [],
   "source": [
    "dailysjdata = []\n",
    "dailysjdata.append(dict(startsjnumber = startsjNumber,upstartsjnumber = upstartsjNumber,ratestartsjnumber = ratestartsjNumber,\\\n",
    "                       finishsjhsnumber=finishsjhsNumber,upfinishsjhsnumber=upfinishsjhsNumber,ratefinishsjhsnumber=ratefinishsjhsNumber))"
   ]
  },
  {
   "cell_type": "code",
   "execution_count": 17,
   "metadata": {
    "collapsed": false
   },
   "outputs": [
    {
     "data": {
      "text/plain": [
       "<function TextIOWrapper.close>"
      ]
     },
     "execution_count": 17,
     "metadata": {},
     "output_type": "execute_result"
    }
   ],
   "source": [
    "t_sj = Template(\"沃智慧光改专项全省16地市批复标包30个共339个接入间,启动设计勘察$startsjnumber个接入间，较昨天增加$upstartsjnumber个，启动比例$ratestartsjnumber,设计会审完成$finishsjhsnumber,比昨天增加$upfinishsjhsnumber个，完成比例$ratefinishsjhsnumber.\")\n",
    "fl = open('F:\\\\2015年\\\\客户工程\\\\光改\\\\bigdatecoming_光改周报\\\\分公司日报\\\\output\\\\dailyreportsj0810.txt','w')\n",
    "print(t_sj.substitute(dailysjdata[0]),file = fl)\n",
    "print(\"均已启动设计勘察。\",file = fl)\n",
    "print(\"未有项目完成设计会审的地市：{0}\".format(listlowcity),file = fl)\n",
    "print(\"各地市具体情况如下：\",file = fl)\n",
    "fl.closefl.close"
   ]
  },
  {
   "cell_type": "code",
   "execution_count": null,
   "metadata": {
    "collapsed": true
   },
   "outputs": [],
   "source": []
  },
  {
   "cell_type": "code",
   "execution_count": null,
   "metadata": {
    "collapsed": true
   },
   "outputs": [],
   "source": []
  }
 ],
 "metadata": {
  "kernelspec": {
   "display_name": "Python 3",
   "language": "python",
   "name": "python3"
  },
  "language_info": {
   "codemirror_mode": {
    "name": "ipython",
    "version": 3
   },
   "file_extension": ".py",
   "mimetype": "text/x-python",
   "name": "python",
   "nbconvert_exporter": "python",
   "pygments_lexer": "ipython3",
   "version": "3.4.3"
  }
 },
 "nbformat": 4,
 "nbformat_minor": 0
}
