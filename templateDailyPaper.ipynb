{
 "cells": [
  {
   "cell_type": "code",
   "execution_count": null,
   "metadata": {
    "collapsed": true
   },
   "outputs": [],
   "source": [
    "from string import Template\n",
    "def Main():\n",
    "    weekdata = []\n",
    "    weekdata.append(dict(sequent = 1,year = 2013, today = '8月5日',totalproject = 1113, songshencomplite = 1065,songshenjishirate = 96,slowcity = '江门、肇庆、茂名、珠海、韶关、梅州、汕尾、清远' ))\n",
    "    weekdata.append(dict(sequent = 2, year = 2014,today = '8月5日',totalproject = 1178, songshencomplite = 989,songshenjishirate = 84,slowcity = '湛江、深圳、梅州、肇庆、江门、河源、云浮、韶关、汕尾' ))\n",
    "    weekdata.append(dict(sequent = 3, year = 2015,today = '8月5日',totalproject = 367, songshencomplite = 116,songshenjishirate = 32,slowcity = '梅州、揭阳、湛江、珠海、深圳、潮州、清远、汕头、汕尾、韶关、云浮、中山' ))\n",
    "    t = Template(\"$sequent . $year 年项目,截止 $today ,全省验收完成30天的项目合计 $totalproject ,送审完成 $songshencomplite 个, 送审及时率为 $songshenjishirate% .\\n    送审低于全省平均的为：$slowcity .\") \n",
    "    f = open('F:\\\\2015年\\\\客户工程\\\\考核\\\\0805\\\\outfile.txt','w')\n",
    "    print(\"6、送审及时率\", file = f)\n",
    "    for data in weekdata:\n",
    "        print(t.substitute(data), file = f)\n",
    "        print(file = f)\n",
    "    f.close\n",
    "\n",
    "if __name__ == '__main__':\n",
    "\n",
    "    Main()    "
   ]
  }
 ],
 "metadata": {
  "kernelspec": {
   "display_name": "Python 3",
   "language": "python",
   "name": "python3"
  },
  "language_info": {
   "codemirror_mode": {
    "name": "ipython",
    "version": 3
   },
   "file_extension": ".py",
   "mimetype": "text/x-python",
   "name": "python",
   "nbconvert_exporter": "python",
   "pygments_lexer": "ipython3",
   "version": "3.4.3"
  }
 },
 "nbformat": 4,
 "nbformat_minor": 0
}
