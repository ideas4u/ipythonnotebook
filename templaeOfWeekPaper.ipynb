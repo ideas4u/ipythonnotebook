{
 "cells": [
  {
   "cell_type": "code",
   "execution_count": 3,
   "metadata": {
    "collapsed": false
   },
   "outputs": [],
   "source": [
    "from string import Template\n",
    "def Main():\n",
    "    weekdata = []\n",
    "    weekdata.append(dict(sequent = 1,year = 2013, today = '8月19日',totalproject = 1113, songshencomplite = 1066,songshenjishirate = 96,slowcity = '江门、肇庆、茂名、珠海、韶关、梅州、汕尾、清远' ))\n",
    "    weekdata.append(dict(sequent = 2, year = 2014,today = '8月19日',totalproject = 1184, songshencomplite = 1005,songshenjishirate = 85,slowcity = '湛江、深圳、梅州、江门、河源、云浮、韶关、汕尾' ))\n",
    "    weekdata.append(dict(sequent = 3, year = 2015,today = '8月19日',totalproject = 459, songshencomplite = 152,songshenjishirate = 33,slowcity = '东莞、湛江、梅州、揭阳、中山、深圳、云浮、汕头、汕尾、清远、潮州、珠海、肇庆、韶关' ))\n",
    "    t = Template(\"$sequent . $year 年项目,截止 $today ,全省验收完成30天的项目合计 $totalproject ,送审完成 $songshencomplite 个, 送审及时率为 $songshenjishirate% .\\n    送审低于全省平均的为：$slowcity .\") \n",
    "    f = open('F:\\\\2015年\\\\客户工程\\\\考核\\\\0819\\\\outfile.txt','w')\n",
    "    print(\"6、送审及时率\", file = f)\n",
    "    for data in weekdata:\n",
    "        print(t.substitute(data), file = f)\n",
    "        print(file = f)\n",
    "    f.close\n",
    "\n",
    "if __name__ == '__main__':\n",
    "    Main()"
   ]
  },
  {
   "cell_type": "code",
   "execution_count": null,
   "metadata": {
    "collapsed": true
   },
   "outputs": [],
   "source": []
  }
 ],
 "metadata": {
  "kernelspec": {
   "display_name": "Python 3",
   "language": "python",
   "name": "python3"
  },
  "language_info": {
   "codemirror_mode": {
    "name": "ipython",
    "version": 3
   },
   "file_extension": ".py",
   "mimetype": "text/x-python",
   "name": "python",
   "nbconvert_exporter": "python",
   "pygments_lexer": "ipython3",
   "version": "3.4.3"
  }
 },
 "nbformat": 4,
 "nbformat_minor": 0
}
